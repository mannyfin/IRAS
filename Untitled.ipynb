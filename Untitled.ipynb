{
 "cells": [
  {
   "cell_type": "code",
   "execution_count": 17,
   "metadata": {},
   "outputs": [],
   "source": [
    "import numpy as np\n",
    "from sympy import *\n",
    "init_printing()"
   ]
  },
  {
   "cell_type": "code",
   "execution_count": 3,
   "metadata": {},
   "outputs": [],
   "source": [
    "x, y = symbols('x y', real=True)"
   ]
  },
  {
   "cell_type": "code",
   "execution_count": 4,
   "metadata": {},
   "outputs": [],
   "source": [
    "a = 0.7190027e-2\n",
    "b = 0.3956443e-5\n",
    "c = -0.1842722e-8\n",
    "d = 0.3471851e-12\n",
    "e = -0.2616792e-16\n",
    "k = -0.234471"
   ]
  },
  {
   "cell_type": "code",
   "execution_count": 18,
   "metadata": {},
   "outputs": [
    {
     "name": "stdout",
     "output_type": "stream",
     "text": [
      "-x - 2.616792e-17*y**5 + 3.471851e-13*y**4 - 1.842722e-9*y**3 + 3.956443e-6*y**2 + 0.007190027*y - 0.234471\n"
     ]
    }
   ],
   "source": [
    "# Eq(a*y + b*(y**2) + c*(y**3) + d*(y**4) + e*(y**5) + k -x)\n",
    "# solve(Eq(a*y + b*(y**2) + c*(y**3) + d*(y**4) + e*(y**5) + k -x),y)\n",
    "# solveset(Eq(a*y + b*(y**2) + c*(y**3) + k -x),y, domain=S.Reals)\n",
    "# solve(Eq(a*y + b*(y**2) + c*(y**3) + d*(y**4)+ k -x),y)\n",
    "equation = sympify(a*y + b*(y**2) + c*(y**3) + d*(y**4)+e*(y**5)+ k -x)\n",
    "print(equation)"
   ]
  },
  {
   "cell_type": "code",
   "execution_count": 20,
   "metadata": {},
   "outputs": [
    {
     "data": {
      "image/png": "[encoded data removed]",
      "text/latex": [
       "$$- x - 2.616792 \\cdot 10^{-17} y^{5} + 3.471851 \\cdot 10^{-13} y^{4} - 1.842722 \\cdot 10^{-9} y^{3} + 3.956443 \\cdot 10^{-6} y^{2} + 0.007190027 y - 0.234471 = 0$$"
      ],
      "text/plain": [
       "                   5                 4                3                2      \n",
       "-x - 2.616792e-17⋅y  + 3.471851e-13⋅y  - 1.842722e-9⋅y  + 3.956443e-6⋅y  + 0.0\n",
       "\n",
       "                         \n",
       "07190027⋅y - 0.234471 = 0"
      ]
     },
     "execution_count": 20,
     "metadata": {},
     "output_type": "execute_result"
    }
   ],
   "source": [
    "# equat = Eq(equation)\n",
    "Eq(equation)"
   ]
  },
  {
   "cell_type": "code",
   "execution_count": 19,
   "metadata": {},
   "outputs": [
    {
     "data": {
      "image/png": "[encoded data removed]",
      "text/latex": [
       "$$\\int \\sqrt{\\frac{1}{x}}\\, dx$$"
      ],
      "text/plain": [
       "⌠           \n",
       "⎮     ___   \n",
       "⎮    ╱ 1    \n",
       "⎮   ╱  ─  dx\n",
       "⎮ ╲╱   x    \n",
       "⌡           "
      ]
     },
     "execution_count": 19,
     "metadata": {},
     "output_type": "execute_result"
    }
   ],
   "source": [
    "T = np.arange(32,)"
   ]
  },
  {
   "cell_type": "code",
   "execution_count": null,
   "metadata": {},
   "outputs": [],
   "source": []
  }
 ],
 "metadata": {
  "kernelspec": {
   "display_name": "Python 3",
   "language": "python",
   "name": "python3"
  },
  "language_info": {
   "codemirror_mode": {
    "name": "ipython",
    "version": 3
   },
   "file_extension": ".py",
   "mimetype": "text/x-python",
   "name": "python",
   "nbconvert_exporter": "python",
   "pygments_lexer": "ipython3",
   "version": "3.6.3"
  }
 },
 "nbformat": 4,
 "nbformat_minor": 2
}
