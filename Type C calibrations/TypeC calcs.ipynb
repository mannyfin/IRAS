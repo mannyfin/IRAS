{
 "cells": [
  {
   "cell_type": "markdown",
   "metadata": {
    "collapsed": true
   },
   "source": [
    "# The situation\n",
    "\n",
    "Type C thermocouples are not NIST calibrated to below 273.15 K. For my research specific scenario, I need to cool my sample (Molybdenum) to cryogenic temperatures and also anneal to very high ~2000 K. There is no thermocouple with these properties. \n",
    "\n",
    "\n"
   ]
  },
  {
   "cell_type": "markdown",
   "metadata": {},
   "source": [
    "### The solution\n",
    "\n",
    "We know that Type K thermocouples are accurate down to cryogenic temperatures. So what I've done here is to read the Type K temperature and record the corresponding Type C mV to create a calibration table. Both thermocouples were spot welded to a large mass very close to one another to ensure the temperature readings will be accurate.\n",
    "\n",
    "Then I will use a polynomial fit to get the low T calibration for the Type C thermocouple."
   ]
  },
  {
   "cell_type": "code",
   "execution_count": null,
   "metadata": {
    "collapsed": true
   },
   "outputs": [],
   "source": [
    "# import a few packages\n",
    "%matplotlib notebook\n",
    "from thermocouples_reference import thermocouples\n",
    "import numpy as np\n",
    "import pandas as pd\n",
    "import matplotlib.pyplot as plt\n",
    "\n",
    "\n",
    "typeC=thermocouples['C']"
   ]
  },
  {
   "cell_type": "code",
   "execution_count": 2,
   "metadata": {},
   "outputs": [
    {
     "ename": "FileNotFoundError",
     "evalue": "[Errno 2] No such file or directory: 'Type C Table 4-2-18.xlsx'",
     "traceback": [
      "\u001b[1;31m---------------------------------------------------------------------------\u001b[0m",
      "\u001b[1;31mFileNotFoundError\u001b[0m                         Traceback (most recent call last)",
      "\u001b[1;32m<ipython-input-2-62153a413fdd>\u001b[0m in \u001b[0;36m<module>\u001b[1;34m()\u001b[0m\n\u001b[0;32m      1\u001b[0m \u001b[1;31m# make sure you are in the same dir as the file\u001b[0m\u001b[1;33m\u001b[0m\u001b[1;33m\u001b[0m\u001b[0m\n\u001b[0;32m      2\u001b[0m \u001b[1;31m# read in the file and drop Na cols\u001b[0m\u001b[1;33m\u001b[0m\u001b[1;33m\u001b[0m\u001b[0m\n\u001b[1;32m----> 3\u001b[1;33m \u001b[0mdf\u001b[0m \u001b[1;33m=\u001b[0m \u001b[0mpd\u001b[0m\u001b[1;33m.\u001b[0m\u001b[0mread_excel\u001b[0m\u001b[1;33m(\u001b[0m\u001b[1;34m'Type C Table 4-2-18.xlsx'\u001b[0m\u001b[1;33m)\u001b[0m\u001b[1;33m\u001b[0m\u001b[0m\n\u001b[0m\u001b[0;32m      4\u001b[0m \u001b[0mdf\u001b[0m\u001b[1;33m.\u001b[0m\u001b[0mdropna\u001b[0m\u001b[1;33m(\u001b[0m\u001b[0maxis\u001b[0m\u001b[1;33m=\u001b[0m\u001b[1;36m1\u001b[0m\u001b[1;33m,\u001b[0m \u001b[0minplace\u001b[0m\u001b[1;33m=\u001b[0m\u001b[1;32mTrue\u001b[0m\u001b[1;33m)\u001b[0m\u001b[1;33m\u001b[0m\u001b[0m\n\u001b[0;32m      5\u001b[0m \u001b[0mdf\u001b[0m\u001b[1;33m.\u001b[0m\u001b[0mhead\u001b[0m\u001b[1;33m(\u001b[0m\u001b[1;33m)\u001b[0m\u001b[1;33m\u001b[0m\u001b[0m\n",
      "\u001b[1;32mI:\\Anaconda3_6\\lib\\site-packages\\pandas\\io\\excel.py\u001b[0m in \u001b[0;36mread_excel\u001b[1;34m(io, sheetname, header, skiprows, skip_footer, index_col, names, parse_cols, parse_dates, date_parser, na_values, thousands, convert_float, has_index_names, converters, dtype, true_values, false_values, engine, squeeze, **kwds)\u001b[0m\n\u001b[0;32m    201\u001b[0m \u001b[1;33m\u001b[0m\u001b[0m\n\u001b[0;32m    202\u001b[0m     \u001b[1;32mif\u001b[0m \u001b[1;32mnot\u001b[0m \u001b[0misinstance\u001b[0m\u001b[1;33m(\u001b[0m\u001b[0mio\u001b[0m\u001b[1;33m,\u001b[0m \u001b[0mExcelFile\u001b[0m\u001b[1;33m)\u001b[0m\u001b[1;33m:\u001b[0m\u001b[1;33m\u001b[0m\u001b[0m\n\u001b[1;32m--> 203\u001b[1;33m         \u001b[0mio\u001b[0m \u001b[1;33m=\u001b[0m \u001b[0mExcelFile\u001b[0m\u001b[1;33m(\u001b[0m\u001b[0mio\u001b[0m\u001b[1;33m,\u001b[0m \u001b[0mengine\u001b[0m\u001b[1;33m=\u001b[0m\u001b[0mengine\u001b[0m\u001b[1;33m)\u001b[0m\u001b[1;33m\u001b[0m\u001b[0m\n\u001b[0m\u001b[0;32m    204\u001b[0m \u001b[1;33m\u001b[0m\u001b[0m\n\u001b[0;32m    205\u001b[0m     return io._parse_excel(\n",
      "\u001b[1;32mI:\\Anaconda3_6\\lib\\site-packages\\pandas\\io\\excel.py\u001b[0m in \u001b[0;36m__init__\u001b[1;34m(self, io, **kwds)\u001b[0m\n\u001b[0;32m    258\u001b[0m             \u001b[0mself\u001b[0m\u001b[1;33m.\u001b[0m\u001b[0mbook\u001b[0m \u001b[1;33m=\u001b[0m \u001b[0mxlrd\u001b[0m\u001b[1;33m.\u001b[0m\u001b[0mopen_workbook\u001b[0m\u001b[1;33m(\u001b[0m\u001b[0mfile_contents\u001b[0m\u001b[1;33m=\u001b[0m\u001b[0mdata\u001b[0m\u001b[1;33m)\u001b[0m\u001b[1;33m\u001b[0m\u001b[0m\n\u001b[0;32m    259\u001b[0m         \u001b[1;32melif\u001b[0m \u001b[0misinstance\u001b[0m\u001b[1;33m(\u001b[0m\u001b[0mio\u001b[0m\u001b[1;33m,\u001b[0m \u001b[0mcompat\u001b[0m\u001b[1;33m.\u001b[0m\u001b[0mstring_types\u001b[0m\u001b[1;33m)\u001b[0m\u001b[1;33m:\u001b[0m\u001b[1;33m\u001b[0m\u001b[0m\n\u001b[1;32m--> 260\u001b[1;33m             \u001b[0mself\u001b[0m\u001b[1;33m.\u001b[0m\u001b[0mbook\u001b[0m \u001b[1;33m=\u001b[0m \u001b[0mxlrd\u001b[0m\u001b[1;33m.\u001b[0m\u001b[0mopen_workbook\u001b[0m\u001b[1;33m(\u001b[0m\u001b[0mio\u001b[0m\u001b[1;33m)\u001b[0m\u001b[1;33m\u001b[0m\u001b[0m\n\u001b[0m\u001b[0;32m    261\u001b[0m         \u001b[1;32melse\u001b[0m\u001b[1;33m:\u001b[0m\u001b[1;33m\u001b[0m\u001b[0m\n\u001b[0;32m    262\u001b[0m             raise ValueError('Must explicitly set engine if not passing in'\n",
      "\u001b[1;32mI:\\Anaconda3_6\\lib\\site-packages\\xlrd\\__init__.py\u001b[0m in \u001b[0;36mopen_workbook\u001b[1;34m(filename, logfile, verbosity, use_mmap, file_contents, encoding_override, formatting_info, on_demand, ragged_rows)\u001b[0m\n\u001b[0;32m    114\u001b[0m         \u001b[0mpeek\u001b[0m \u001b[1;33m=\u001b[0m \u001b[0mfile_contents\u001b[0m\u001b[1;33m[\u001b[0m\u001b[1;33m:\u001b[0m\u001b[0mpeeksz\u001b[0m\u001b[1;33m]\u001b[0m\u001b[1;33m\u001b[0m\u001b[0m\n\u001b[0;32m    115\u001b[0m     \u001b[1;32melse\u001b[0m\u001b[1;33m:\u001b[0m\u001b[1;33m\u001b[0m\u001b[0m\n\u001b[1;32m--> 116\u001b[1;33m         \u001b[1;32mwith\u001b[0m \u001b[0mopen\u001b[0m\u001b[1;33m(\u001b[0m\u001b[0mfilename\u001b[0m\u001b[1;33m,\u001b[0m \u001b[1;34m\"rb\"\u001b[0m\u001b[1;33m)\u001b[0m \u001b[1;32mas\u001b[0m \u001b[0mf\u001b[0m\u001b[1;33m:\u001b[0m\u001b[1;33m\u001b[0m\u001b[0m\n\u001b[0m\u001b[0;32m    117\u001b[0m             \u001b[0mpeek\u001b[0m \u001b[1;33m=\u001b[0m \u001b[0mf\u001b[0m\u001b[1;33m.\u001b[0m\u001b[0mread\u001b[0m\u001b[1;33m(\u001b[0m\u001b[0mpeeksz\u001b[0m\u001b[1;33m)\u001b[0m\u001b[1;33m\u001b[0m\u001b[0m\n\u001b[0;32m    118\u001b[0m     \u001b[1;32mif\u001b[0m \u001b[0mpeek\u001b[0m \u001b[1;33m==\u001b[0m \u001b[1;34mb\"PK\\x03\\x04\"\u001b[0m\u001b[1;33m:\u001b[0m \u001b[1;31m# a ZIP file\u001b[0m\u001b[1;33m\u001b[0m\u001b[0m\n",
      "\u001b[1;31mFileNotFoundError\u001b[0m: [Errno 2] No such file or directory: 'Type C Table 4-2-18.xlsx'"
     ],
     "output_type": "error"
    }
   ],
   "source": [
    "# make sure you are in the same dir as the file\n",
    "# read in the file and drop Na cols\n",
    "df = pd.read_excel('Type C Table 4-2-18.xlsx')\n",
    "df.dropna(axis=1, inplace=True)\n",
    "df.head()"
   ]
  },
  {
   "cell_type": "code",
   "execution_count": 3,
   "metadata": {},
   "outputs": [
    {
     "data": {
      "text/html": [
       "<div>\n",
       "<style>\n",
       "    .dataframe thead tr:only-child th {\n",
       "        text-align: right;\n",
       "    }\n",
       "\n",
       "    .dataframe thead th {\n",
       "        text-align: left;\n",
       "    }\n",
       "\n",
       "    .dataframe tbody tr th {\n",
       "        vertical-align: top;\n",
       "    }\n",
       "</style>\n",
       "<table border=\"1\" class=\"dataframe\">\n",
       "  <thead>\n",
       "    <tr style=\"text-align: right;\">\n",
       "      <th></th>\n",
       "      <th>T</th>\n",
       "      <th>TypeKmV</th>\n",
       "      <th>CJC</th>\n",
       "      <th>TypeCmV</th>\n",
       "    </tr>\n",
       "  </thead>\n",
       "  <tbody>\n",
       "    <tr>\n",
       "      <th>0</th>\n",
       "      <td>295.68</td>\n",
       "      <td>0.90</td>\n",
       "      <td>25.27</td>\n",
       "      <td>0.021</td>\n",
       "    </tr>\n",
       "    <tr>\n",
       "      <th>1</th>\n",
       "      <td>292.79</td>\n",
       "      <td>0.78</td>\n",
       "      <td>25.27</td>\n",
       "      <td>-0.017</td>\n",
       "    </tr>\n",
       "    <tr>\n",
       "      <th>2</th>\n",
       "      <td>292.04</td>\n",
       "      <td>0.74</td>\n",
       "      <td>25.26</td>\n",
       "      <td>-0.028</td>\n",
       "    </tr>\n",
       "    <tr>\n",
       "      <th>3</th>\n",
       "      <td>291.22</td>\n",
       "      <td>0.72</td>\n",
       "      <td>25.26</td>\n",
       "      <td>-0.037</td>\n",
       "    </tr>\n",
       "    <tr>\n",
       "      <th>4</th>\n",
       "      <td>290.56</td>\n",
       "      <td>0.69</td>\n",
       "      <td>25.26</td>\n",
       "      <td>-0.045</td>\n",
       "    </tr>\n",
       "  </tbody>\n",
       "</table>\n",
       "</div>"
      ],
      "text/plain": [
       "        T  TypeKmV    CJC  TypeCmV\n",
       "0  295.68     0.90  25.27    0.021\n",
       "1  292.79     0.78  25.27   -0.017\n",
       "2  292.04     0.74  25.26   -0.028\n",
       "3  291.22     0.72  25.26   -0.037\n",
       "4  290.56     0.69  25.26   -0.045"
      ]
     },
     "execution_count": 3,
     "metadata": {},
     "output_type": "execute_result"
    }
   ],
   "source": [
    "# NIST has values calibrated for T > 273.15 K, lets find the Tref based on these points\n",
    "# I am using Kelvin for all T. The CJC is quoted in deg C.\n",
    "tempdf = df.query('T>273.15')\n",
    "tempdf.head()"
   ]
  },
  {
   "cell_type": "code",
   "execution_count": 4,
   "metadata": {
    "collapsed": true
   },
   "outputs": [],
   "source": [
    "# Let's find the T_ref by using this function to take the TypeC mV and the T to find the Tref\n",
    "def find_Tref(mV, T):\n",
    "    x = np.arange(290, 301, 0.01)\n",
    "    x = x[::-1] # lets reverse x\n",
    "    i = 1\n",
    "    while typeC.inverse_KmV(mV, Tref=x[i]) - T >= 0:\n",
    "        i += 1\n",
    "#     print(x[i])\n",
    "    return x[i]"
   ]
  },
  {
   "cell_type": "code",
   "execution_count": 5,
   "metadata": {
    "collapsed": true
   },
   "outputs": [],
   "source": [
    "# This isn't the fastest way to do things, but since its just a short amount of rows, lets iterate over the mV and T\n",
    "# to find Tref\n",
    "Treflist=[]\n",
    "for idx in tempdf.index:\n",
    "    # print(idx)\n",
    "    Treflist.append(find_Tref(mV=tempdf['TypeCmV'][idx], T=tempdf['T'][idx]))\n"
   ]
  },
  {
   "cell_type": "code",
   "execution_count": 6,
   "metadata": {},
   "outputs": [
    {
     "name": "stdout",
     "output_type": "stream",
     "text": [
      "['294.16', '294.01', '294.05', '293.89', '293.81', '293.93', '293.96', '294.15', '294.08', '294.21', '294.18', '294.30', '294.32', '294.24', '294.37', '294.28', '294.38', '294.37', '294.42', '294.42', '294.41', '294.42', '294.54', '294.47', '294.58', '294.48', '294.58', '294.55', '294.65', '294.71', '294.72', '294.60', '294.70', '294.71', '294.68', '294.72', '294.73', '294.81', '294.86', '294.78', '294.83', '294.74', '295.78', '294.98', '295.06', '294.99', '294.99', '294.92', '294.89', '294.95', '295.08', '294.91', '295.03', '295.05', '295.17', '295.11', '295.10', '295.12', '295.16', '295.20', '295.13', '295.19', '295.19', '295.25', '295.26', '295.24']\n"
     ]
    }
   ],
   "source": [
    "print( ['%0.2f'% x for x in Treflist])"
   ]
  },
  {
   "cell_type": "code",
   "execution_count": 7,
   "metadata": {},
   "outputs": [
    {
     "name": "stdout",
     "output_type": "stream",
     "text": [
      "294.6749999999957\n",
      "0.2937438416187858\n"
     ]
    }
   ],
   "source": [
    "# now average the Trefs:\n",
    "avg_Tref = np.mean(Treflist)\n",
    "print(avg_Tref)\n",
    "# I will use this Tref for further calcs\n",
    "Tref_emf = typeC.emf_mVK(avg_Tref)\n",
    "print(Tref_emf)\n",
    "# The Tref_emf value is very close to the value in the table at 273.15 K, so we'll use this value to correct the new values\n",
    "# The value taken at 273.15 K was during the cooling process and is likely to be less accurate than the room temperature value\n",
    "# across these multiple observations"
   ]
  },
  {
   "cell_type": "code",
   "execution_count": 8,
   "metadata": {},
   "outputs": [
    {
     "data": {
      "text/html": [
       "<div>\n",
       "<style>\n",
       "    .dataframe thead tr:only-child th {\n",
       "        text-align: right;\n",
       "    }\n",
       "\n",
       "    .dataframe thead th {\n",
       "        text-align: left;\n",
       "    }\n",
       "\n",
       "    .dataframe tbody tr th {\n",
       "        vertical-align: top;\n",
       "    }\n",
       "</style>\n",
       "<table border=\"1\" class=\"dataframe\">\n",
       "  <thead>\n",
       "    <tr style=\"text-align: right;\">\n",
       "      <th></th>\n",
       "      <th>T</th>\n",
       "      <th>TypeKmV</th>\n",
       "      <th>CJC</th>\n",
       "      <th>TypeCmV</th>\n",
       "      <th>TypeC_calib_mV</th>\n",
       "    </tr>\n",
       "  </thead>\n",
       "  <tbody>\n",
       "    <tr>\n",
       "      <th>0</th>\n",
       "      <td>295.68</td>\n",
       "      <td>0.90</td>\n",
       "      <td>25.27</td>\n",
       "      <td>0.021</td>\n",
       "      <td>0.314744</td>\n",
       "    </tr>\n",
       "    <tr>\n",
       "      <th>1</th>\n",
       "      <td>292.79</td>\n",
       "      <td>0.78</td>\n",
       "      <td>25.27</td>\n",
       "      <td>-0.017</td>\n",
       "      <td>0.276744</td>\n",
       "    </tr>\n",
       "    <tr>\n",
       "      <th>2</th>\n",
       "      <td>292.04</td>\n",
       "      <td>0.74</td>\n",
       "      <td>25.26</td>\n",
       "      <td>-0.028</td>\n",
       "      <td>0.265744</td>\n",
       "    </tr>\n",
       "    <tr>\n",
       "      <th>3</th>\n",
       "      <td>291.22</td>\n",
       "      <td>0.72</td>\n",
       "      <td>25.26</td>\n",
       "      <td>-0.037</td>\n",
       "      <td>0.256744</td>\n",
       "    </tr>\n",
       "    <tr>\n",
       "      <th>4</th>\n",
       "      <td>290.56</td>\n",
       "      <td>0.69</td>\n",
       "      <td>25.26</td>\n",
       "      <td>-0.045</td>\n",
       "      <td>0.248744</td>\n",
       "    </tr>\n",
       "  </tbody>\n",
       "</table>\n",
       "</div>"
      ],
      "text/plain": [
       "        T  TypeKmV    CJC  TypeCmV  TypeC_calib_mV\n",
       "0  295.68     0.90  25.27    0.021        0.314744\n",
       "1  292.79     0.78  25.27   -0.017        0.276744\n",
       "2  292.04     0.74  25.26   -0.028        0.265744\n",
       "3  291.22     0.72  25.26   -0.037        0.256744\n",
       "4  290.56     0.69  25.26   -0.045        0.248744"
      ]
     },
     "execution_count": 8,
     "metadata": {},
     "output_type": "execute_result"
    }
   ],
   "source": [
    "# The emf correction for 273.15 K is then: calibrated_emf = raw_emf + Tref_emf\n",
    "\n",
    "# Let's add this to the df we initially imported...\n",
    "\n",
    "df['TypeC_calib_mV'] = df['TypeCmV'] + Tref_emf\n",
    "\n",
    "df.head()\n",
    "# Compared to the NIST table, we appear to be off at most a little less than 1 deg K\n"
   ]
  },
  {
   "cell_type": "code",
   "execution_count": 9,
   "metadata": {},
   "outputs": [
    {
     "name": "stdout",
     "output_type": "stream",
     "text": [
      "-0.09996884322359076\n",
      "-0.0478884150234353\n"
     ]
    }
   ],
   "source": [
    "# Had we used the CJC temperature as a proxy for room temp, we would've been even more off.\n",
    "# compare the TypeCmV using Tref = CJC vs using Tref = 294.67:\n",
    "print(typeC.emf_mVK(291.22, Tref =(25.26+273.15)))\n",
    "print(typeC.emf_mVK(291.22, Tref =avg_Tref))"
   ]
  },
  {
   "cell_type": "code",
   "execution_count": 10,
   "metadata": {},
   "outputs": [
    {
     "data": {
      "text/plain": [
       "<IPython.core.display.Javascript object>"
      ]
     },
     "metadata": {},
     "output_type": "display_data"
    },
    {
     "data": {
      "text/html": [
       "<img src=\"data:image/png;base64,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\" width=\"640\">"
      ],
      "text/plain": [
       "<IPython.core.display.HTML object>"
      ]
     },
     "metadata": {},
     "output_type": "execute_result"
    },
    {
     "data": {
      "text/plain": [
       "Text(0,0.5,'Type C calibrated emf (mV)')"
      ]
     },
     "execution_count": 10,
     "metadata": {},
     "output_type": "execute_result"
    }
   ],
   "source": [
    "#  Let's visualize these results\n",
    "plt.plot(df['T'], df['TypeC_calib_mV'], 'o', ms=0.5 )\n",
    "plt.xlabel('Temperature (K)')\n",
    "plt.ylabel('Type C calibrated emf (mV)')\n",
    "\n",
    "# Interesting. I cooled first to LN2 temperatures and then allowed the sample to heat up slowly by evaporating LN2\n",
    "# The data agrees fairly well (within ~3 K) between the heating and cooling curves. I didn't heat all the way back up."
   ]
  },
  {
   "cell_type": "code",
   "execution_count": 11,
   "metadata": {},
   "outputs": [
    {
     "name": "stdout",
     "output_type": "stream",
     "text": [
      "            10             9             8             7             6\n",
      "-2.468e-21 x  + 4.853e-18 x - 4.224e-15 x + 2.138e-12 x - 6.955e-10 x\n",
      "              5             4            3          2\n",
      " + 1.516e-07 x - 2.234e-05 x + 0.002193 x - 0.1365 x + 4.852 x - 76.48\n"
     ]
    }
   ],
   "source": [
    "# Now lets fit the data to a polynowmial using least squares\n",
    "fit_coeffs = np.polyfit(df['T'],df['TypeC_calib_mV'], deg = 10 , full=True)\n",
    "# print(fit_coeffs)\n",
    "fit_poly = np.poly1d(fit_coeffs[0])\n",
    "print(fit_poly)\n"
   ]
  },
  {
   "cell_type": "code",
   "execution_count": 12,
   "metadata": {},
   "outputs": [
    {
     "data": {
      "text/plain": [
       "<IPython.core.display.Javascript object>"
      ]
     },
     "metadata": {},
     "output_type": "display_data"
    },
    {
     "data": {
      "text/html": [
       "<img src=\"data:image/png;base64,iVBORw0KGgoAAAANSUhEUgAAAoAAAAHgCAYAAAA10dzkAAAgAElEQVR4nO3df3RU9Z3/8ben59Tu2Tb8EFCk/FBpxVatqGCl1tJut9vW0z1rt1u23aVl2+8W7Z7v7qnLWdQ6c5MMGExRUEuU+KV11bbaFouY1lQqhoKxlNYoPyQB21FgQhgCMgYIhNDX94+ZhGQIIcknkzv3zvNxzj2QyUzmo5cZnnw+994xAwAAAAAAAAAAAAAAAAAAAAAAAAAAAAAAAAAAAAAAAAAAAAAAAAAAAAAAAAAAAAAAAAAAAAAAAAAAAAAAAAAAAAAAAAAAAAAAAAAAAAAAAAAAAAAAAAAAAAAAAAAAAAAAAAAAAAAAAAAAAAAAAAAAAAAAAAAAAAAAAAAAAAAAAAAAAAAAAAAAAAAAAAAAAAAAAAAAAAAAAAAAAAAAAAAAAAAAAAAAAAAAAAAAAAAAAAAAAAAAAAAAAAAAAAAAAAAAAAAAAAAAAAAAAAAAAAAAAAAAAAAAnc4xs3FmVsTGxsbGxsYWqG2cpf8eB/ptnJmJjY2NjY2NLZDbOAMGoMjMtHv3bqVSKTY2NjY2NrYAbLt37+4IwCKfOwIBVWRmSqVSAgAAwZBKpQhAOCEAAQAIGAIQrghAAAAChgCEKwIQAICAIQDhigAEACBgCEC4IgABAAgYAhCuCEAAAAKGAIQrAhAAgIAhAOGKAAQAIGAIQLgiAAEACBgCEK4IQAAAAoYAhCsCEACAgCEA4YoABAAgYAhAuCIAAQDIhVSj9GJZ+tfB/tEEIBwRgAAA5EBLdUxN5dPVUh0b9J9NAMIVAQgAQA5UVm3QE4tuUWXVhkH/2QQgXBGAAADkQFOqVUvWNKgp1TroP5sAhCsCEACAgCEA4YoABAAgYAhAuCIAAQAIGAIQrghAAAAcJBNx1a6Yp2QiPmTPSQDCFQEIAMBApRq1675P6k8lV6p2xbyhe1oCEI4IQAAABqilOqamRVMVXzyTGUAECgEIAEA/dSz7Vj61MmfX+usNAQhXBCAAAP3QlGrVTxd/Ww0lU7Vu+W05u9ZfbwhAuCIAAQDoo6ZUq26peFZPLZit1eVzhnTZtysCEK4IQAAA+qAj/l4pnaE3Y1fm5DN++4oAhCsCEACAs0gm4nq2fI42l0zT7tIP6dgjn5VSjb6NhwCEKwIQAICzqK2YqxZvjN723u97/EkEINwRgAAA9GJn3Xrt9S7SQW+sdpXP8D3+JAIQ7ghAAADOYGfdeh3yLtDR6Agliif7dtJHNgIQrghAAAB60BF/rdEROuRdoJ116/0eUicCEK4IQAAAsiQTcSWKJ6s1OjLv4k8iAOGOAAQAoIuddeuVKJ6sPd5kJYon5138SQQg3BGAAABkdMz8HY2OzKtj/rIRgHBFAAIAoGDM/HUgAOGKAAQAFLygzPx1IADhigAEABS0ZCKu12PTddAbq73epLye+etAAMIVAQgAKFjJRFxbF96gA944tUTH6OWKuX4PqU8IQLgiAAEABau2Yq72e+PVUDpVtRVz837ptwMBCFcEIACg4CQTcb1cMVcNpVO13xsfmJm/DgQgXBGAAIDCkmrUrvIZOhwdrQPeOG1deENgZv46EIBwRQACAApKS3VMB4sn6LA3Wq/Hpgcu/iQCEO4IQABAQehY9q0u+7KeiX1Jq8vnBDL+JAIQ7ghAAEBBqK2Yq5boGO33xuuni7+tplSr30MaMAIQrghAAEDo7axbr73eRTrojQ3ssm9XBCBcEYAAgFAL2qd89AUBCFcEIAAglDqO+Xs9Nl27vEvz/vN9+4MAhCsCEAAQOh0f7xbkS730hgCEKwIQABA6mx6crePREToaPS8Ux/xlIwDhigAEAIRKMhFXsuRinfCGK1lycejiTyIA4Y4ABACER6pRu+77pHZ5HwzVMX/ZCEC4IgABAKHQvGOjDi68VMmFl2nzgo/pK/c+rSVrGvweVk4QgHBFAAIAAm97Q70S3iU6Gh2pPd4lWvp0jZasaQj0xZ57QwDCFQEIAAi07Q31esW7VgciY7UnMlG3LX00tOHXgQCEKwIQABBYyURcm4un6Uh0lA5HR2vdg98KffxJBCDcEYAAgEDaWbdeieLJOuiN1RFvtA4vmymlGv0e1pAgAOGKAAQABNLrselqiw7XPm+iDq+eXzDxJxGAcEcAAgACZXtDvVYt+rp2Fl+hw9HR+t39s/0e0pAjAMPn22YWN7NjZvZHM/v4We7/j2b2upkdz/x6cz+fjwAEAATGzrr1avQu0pHIKDVHw/cRb31FAIbLLDNrM7P/Y2aXmdlSMztsZhPOcP/rzazdzO4wsymZX0+Y2XX9eE4CEAAQCNsb6rXbu0Rt0WE6Hh2h+D0zCjL+JAIwbDaa2UNZt203s7Iz3P8pM3su67ZqM/tJP56TAAQA5L2Os30PRMaqyZuo5h/fUlDH/GUjAMPj3Zaezctewr3fzNad4TG7zOw7Wbd9x8ze6uV5zrX0H5aObZwRgACAPJZMxNVQOlXHo8N11Bul5M//2+8h+Y4ADI8LLb0jZ2TdfqeZNZzhMW1m9tWs275q6eMBz6Q48zzdNgIQAJCPmlKt+sWir+t4dITao0VKllxc0DN/HQjA8OgIwOuzbv+umdWf4TFtZvaVrNv+xdInkJwJM4AAgMCofGqlEpFJOhg9X3u9i7Szbr3fQ8oLBGB4DNUScDaOAQQA5K344plq9UapqWRywZ7w0RMCMFw2mllF1m2vW+8ngfwq67bnjJNAAAAB1pRq1ZI1DWpKtap5x0btuu+Tat6x0e9h5RUCMFw6LgPzDUtfBmaJpS8DMzHz/cesewzOsPSs4XxLXwZmvnEZGABAgCUTcT1bPkc/vXu2Kqs2+D2cvEUAhs+3zexNS5/I8Uczu7HL92rM7NGs+3/J0scItln6kjFf7OfzEYAAgLzx8tLZOhYdqYPe+9VSHfN7OHmLAIQrAhAA4LuOZd9tmc/35Wzf3hGAcEUAAgD8lWrUH74/W6961+qHD92jrQtv4GzfsyAA4YoABAD4qqU6piPe+WrzRii+eKbfwwkEAhCuCEAAgG+ad2xU/YLrVFPyt6pfcB1n+/YRAQhXBCAAwDfxxTN11BulzQs+pqZUq9/DCQwCEK4IQADAkGpKtWrp0zWqWX6bVvywUpuKr9cjT630e1iBQgDCFQEIABhSlU+t1O7IJXrDm6J1y2/rvOgz+o4AhCsCEAAwpOKLZqgtOlz7ii/i490GiACEKwIQADCk/vD92TrsjdEfvj/b76EEFgEIVwQgACDnkom4alfMUzIR7/Z7DAwBCFcEIAAgt1KN2lU+Q/u98aqtmOv3aEKBAIQrAhAAkDupRh175LN623u/WrwxepkAHBQEIFwRgACAnGmpjunN2JXaUjJNq8vnsOw7SAhAuCIAAQCDL9Wow6vn6/lFs/Tkgtm6peJZLvUyiAhAuCIAAQCDK7Pse7B4gvYXT9RPF3+b+BtkBCBcEYAAgEHFsm/uEYBwRQACAAZFx+VdKp9aqcfKbmHZN4cIQLgiAAEA7rpc6mXdg9/i491yjACEKwIQAOCspTqmg8UTuNTLECEA4YoABAAMWNdl35/d/TWO+RsiBCBcEYAAgAFJJuLauvAGvVF8hdYtv41l3yFEAMIVAQgAGJDairna743X67HpzPoNMQIQrghAAED/ZC7yvLN0qvZ74znmzwcEIFwRgACAPksm4oovnqmD3gQd8MZr68IbmP3zAQEIVwQgAKDPaivman90vLZ4V3HCh48IQLgiAAEAfZJMxLU9Nl37vfFatejrnPDhIwIQrghAAEDvMsf81S+4TnHvMpZ98wABCFcEIACgVy3VMR0omcQxf3mEAIQrAhAA0KNkIq6XK+aquuzLeib2JY75yyMEIFwRgACA06Uateu+T6rZG6993kT9dPG3OeYvjxCAcEUAAgC6aUq1at2D39LB4gl68+5rVVsxl5m/PEMAwhUBCADolEzEVV02S3sjE9QcvVDPls/xe0joAQEIVwQgAKBTbcVcHYuOVFt0mBLeJdreUO/3kNADAhCuCEAAgCRpZ9167fUu0tve+UqWXKzmHRv9HhLOgACEKwIQAApcx9m+e71JOhodqUTxZI75y3MEIFwRgABQwDpm/Y5ER+mgN1aJ4snaWbfe72HhLAhAuCIAAaBA7axbr3ei56s9WqTj0eF6PTadmb+AIADhigAEgAK0vaFejdFJao8W6US0SA2lU4m/ACEA4YoABIAC05Rq1Y9LZ+tIZJSOR4cTfwFEAMIVAQgABWR7Q71+FPtXbfOm6oA3TvF7ZhB/AUQAwhUBCAAFYntDvTZHr9KxyAgd9Mbq2COflVKNfg8LA0AAwhUBCAAFIJmIa3PxNB2PDld7tEgHF0wm/gKMAIQrAhAACkBtxVwd9kbrqHeeDsYmc5HngCMA4YoABIAQa0q1aunTNdoWm64D3jjtKp/BzF8IEIBwRQACQEglE3E9Wz5Hdd61esO7TFsX3sAJHyFBAMIVAQgAIZRMxLV14Q064I3XweIJii+eSfyFCAEIVwQgAIRQbcVc7ffGa2fpVB1ePZ9l35AhAOGKAASAEEkm4nq5Yq4aSqdqvzdeL1fM9XtIyAECEK4IQAAIiY5l3/3eeO33xnPMX4gRgHBFAAJACCQTcb2eOdO3oXSqaivmEn8hRgDCFQEIAAF36oSPcWqJjmHZtwAQgHBFAAJAwHWc8MHMX+EgAOGKAASAgOp6kWdO+CgsBCBcEYAAEFCVT63U7sglinsf4ISPAkMAwhUBCAABlEzE1VQyWa3eSDWVTCb+CgwBCFcEIAAESMey7+YFH9Mu71LtK/2Amnds9HtYGGIEIFwRgAAQEMlEXNVls5SITGLZt8ARgHBFAAJAEKQatat8ho5FR6gtOoxl3wJHAMIVAQgAeS6ZiCt+zwwd9UbpqHeekiUXs+xb4AhAuCIAASCPdXzCx5HoKB2JjtLm4mnM/IEAhDMCEADyVHb8vVY8Tdsb6v0eFvIAAQhXBCAA5KFNL63Vbu8SHYxeoMPR0Xo9Np2ZP3QiAOGKAASAPLO9oV6JyKT0yR7RiXy8G05DAMIVAQgA+STVqPoF1+lo9Dwdi47Qnse+5feIkIcIQLgiAAEgj7RUx/RO6UQd9cbo8LKZUqrR7yEhDxGAcEUAAkAeSCbiql0xT5VPrdTKsq9p0/JbiT+cEQEYHiPM7HEzS2W2x81s+FkeU2Ppnd91e7Kfz0sAAkAeqF0xTztKr9a65bdpyZoGNaVa/R4S8hgBGB7PmdkWM7s+s20xs2fP8pgaM6s0swu6bMP6+bwEIADkgY4ZQE72QF8QgOFwmaV34nVdbvto5rZLe3lcjZktdXxuAhAAfEL0YaAIwHD4hpkd6uH2Q2b2b708rsbM9ptZs5ltM7PFZva+fj43AQgAPulY9q1dMc/voSBgCMBwuNPMdvRw+w4zu6OXx/27mX3azC43s382s7iZrTnLc51r6T8sHds4IwABYGilGqUXy9S8YyMzgBgQAjC/FdvpJ2lkb9daOgAbenj8TjO7vR/Pd03mZ17d3zERgAAwdFqqY2oqn66W6pjfQ0FAEYD5bZSZTTnL9h4b+BJwtnPMrM3MZvVyH2YAAcBnlVUb9MSiW1RZtcHvoSCgCMBw6DgJZHqX266zs58Eku3yzGNu7MdjOAYQAIZYU6qVS73ACQEYHs+Z2WuWPvv3o2a22bpfBmacmdXbqUi8xMyill5CnmRmnzez7Wb2ipm9qx/PSwACABAwBGB4jDSzJ8zsncz2hHW/EPQkS+/omZmvx5vZOjM7YGbHzewNM7s/83P6gwAEgFzKnPDBp3pgMBGAcEUAAkAOccIHcoEAhCsCEAByiBM+kAsEIFwRgACQQ5zwgVwgAOGKAASAwcQxfxgCBCBcEYAAMIg45g9DgQCEKwIQAAYRx/xhKBCAcEUAAoCLrCVfjvnDUCAA4YoABAAHLPnCDwQgXBGAAOCAJV/4gQCEKwIQAAYis/SbTMRZ8sWQIwDhigAEgAFg6Rd+IgDhigAEgAFg6Rd+IgDhigAEgL7gbF/kEQIQrghAAOgDlnyRTwhAuCIAAaAPWPJFPiEA4YoABIA+YMkX+YQAhCsCEAB6knXMH5BPCEC4IgABoAcc84d8RgDCFQEIABnJRFy1K+YpmYhzzB/yGgEIVwQgAGTUrpinHaVXq3bFPI75Q14jAOGKAASAjK4zgEA+IwDhigAEUPAIPwQNAQhXBCCAwpU503fT8ls7l36BICAA4YoABFCYUo069shnlVw0Vcmf/zczgAgUAhCuCEAABamlOqY3Y1eqLjaDM30ROAQgXBGAAApKx/F+lU+t1GNlt+iWimc50xeBQwDCFQEIoHCkGrXrvk/qTyVXat3y27jMCwKLAIQrAhBAwWipjqlp0VTFF8/keD8EGgEIVwQggNDruuzLp3sgDAhAuCIAAYRaMhHX1oU36I3iK1j2RWgQgHBFAAIIpY5Zv9qKufpTyZXauvAGln0RGgQgXBGAAEKn66zfyxVzucYfQocAhCsCEECoNKVa9dPF39YbxVcw64fQIgDhigAEEApNqVYtWdOgJU/X6Gd3f02ry+cQfwgtAhCuCEAAoVD51EptKr5eLy+draby6Wqpjvk9JCBnCEC4IgABBF5TqlWbF3xMR71R2lU+Q3qxTEo1+j0sIGcIQLgiAAEE1pY9hzRrea0WPvmCnl34T6pfcJ2ad2z0e1hAzhGAcEUAAgis4vvu167IxfrNwi+w7IuCQgDCFQEIIFCaUq1aULVNdz/5gt4pHqv2aJHeXjCZZV8UFAIQrghAAIGxZc8hfS72lCq/+8/6Y+Rq7fYuUUvxWB149Zd+Dw0YUgQgXBGAAALjtqWPam9kgo5FhuugN1bxxTO51AsKEgEIVwQggEBIJuLaV3yxTkaLdNIr0vHyS1nyRcEiAOGKAAQQCLUr5ult7/1q80boRPkHpESd30MCfEMAwhUBCCAQkom4/rD8Vh1ePZ+ZPxQ8AhCuCEAAeSuZiKt2xTyO8wOyEIBwRQACyFu1K+ZpR+nVql0xz++hAHmFAIQrAhBAfkk1dl7TjxlAoGcEIFwRgADyy4tl0sM3pn8F0CMCEK4IQAB5hVk/4OwIQLgiAAHklSVrGnTTA7/VkjUNfg8FyFsEIFwRgADySlOqVUvWNKgp1er3UIC8RQDCFQEIAEDAEIBwRQACGHpdzvQF0H8EIFwRgACGHmf6Ak4IQLgiAAEMOc70BdwQgHBFAAIYcpzpC7ghAOGKAAQwNLoc98eZvoAbAhCuCEAAQ6KlOqam8ulqqY75PRQg8AhAuCIAAeROl1m/yqoNemLRLaqs2uD3qIDAIwDhigAEkDtdzvZl2RcYPAQgXBGAAHKH6/0BOUEAwhUBCCBnmPUDcoMAhCsCEEDOcLkXIDcIQLgiAAG4O8NSLzOAQG4QgHBFAAJwxiVegKFFAMIVAQjAGZd4AYYWAQhXBCCAfsv+LF+WeoGhRQCGx3fNrNbMjprZoT4+5hwzKzazRjNrNbMaM/twP5+XAATQb7Ur5mlH6dWqXTHP76EABYkADI8SM/uOmd1rfQ/A+Wb2jpl90cwuN7MnLR2D7+vH8xKAAPotewYQwNAiAMNnjvUtAM8xs72WjsAO52YeO7cfz0cAAgAQMARg+MyxvgXgxZbe8VOzbn/GzP63H89HAAIAEDAEYPjMsb4F4AxL7/gLs26vNLNf9/K4cy39h6VjG2cEIIAz4OQOID8RgPmt2NI7p7ft2qzHzLH+BeDYrNsfMbPq/o6JAATQEy7vAuQnAjC/jTKzKWfZ3pP1mDmW2yVgZgAB9BkXeAbyEwEYPnOsfyeB/E+X295tnAQCwMFpZ/ee4SPeAPiLAAyPCWZ2lZlFzawl8/urzOy9Xe5Tb2Y3d/l6vqWD72ZLXwbmx8ZlYAA44Pp+QDAQgOHxqPV8jODMLveRpWcIO3RcCHqvmR0zs3WWDsH+IAABdM787axbz/X9gAAgAOGKAATAzB8QMAQgXBGAQIHqeokXPtkDCBYCEK4IQKBAcYkXILgIQLgiAIEC0nXWj0u8AMFFAMIVAQgUiKZUq25b+qh+X3y9Kp9aySVegAAjAOGKAARCrmPWb8nTNdrjXaKj0fMUXzzT72EBcEAAwhUBCITc/Y//TL+LfFTr7/sXJcuu0MGFl6p5x0a/hwXAAQEIVwQgEHINpVPVHh2mP5VewZIvEBIEIFwRgEDI7S6bpvboMO0um+b3UAAMEgIQrghAIOSad2zUrvs+ybIvECIEIFwRgEDYcHYvEHoEIFwRgEDIcH0/IPwIQLgiAIEQ6PpRbnzCBxB+BCBcEYBAkGWWezctv1U7Sq9W7Yp53T7tA0A4EYBwRQACAdax3Jv8+X93zgACCD8CEK4IQCDAWO4FChMBCFcEIBAgXY/1k8RyL1CgCEC4IgCBAKldMa/zWD8AhYsAhCsCEAiQ7BlAAIWJAIQrAhDIc0QfgGwEIFwRgECeY9kXQDYCEK4IQCDPJBNxvVwxV7UVc5VMxJkBBHAaAhCuCEAgjzSlWvWLRV9XS3SM9nvjmfUD0CMCEK4IQCBfpBr1h+W3aqt3lZqjF+r12HRm/QD0iACEKwIQ8FFTqlULqrbp7idf0Bvln9A7pRP1Tmyi4otnEn8AzogAhCsCEPDJlj2H9PdlP9P/el/VHyPXaGd0il4tvlablt+a/oxfADgDAhCuCEDAB8lEXL8o/ZL2RCbqgDdO78Qm6o3yT2jp0zV8qgeAsyIA4YoABHxQu2Kejnhj1OaN0PHyS6XqO5n1A9BnBCBcEYCAD5KJuF6r+LqOPfwpKVHn93AABAwBCFcEIDAEuJYfgMFEAMIVAQgMAT7NA8BgIgDhigAEhgAzgAAGEwEIVwQgkAupRunFMk7sAJATBCBcEYBADrRUx9RUPl0t1TG/hwIghAhAuCIAgRyorNqgJxbdosqqDX4PBUAIEYBwRQACOdCUatWSNQ1c1BlAThCAcEUAAgAQMAQgXBGAwABxZi8AvxCAcEUAAgPEtf0A+IUAhCsCEBggZgAB+IUAhCsCEOgjgg9AviAA4YoABPqIJV8A+YIAhCsCEOhF11k/ZgAB5AsCEK4IQKAXzPoByEcEIFwRgEAvmPUDkI8IQLgiAIEMYg9AUBCAcEUAAhks9wIICgIQrghAFK5Uow6vnq9Ny2/lJA8AgUIAwhUBiMKUatSxRz6rg8UTtL94IrN+AAKFAIQrAhCFJdUovVimw6vn683YldpSMk2ry+cw6wcgUAhAuCIAURi6hF9T+XTVVszVY2W36JaKZ9WUavV7dADQLwQgXBGACL9EnU7c+2E1l12h2oq5emLRLVr6dI2WrGkg/gAEEgEIVwQgwivVKFXfqRPfm6Jj3nlqLJlM+AEIBQIQrghAhE+qUVr9XzrxvSk6XDpebxe/X3u8S3Tb0kcJPwChQADCFQGIcEnU6Xj5pTruDVebN1yN3kX6QeQr+kTkR1pQtc3v0QHAoCAA4YoARKi0PPwZtXnDdTwyQnsik/S1BZW6Y+VrilVtY/YPQGgQgHBFACIcMmf5Llj6gP4YuUY/idys2Ut+oS17Dvk9MgAYdAQgXBGACIWW6piayqcr/rO7NGt5LeEHINQIQLgiABFMmRk/pRolSZVVG/TEoltUWbXB54EBQO4RgHBFACKYXiyTHr4x/aukplQrl3cBUDAIQLgiABFMWTOAAFBICEC4IgCR/3qIPWb8ABQyAhCuCEDkv6zlXklasqZBNz3wWy1Z0+DjwADAHwQgXBGAyD9ZM37JRFy1K+YpmYh33oUZQACFjACEKwIQvqqp36erS5/XNbHnVfvK5nT4Vd/ZbcaP2T4A6I4AhCsCEL5oSrXqP3/yii66vUrT5j+u++78N/24dHY6/Krv7DYDyGwfAHRHAMIVAYght2XPIV1V8mtNm/+41t15ndojRToWHam9P5gtvVimZCJO8AFALwjA8PiumdWa2VEzO9THxzxq6Z3fdftdP5+XAMSQ2bLnkD71vbW66PYqlc3/ptojRToZLdJfvPR27OFPacmaBsWqtrHkCwC9IADDo8TMvmNm91r/AvA5M7ugyzayn89LAGJI1NTv0yV3/FL/Mf92tURG6WSkSH/JxJ+8ImnJFXri6Wd00wO/1YKqbcwAAkAvCMDwmWP9C8BVjs9HACKnmlKtmr3id53LvV3D76RXpLZ7P6wnnn5GTalWjvUDgD4iAMNnjvUvAA+ZWdLMdpjZI2Y25iyPOdfSf1g6tnFGACIHOk7y+PhdP9KaO2/QiY7l3o74i52vlU89ynIvAAwAARg+c6zvATjLzG4ys8vN7Atm9qqZbbV05J1JsZ1+3CABiEH1i1d265I7qvQf82/XsciI7uHnFenNez+lJU/XsNwLAANEAOa3YushtrK2a7MeM8f6HoDZxppZm5l9sZf7MAOInOmY9Sub/021RYpOW+49WTpGS+9boM8sqSH8AMABAZjfRpnZlLNs78l6zBwbeACame00s/n9uD/HAGJQ1NTv0z/ctUxb7/rQqfCLpsNPD16r5h0bNWt5rT61+EXNWl5L+AGAAwIwfObYwAPwPDM7ZmZf68djCEA42bLnkL5V9ojq77pUJyLDTlvu/c2jsc6TO/5uyTriDwAGAQEYHhPM7Cozi5pZS+b3V5nZe7vcp97Mbs78/r1mttjMrjezSWY209LXEdxjZu/rx/MSgBiwX7yyW9+9/f+eup5fl1m/I95oLbqnRJ9ZUtO51MuSLwAMDgIwPB61no8RnNnlPrL0DKGZ2V+Z2a8tfQZwm5m9lfkZ4/v5vAQg+m3LnkOKLfR0NDLytOXe9rJJun3RvZo4v0ofuLOKGT8AyAECEK4IQPRL9arH1RQZp/as8Gu7e4IOvPpLLVnToKtLn9fE+VX6UOQ54g8AcoAAhCsCEH1Svepx7Y9c2H3GLxN/jc+UdvsIt//6ySv62KIXVFO/z+9hA7x+kawAAA6ISURBVEAoEYBwRQCiVzX1+3Srd49ORIZ1ht9fokVq94p08LGva+nTNbp52QYu7QIAQ4gAhCsCED1qSrXqvoeWqTlyfrdZv3avSG13T9SBV3+pWctrdXXp87om9jzH+gHAECIA4YoAxGk2vbRWOyJTuh/nFynS0YUX6UdP/D/FqrYpVrVNf7dknW5etkGxqm3EHwAMIQIQrghAdNreUK8N3ie6XdblZLRIJ7xhql+1WDcv26Apd/1KV5c+z3IvAPiIAIQrAhCSpJd+vFBtXS7kfDJapGPeCO2r/JKUatSSNQ26Jva8Los8p5uXbSD8AMBHBCBcEYAFbtNLa7XTm9L9OL9Ikd564HNSqrHzfk2pVi3ILP0SfwDgLwIQrgjAArWzbr3+5F3W7ePbTkaK1BibouYdG/0eHgCgFwQgXBGABSaZiOv3i27qHn7RIh2LjNTvVz3k9/AAAH1AAMIVAVhAtv7qER2LjOj2ub0nIsO056EvdlvuBQDkNwIQrgjAAvDn2lU66I097Ti/ePGHtLNuvd/DAwD0EwEIVwRgmCXq9Hb5R067nl9zZJxefeHnfo8OADBABCBcEYAhtfVXj+iE1/04vxORYXri/js5ixcAAo4AhCsCMGTeWvtDHfFGd5v1OxEZpprSz2h7Q73fwwMADAICEK4IwJBo3rFRe2IfPu04vx2RKVr7wq/VlGrlkzsAICQIQLgiAIMu1aimyi+ddj2/5sg4Lat8uDP4lqxp0E0P/FZL1jT4PGAAgCsCEK4IwAB7a+0PddzLvqzLcMXu9rRlz6Fu92UGEADCgwCEKwIwiDJn956+3HuZNr201u/RAQByjACEKwIwYOp+do/as5Z790fGaclDy5jdA4ACQQDCFQEYBKlGNf5gtpq9cZ2zfh0f39bTci8AINwIQLgiAPPcn2tX6Yg3uttxficjRVobuVG1r2z2e3gAAB8QgHBFAOapnXXrtdO7QiciwzrDry1SpP3e+G5n9wIACg8BCFcEYL5JNeqt+z+n9khRt0/xaImM1oZf/cTv0QEA8gABCFcEYB75/aqH1BoZ2e04v8OR0Vqz4O/5FA8AQCcCEK4IwDyw6aW12u5drvbMcm97tEhtkWF6pexvlEzE/R4eACDPEIBwRQD6aO0Lv9brkQ/pWOTUxZzbI0V8bi8AoFcEIFwRgD7Y3lCvF0v+ttvHt7VHi9TijdGrL/zc7+EBAPIcAQhXBOAQe/WFn+udyJhul3U55o3Q3h/MllKNfg8PABAABCBcEYBDoCnVquXfL9Oh6AU64I3TycwJHm2RIqW+d5WUqPN7iACAACEA4YoAzKGmVKvu+cGT2hGZ0nlmb0tklPZ5E7R74VVq3rHR7yECAAKIAIQrAjBHNr20Vq941ygZeX+3z+39/aqH/B4aACDgCEC4IgAH2aaX1uo171olI+PVHh2m49FhOuYV6Zg3Ult/9YjfwwMAhAABCFcE4CB57qU/apn3TW31ruoSfiP0zn3TpOo7OcEDADBoCEC4IgAdNaVatazyYR2OnKf26DC9GblYR7zR2r3wKh1ePZ/wAwAMOgIQrgjAAdqy55C+8cAzWln2daUi53ce53fUGyO9WEb4AQByhgCEKwKwn2rq9+lW7x41RcapJTJaB6Nj9bY3Vke889RaPEYHX37c7yECAEKOAIQrArCPtuw5pNsX3atkZKzaI0WdM34t3vks9QIAhhQBCFcE4FmcKfzaI0U6VDpRB179pd9DBAAUGAIQrgjAXvx+1UPpkzuywo+lXgCAnwhAuCIAs+ysW6+Gkql6y/ug2iPDOj+vtz1SpCPeGL219od+DxEAUOAIQLgiADOad2zU7oVX6XhkROdn9XaE31FvNOEHAMgbBCBcFXwA/rl2lZq98Z3h95dM/B2JnKd93kS9+sLP/R4iAADdEIBwVZgBmKhT6r5pOuiN1YnIsFOzfdEiHY6M0hslV2pn3Xq/RwkAQI8IQLgqrABM1Ont8o/oRGR4Z/T9JVqktkiRmiMXas2Cv9f2hnq/RwkAQK8IQLgKdwCmGqXV/6mjS6fpLe+DOuaN7Ay/tkiRDkQu0H5vvJZVPqymVKvfowUAoE8IQLgKXwBmou/4A9cpVTJe7d6wbid1tEaG6Z3IGMXu9rRlzyG/RwsAQL8RgHAV6ABsSrXqrsee10+9f9T24qnatOjz2ldysVqLR+ukV9QZfi2R0fpT5APa503U7ffcR/gBAAKNAISrQARgU6pVsaptumPla1pQtU2bXlqrhpKp2ulN0f7IOJ2IDlN7dJhORIerLTpMjZHx2nrXh9Vw1xRtjnxEt35vBdEHAAgNAhCuchqAW/Yc0qzltZ3x1fF1Tf2+zqDriLrejsGrrNqgx4v/VT+J3KzHS/5Fr5VM04noqaXdk9EiHfbGaNOiz2tbbLpilT/STff/Vnes3MyxfQCA0CEA4SpnAfhayXU6GSnS0cgIrfNu1PbYdN1/9zztiUzUhshHtTcyQc/d9Sn9IvJ5bY58RNVlX9bOuvWqrZirlyvmKpmId/6sluqYUgsuVmvJ+XpnwcXa89i31FAyVX8uvkx7775Cx5d9XErUDfp/AwAA+YgAhKucBeDJyKnLrLRHi9QWHa5W77xuJ2Sc8IbruDdS7dFhavHGaOvCG7TPm6ikN1G1K+Z1+ZPeKFXfKa3+z/SvqcZBHy8AAEFBAMJVzmcAW70R2rzo09oem676VYv19oLJer3sRjWXTNLBH/yTjv7kG9pzzzT94cHZZ5wBBAAApxCAcBWIk0AAAMApBCBcEYAAAAQMAQhXBCAAAAFDAMIVAQgAQMAQgHBFAAIAEDAEIFwRgAAABAwBCFcEIAAAAUMAwhUBCABAwBCAcEUAAgAQMAQgXBGAAAAEDAEIVwQgAAABQwDCFQEIAEDAEIBwRQACABAwBCBcEYAAAAQMAQhXRWam3bt3K5VKsbGxsbGxsQVg2717NwEIJ+Ms/QeIjY2NjY2NLXjbOAMG4BxL/+EpKrCtI3wL8b89KBv7KP839lH+b+yjYGwD3U/jLP33OIA+KrL0i63I74HgjNhH+Y99lP/YR8HAfgKGCC+2/Mc+yn/so/zHPgoG9hMwRHix5T/2Uf5jH+U/9lEwsJ+AIXKumRVnfkV+Yh/lP/ZR/mMfBQP7CQAAAAAAAAAAAAAAAAAAAAAAAEC43Whmz5pZo6VPp/+HrO+fY+mzrBrNrNXMaszsw1n3GWFmj5tZKrM9bmbDczXgAnS2ffSonf4xR7/Lus+5ZvagmTWb2REzW21m78/ZiAvPHWa2ycxazCxpZqvM7NKs+/RlH0yw9L4+krnfA2b27pyNurD0ZR/V2OmvpSez7sP7Xe7camabzeydzPaymX2uy/d5DQGD6HNmtsDMvmg9x8V8S78Qv2hml1v6zbDRzN7X5T7PmdkWM7s+s22x9AsQg+Ns++hRS++DC7psI7Pu85CZ7TGzT5vZVDNba2avmtm7cjXoAlNtZnMs/Y+jj5hZlZm9ZWZ/3eU+Z9sH77L0a2dt5vufNrOEpf/Cg7u+7KMaM6u07q+lYVk/h/e73PmCmX3ezD6Y2RaaWZudmnTgNQTkSHZcnGNmey0dgR3ONbNDZjY38/Vlmcdd1+U+H83clv2va7g7UwCu6uUxwyz9Jjqry20XmtlJM/u7wRwcOo229L66MfN1X/bB5zJfX9jlPv9sZseMC93mQvY+MksH4NJeHsP73dA7aGbfNF5DQE5lx8XFmdumZt3vGTP738zvv2HpIMx2yMz+bbAHiDMG4CFLL2vtMLNHzGxMl+9/KvO4EVmPe83MSnIySky29P/zyzNf92UflGa+7mpE5nGfzM0wC1r2PjJLB+B+Sy8dbjOzxdZ9tYP3u6HzLkvH23Ez+5DxGgJyKjsuZmRuuzDrfpVm9uvM7++0dHRk22HpY24wuHoKwFlmdpOl/yL7gqWXRLbaqavjf9XSb6LZnjez5bkZZkE7x9LHJq3vcltf9kFl5utsx83sK4M5QPS4j8zM/t3Sy4aXWzo+4ma2psv3eb/LvSvM7LCZtVs6rD+fuZ3XEJBDZwrAsVn3e8TSx9OYpd8QG3r4WTvN7PbBHiB6DMBsYy29VPLFzNdneuNcY2YPD97QkLHMzN607gen92UfdP2HVVdtlo4RDJ6e9lFPrrH0a+7qzNe83+Xeuy09O3utmZVZekb2Q8ZrCMgploDzX18C0Cz9F1LHsZssAQ+dB81st5ldlHU7y1f540z7qCfnWPfjzni/G3q/sfQMH68hIIfOdBLI/3S57d3W80kg07vc5zrjoOhc6UsAnmfpg56/lvm64+DpL3e5z1jjJJDBdI6Zfd/SZxx+oIfv92UfdBzA3nXGfZZxAPtgOds+6snl1v1EEd7vht4Llj7OmdcQMMjea2ZXZTaZ2Xcyv5+Q+f58SwffzZZ+M/yx9XwZmNcsfTbcRy19HScuizB4ettH77X0gerXm9kkM5tpZrWWvlRC1330kKVnPf7G0jO6LxiXgRlMFZZ+nXzCul9C5K+63Ods+6DjEha/yXz/bzL35xIWg+Ns++gSM4taeulxkqWPPdtuZq9Y99cJ73e5c7eZfdzS//+vsPRlYE6a2d9mvs9rCBhEM+30C5/K0v/iMjt1Iei9lv5X1DrrftacWfqac0/YqYt3PmFcGHUwzbQz76O/svQxL0lL/+v4rczt47N+xnss/SZ4wMyOWvovrOz7YOB62j+y9HXnOvRlH0yw9PXpjmbu96CdOpkHbs62j8Zb+v3tgKWPNXvDzO6306+pyftd7qyw9LGZxy39nvYbOxV/ZryGAAAAAAAAAAAAAAAAAAAAAAAAAAAAAAAAAAAAAAAAAAAAAAAAAAAAAAAAAAAAAAAAAAAAAAAAAAAAAAAAAAAAAAAAAAAAAAAAAAAAAAAAAAAAAAAAAAAAAAAAAAAAAAAAAAAAAAAAAAAAAAAAAAAAAAAAAAAAAAAF5P8DoLxkVXYJIPcAAAAASUVORK5CYII=\" width=\"640\">"
      ],
      "text/plain": [
       "<IPython.core.display.HTML object>"
      ]
     },
     "metadata": {},
     "output_type": "execute_result"
    },
    {
     "data": {
      "text/plain": [
       "[<matplotlib.lines.Line2D at 0x2823aad5940>]"
      ]
     },
     "execution_count": 12,
     "metadata": {},
     "output_type": "execute_result"
    }
   ],
   "source": [
    "fig, ax = plt.subplots()\n",
    "ax.plot(df['T'], df['TypeC_calib_mV'],'o',ms='0.5')\n",
    "ax.plot(df['T'], fit_poly(df['T']) , 'o', ms='0.5')\n"
   ]
  },
  {
   "cell_type": "markdown",
   "metadata": {},
   "source": [
    "The 10th degree polynomial appears to give the best fit overall. \n",
    "The lower order polynomials dont fit the curve exceedingly well below 100 K\n",
    "\n",
    "Also, the polynomial tracks the heating curve (the slightly higher mV points from 80-150K) a little more closely than the cooling curve (295 to 80 K). Heating occurred much more slowly than cooling, so I expect it to me more accurate anyways."
   ]
  },
  {
   "cell_type": "code",
   "execution_count": 13,
   "metadata": {},
   "outputs": [
    {
     "name": "stdout",
     "output_type": "stream",
     "text": [
      "-0.008672368463692237\n",
      "0.0\n"
     ]
    }
   ],
   "source": [
    "# These mV values are also close ~0.5 degrees K of one another\n",
    "print(fit_poly(273.15))  # fit\n",
    "print(typeC.emf_mVK(273.15))  # NIST value  "
   ]
  },
  {
   "cell_type": "markdown",
   "metadata": {},
   "source": [
    "Now I will take the polynomial and take the values from 77 K to 273 K for calibration and append them to the NIST values"
   ]
  },
  {
   "cell_type": "code",
   "execution_count": 14,
   "metadata": {},
   "outputs": [
    {
     "name": "stdout",
     "output_type": "stream",
     "text": [
      "                      Type C (mV)\n",
      "Temperature (Kelvin)             \n",
      "77.0                    -1.866275\n",
      "77.1                    -1.866307\n",
      "77.2                    -1.866340\n",
      "77.3                    -1.866376\n",
      "77.4                    -1.866414\n",
      "                      Type C (mV)\n",
      "Temperature (Kelvin)             \n",
      "2587.65                 37.056717\n",
      "2587.75                 37.057632\n",
      "2587.85                 37.058548\n",
      "2587.95                 37.059464\n",
      "2588.05                 37.060379\n"
     ]
    }
   ],
   "source": [
    "# low temperature array\n",
    "low_temp = np.arange(77,273.15, 0.1)\n",
    "low_temp_calib = fit_poly(low_temp)\n",
    "\n",
    "# high temperature array\n",
    "high_temp = np.arange(273.15,2588.15, 0.1)\n",
    "high_temp_nist = typeC.emf_mVK(high_temp)\n",
    "\n",
    "# concatentate and put into a dataframe and output to excel\n",
    "Temperature = np.concatenate([low_temp, high_temp])\n",
    "TypeC_mV = np.concatenate([low_temp_calib, high_temp_nist])\n",
    "\n",
    "typeC_calibration = pd.DataFrame(data=TypeC_mV, index=Temperature, dtype='float32', columns = ['Type C (mV)'])\n",
    "typeC_calibration.index.name = 'Temperature (Kelvin)'\n",
    "\n",
    "print(typeC_calibration.head())\n",
    "print(typeC_calibration.tail())"
   ]
  },
  {
   "cell_type": "code",
   "execution_count": 15,
   "metadata": {
    "collapsed": true
   },
   "outputs": [],
   "source": [
    "# write to excel\n",
    "xlwrite = pd.ExcelWriter('Type C calibration_low_res.xlsx')\n",
    "typeC_calibration.to_excel(xlwrite)\n",
    "xlwrite.save()"
   ]
  },
  {
   "cell_type": "code",
   "execution_count": null,
   "metadata": {
    "collapsed": true
   },
   "outputs": [],
   "source": []
  }
 ],
 "metadata": {
  "kernelspec": {
   "display_name": "Python 3",
   "language": "python",
   "name": "python3"
  },
  "language_info": {
   "codemirror_mode": {
    "name": "ipython",
    "version": 3
   },
   "file_extension": ".py",
   "mimetype": "text/x-python",
   "name": "python",
   "nbconvert_exporter": "python",
   "pygments_lexer": "ipython3",
   "version": "3.6.3"
  }
 },
 "nbformat": 4,
 "nbformat_minor": 1
}
