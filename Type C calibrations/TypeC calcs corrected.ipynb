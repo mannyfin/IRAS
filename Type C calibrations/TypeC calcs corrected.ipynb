{
 "cells": [
  {
   "cell_type": "markdown",
   "metadata": {
    "collapsed": true
   },
   "source": [
    "# The situation\n",
    "\n",
    "Type C thermocouples are not NIST calibrated to below 273.15 K. For my research specific scenario, I need to cool my sample (Molybdenum) to cryogenic temperatures and also anneal to very high ~2000 K. There is no thermocouple with these properties. \n",
    "\n",
    "\n"
   ]
  },
  {
   "cell_type": "markdown",
   "metadata": {},
   "source": [
    "### The solution\n",
    "\n",
    "We know that Type K thermocouples are accurate down to cryogenic temperatures. So what I've done here is to read the Type K temperature and record the corresponding Type C mV to create a calibration table. Both thermocouples were spot welded to a large mass very close to one another to ensure the temperature readings will be accurate.\n",
    "\n",
    "Then I will use a polynomial fit to get the low T calibration for the Type C thermocouple."
   ]
  },
  {
   "cell_type": "code",
   "execution_count": 1,
   "metadata": {
    "collapsed": true
   },
   "outputs": [],
   "source": [
    "# import a few packages\n",
    "%matplotlib notebook\n",
    "from thermocouples_reference import thermocouples\n",
    "import numpy as np\n",
    "import pandas as pd\n",
    "import matplotlib.pyplot as plt\n",
    "import sympy as sp\n",
    "from scipy import optimize, interpolate, signal\n",
    "\n",
    "\n",
    "typeC=thermocouples['C']"
   ]
  },
  {
   "cell_type": "code",
   "execution_count": 2,
   "metadata": {},
   "outputs": [
    {
     "data": {
      "text/html": [
       "<div>\n",
       "<style>\n",
       "    .dataframe thead tr:only-child th {\n",
       "        text-align: right;\n",
       "    }\n",
       "\n",
       "    .dataframe thead th {\n",
       "        text-align: left;\n",
       "    }\n",
       "\n",
       "    .dataframe tbody tr th {\n",
       "        vertical-align: top;\n",
       "    }\n",
       "</style>\n",
       "<table border=\"1\" class=\"dataframe\">\n",
       "  <thead>\n",
       "    <tr style=\"text-align: right;\">\n",
       "      <th></th>\n",
       "      <th>T</th>\n",
       "      <th>TypeKmV</th>\n",
       "      <th>CJC</th>\n",
       "      <th>TypeCmV</th>\n",
       "    </tr>\n",
       "  </thead>\n",
       "  <tbody>\n",
       "    <tr>\n",
       "      <th>0</th>\n",
       "      <td>295.68</td>\n",
       "      <td>0.90</td>\n",
       "      <td>25.27</td>\n",
       "      <td>0.021</td>\n",
       "    </tr>\n",
       "    <tr>\n",
       "      <th>1</th>\n",
       "      <td>292.79</td>\n",
       "      <td>0.78</td>\n",
       "      <td>25.27</td>\n",
       "      <td>-0.017</td>\n",
       "    </tr>\n",
       "    <tr>\n",
       "      <th>2</th>\n",
       "      <td>292.04</td>\n",
       "      <td>0.74</td>\n",
       "      <td>25.26</td>\n",
       "      <td>-0.028</td>\n",
       "    </tr>\n",
       "    <tr>\n",
       "      <th>3</th>\n",
       "      <td>291.22</td>\n",
       "      <td>0.72</td>\n",
       "      <td>25.26</td>\n",
       "      <td>-0.037</td>\n",
       "    </tr>\n",
       "    <tr>\n",
       "      <th>4</th>\n",
       "      <td>290.56</td>\n",
       "      <td>0.69</td>\n",
       "      <td>25.26</td>\n",
       "      <td>-0.045</td>\n",
       "    </tr>\n",
       "  </tbody>\n",
       "</table>\n",
       "</div>"
      ],
      "text/plain": [
       "        T  TypeKmV    CJC  TypeCmV\n",
       "0  295.68     0.90  25.27    0.021\n",
       "1  292.79     0.78  25.27   -0.017\n",
       "2  292.04     0.74  25.26   -0.028\n",
       "3  291.22     0.72  25.26   -0.037\n",
       "4  290.56     0.69  25.26   -0.045"
      ]
     },
     "execution_count": 2,
     "metadata": {},
     "output_type": "execute_result"
    }
   ],
   "source": [
    "# make sure you are in the same dir as the file\n",
    "# read in the file and drop Na cols\n",
    "df = pd.read_excel('Type C Table 4-2-18.xlsx')\n",
    "df.dropna(axis=1, inplace=True)\n",
    "df.head()"
   ]
  },
  {
   "cell_type": "code",
   "execution_count": 3,
   "metadata": {},
   "outputs": [
    {
     "data": {
      "text/html": [
       "<div>\n",
       "<style>\n",
       "    .dataframe thead tr:only-child th {\n",
       "        text-align: right;\n",
       "    }\n",
       "\n",
       "    .dataframe thead th {\n",
       "        text-align: left;\n",
       "    }\n",
       "\n",
       "    .dataframe tbody tr th {\n",
       "        vertical-align: top;\n",
       "    }\n",
       "</style>\n",
       "<table border=\"1\" class=\"dataframe\">\n",
       "  <thead>\n",
       "    <tr style=\"text-align: right;\">\n",
       "      <th></th>\n",
       "      <th>T</th>\n",
       "      <th>TypeKmV</th>\n",
       "      <th>CJC</th>\n",
       "      <th>TypeCmV</th>\n",
       "    </tr>\n",
       "  </thead>\n",
       "  <tbody>\n",
       "    <tr>\n",
       "      <th>0</th>\n",
       "      <td>295.68</td>\n",
       "      <td>0.90</td>\n",
       "      <td>25.27</td>\n",
       "      <td>0.021</td>\n",
       "    </tr>\n",
       "    <tr>\n",
       "      <th>1</th>\n",
       "      <td>292.79</td>\n",
       "      <td>0.78</td>\n",
       "      <td>25.27</td>\n",
       "      <td>-0.017</td>\n",
       "    </tr>\n",
       "    <tr>\n",
       "      <th>2</th>\n",
       "      <td>292.04</td>\n",
       "      <td>0.74</td>\n",
       "      <td>25.26</td>\n",
       "      <td>-0.028</td>\n",
       "    </tr>\n",
       "    <tr>\n",
       "      <th>3</th>\n",
       "      <td>291.22</td>\n",
       "      <td>0.72</td>\n",
       "      <td>25.26</td>\n",
       "      <td>-0.037</td>\n",
       "    </tr>\n",
       "    <tr>\n",
       "      <th>4</th>\n",
       "      <td>290.56</td>\n",
       "      <td>0.69</td>\n",
       "      <td>25.26</td>\n",
       "      <td>-0.045</td>\n",
       "    </tr>\n",
       "  </tbody>\n",
       "</table>\n",
       "</div>"
      ],
      "text/plain": [
       "        T  TypeKmV    CJC  TypeCmV\n",
       "0  295.68     0.90  25.27    0.021\n",
       "1  292.79     0.78  25.27   -0.017\n",
       "2  292.04     0.74  25.26   -0.028\n",
       "3  291.22     0.72  25.26   -0.037\n",
       "4  290.56     0.69  25.26   -0.045"
      ]
     },
     "execution_count": 3,
     "metadata": {},
     "output_type": "execute_result"
    }
   ],
   "source": [
    "# NIST has values calibrated for T > 273.15 K, lets find the Tref based on these points\n",
    "# I am using Kelvin for all T. The CJC is quoted in deg C.\n",
    "tempdf = df.query('T>273.15')\n",
    "tempdf.head()"
   ]
  },
  {
   "cell_type": "code",
   "execution_count": 4,
   "metadata": {
    "collapsed": true
   },
   "outputs": [],
   "source": [
    "# Let's find the T_ref by using this function to take the TypeC mV and the T to find the Tref\n",
    "def find_Tref(mV, T):\n",
    "    x = np.arange(290, 301, 0.01)\n",
    "    x = x[::-1] # lets reverse x\n",
    "    i = 1\n",
    "    while typeC.inverse_KmV(mV, Tref=x[i]) - T >= 0:\n",
    "        i += 1\n",
    "#     print(x[i])\n",
    "    return x[i]"
   ]
  },
  {
   "cell_type": "code",
   "execution_count": 5,
   "metadata": {},
   "outputs": [],
   "source": [
    "# This isn't the fastest way to do things, but since its just a short amount of rows, lets iterate over the mV and T\n",
    "# to find Tref\n",
    "Treflist=[]\n",
    "for idx in tempdf.index:\n",
    "    # print(idx)\n",
    "    Treflist.append(find_Tref(mV=tempdf['TypeCmV'][idx], T=tempdf['T'][idx]))\n"
   ]
  },
  {
   "cell_type": "code",
   "execution_count": 6,
   "metadata": {},
   "outputs": [
    {
     "name": "stdout",
     "output_type": "stream",
     "text": [
      "['294.16', '294.01', '294.05', '293.89', '293.81', '293.93', '293.96', '294.15', '294.08', '294.21', '294.18', '294.30', '294.32', '294.24', '294.37', '294.28', '294.38', '294.37', '294.42', '294.42', '294.41', '294.42', '294.54', '294.47', '294.58', '294.48', '294.58', '294.55', '294.65', '294.71', '294.72', '294.60', '294.70', '294.71', '294.68', '294.72', '294.73', '294.81', '294.86', '294.78', '294.83', '294.74', '295.78', '294.98', '295.06', '294.99', '294.99', '294.92', '294.89', '294.95', '295.08', '294.91', '295.03', '295.05', '295.17', '295.11', '295.10', '295.12', '295.16', '295.20', '295.13', '295.19', '295.19', '295.25', '295.26', '295.24']\n"
     ]
    }
   ],
   "source": [
    "print( ['%0.2f'% x for x in Treflist])"
   ]
  },
  {
   "cell_type": "code",
   "execution_count": 7,
   "metadata": {},
   "outputs": [
    {
     "name": "stdout",
     "output_type": "stream",
     "text": [
      "294.6749999999957\n",
      "0.2937438416187858\n"
     ]
    }
   ],
   "source": [
    "# now average the Trefs:\n",
    "avg_Tref = np.mean(Treflist)\n",
    "print(avg_Tref)\n",
    "# I will use this Tref for further calcs\n",
    "Tref_emf = typeC.emf_mVK(avg_Tref)\n",
    "print(Tref_emf)\n",
    "# The Tref_emf value is very close to the value in the table at 273.15 K, so we'll use this value to correct the new values\n",
    "# The value taken at 273.15 K was during the cooling process and is likely to be less accurate than the room temperature value\n",
    "# across these multiple observations"
   ]
  },
  {
   "cell_type": "code",
   "execution_count": 8,
   "metadata": {},
   "outputs": [
    {
     "data": {
      "text/html": [
       "<div>\n",
       "<style>\n",
       "    .dataframe thead tr:only-child th {\n",
       "        text-align: right;\n",
       "    }\n",
       "\n",
       "    .dataframe thead th {\n",
       "        text-align: left;\n",
       "    }\n",
       "\n",
       "    .dataframe tbody tr th {\n",
       "        vertical-align: top;\n",
       "    }\n",
       "</style>\n",
       "<table border=\"1\" class=\"dataframe\">\n",
       "  <thead>\n",
       "    <tr style=\"text-align: right;\">\n",
       "      <th></th>\n",
       "      <th>T</th>\n",
       "      <th>TypeKmV</th>\n",
       "      <th>CJC</th>\n",
       "      <th>TypeCmV</th>\n",
       "      <th>TypeC_calib_mV</th>\n",
       "    </tr>\n",
       "  </thead>\n",
       "  <tbody>\n",
       "    <tr>\n",
       "      <th>0</th>\n",
       "      <td>295.68</td>\n",
       "      <td>0.90</td>\n",
       "      <td>25.27</td>\n",
       "      <td>0.021</td>\n",
       "      <td>0.314744</td>\n",
       "    </tr>\n",
       "    <tr>\n",
       "      <th>1</th>\n",
       "      <td>292.79</td>\n",
       "      <td>0.78</td>\n",
       "      <td>25.27</td>\n",
       "      <td>-0.017</td>\n",
       "      <td>0.276744</td>\n",
       "    </tr>\n",
       "    <tr>\n",
       "      <th>2</th>\n",
       "      <td>292.04</td>\n",
       "      <td>0.74</td>\n",
       "      <td>25.26</td>\n",
       "      <td>-0.028</td>\n",
       "      <td>0.265744</td>\n",
       "    </tr>\n",
       "    <tr>\n",
       "      <th>3</th>\n",
       "      <td>291.22</td>\n",
       "      <td>0.72</td>\n",
       "      <td>25.26</td>\n",
       "      <td>-0.037</td>\n",
       "      <td>0.256744</td>\n",
       "    </tr>\n",
       "    <tr>\n",
       "      <th>4</th>\n",
       "      <td>290.56</td>\n",
       "      <td>0.69</td>\n",
       "      <td>25.26</td>\n",
       "      <td>-0.045</td>\n",
       "      <td>0.248744</td>\n",
       "    </tr>\n",
       "  </tbody>\n",
       "</table>\n",
       "</div>"
      ],
      "text/plain": [
       "        T  TypeKmV    CJC  TypeCmV  TypeC_calib_mV\n",
       "0  295.68     0.90  25.27    0.021        0.314744\n",
       "1  292.79     0.78  25.27   -0.017        0.276744\n",
       "2  292.04     0.74  25.26   -0.028        0.265744\n",
       "3  291.22     0.72  25.26   -0.037        0.256744\n",
       "4  290.56     0.69  25.26   -0.045        0.248744"
      ]
     },
     "execution_count": 8,
     "metadata": {},
     "output_type": "execute_result"
    }
   ],
   "source": [
    "# The emf correction for 273.15 K is then: calibrated_emf = raw_emf + Tref_emf\n",
    "\n",
    "# Let's add this to the df we initially imported...\n",
    "\n",
    "df['TypeC_calib_mV'] = df['TypeCmV'] + Tref_emf\n",
    "\n",
    "df.head()\n",
    "# Compared to the NIST table, we appear to be off at most a little less than 1 deg K\n"
   ]
  },
  {
   "cell_type": "code",
   "execution_count": 9,
   "metadata": {},
   "outputs": [
    {
     "name": "stdout",
     "output_type": "stream",
     "text": [
      "-0.09996884322359076\n",
      "-0.0478884150234353\n"
     ]
    }
   ],
   "source": [
    "# Had we used the CJC temperature as a proxy for room temp, we would've been even more off.\n",
    "# compare the TypeCmV using Tref = CJC vs using Tref = 294.67:\n",
    "print(typeC.emf_mVK(291.22, Tref =(25.26+273.15)))\n",
    "print(typeC.emf_mVK(291.22, Tref =avg_Tref))"
   ]
  },
  {
   "cell_type": "code",
   "execution_count": 10,
   "metadata": {},
   "outputs": [
    {
     "data": {
      "text/plain": [
       "<IPython.core.display.Javascript object>"
      ]
     },
     "metadata": {},
     "output_type": "display_data"
    },
    {
     "data": {
      "text/html": [
       "<img src=\"data:image/png;base64,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\" width=\"640\">"
      ],
      "text/plain": [
       "<IPython.core.display.HTML object>"
      ]
     },
     "metadata": {},
     "output_type": "execute_result"
    },
    {
     "data": {
      "text/plain": [
       "Text(0,0.5,'Type C calibrated emf (mV)')"
      ]
     },
     "execution_count": 10,
     "metadata": {},
     "output_type": "execute_result"
    }
   ],
   "source": [
    "#  Let's visualize these results\n",
    "plt.plot(df['T'], df['TypeC_calib_mV'], 'o', ms=0.5 )\n",
    "plt.xlabel('Temperature (K)')\n",
    "plt.ylabel('Type C calibrated emf (mV)')\n",
    "\n",
    "# Interesting. I cooled first to LN2 temperatures and then allowed the sample to heat up slowly by evaporating LN2\n",
    "# The data agrees fairly well (within ~3 K) between the heating and cooling curves. I didn't heat all the way back up."
   ]
  },
  {
   "cell_type": "code",
   "execution_count": 11,
   "metadata": {},
   "outputs": [
    {
     "name": "stdout",
     "output_type": "stream",
     "text": [
      "            10             9             8             7             6\n",
      "-2.468e-21 x  + 4.853e-18 x - 4.224e-15 x + 2.138e-12 x - 6.955e-10 x\n",
      "              5             4            3          2\n",
      " + 1.516e-07 x - 2.234e-05 x + 0.002193 x - 0.1365 x + 4.852 x - 76.48\n"
     ]
    }
   ],
   "source": [
    "# Now lets fit the data to a polynowmial using least squares\n",
    "fit_coeffs = np.polyfit(df['T'],df['TypeC_calib_mV'], deg = 10 , full=True)\n",
    "# print(fit_coeffs)\n",
    "fit_poly = np.poly1d(fit_coeffs[0])\n",
    "print(fit_poly)\n"
   ]
  },
  {
   "cell_type": "code",
   "execution_count": 12,
   "metadata": {},
   "outputs": [
    {
     "data": {
      "text/plain": [
       "<IPython.core.display.Javascript object>"
      ]
     },
     "metadata": {},
     "output_type": "display_data"
    },
    {
     "data": {
      "text/html": [
       "<img src=\"data:image/png;base64,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\" width=\"640\">"
      ],
      "text/plain": [
       "<IPython.core.display.HTML object>"
      ]
     },
     "metadata": {},
     "output_type": "execute_result"
    },
    {
     "data": {
      "text/plain": [
       "[<matplotlib.lines.Line2D at 0x199bafc6828>]"
      ]
     },
     "execution_count": 12,
     "metadata": {},
     "output_type": "execute_result"
    }
   ],
   "source": [
    "fig, ax = plt.subplots()\n",
    "ax.plot(df['T'], df['TypeC_calib_mV'],'o',ms='0.5')\n",
    "ax.plot(df['T'], fit_poly(df['T']) , 'o', ms='0.5')\n"
   ]
  },
  {
   "cell_type": "markdown",
   "metadata": {},
   "source": [
    "The 10th degree polynomial appears to give the best fit overall. \n",
    "The lower order polynomials dont fit the curve exceedingly well below 100 K\n",
    "\n",
    "Also, the polynomial tracks the heating curve (the slightly higher mV points from 80-150K) a little more closely than the cooling curve (295 to 80 K). Heating occurred much more slowly than cooling, so I expect it to me more accurate anyways."
   ]
  },
  {
   "cell_type": "code",
   "execution_count": 13,
   "metadata": {},
   "outputs": [
    {
     "name": "stdout",
     "output_type": "stream",
     "text": [
      "-0.008672368463692237\n",
      "0.0\n"
     ]
    }
   ],
   "source": [
    "# These mV values are also close ~0.5 degrees K of one another\n",
    "print(fit_poly(273.15))  # fit\n",
    "print(typeC.emf_mVK(273.15))  # NIST value  "
   ]
  },
  {
   "cell_type": "markdown",
   "metadata": {},
   "source": [
    "It's also a good idea to check that the polynomial does not have any inflection points, at least in the area we are interested in using the polynomial (77 K - 273.15 K). We can use the second derivative test to see if this will be important for our case."
   ]
  },
  {
   "cell_type": "code",
   "execution_count": 14,
   "metadata": {},
   "outputs": [
    {
     "name": "stdout",
     "output_type": "stream",
     "text": [
      "Poly(-2.220789193755e-19*x**8 + 3.49447952674968e-16*x**7 - 2.36535708742166e-13*x**6 + 8.97950152217577e-11*x**5 - 2.08660828978412e-8*x**4 + 3.03157355808982e-6*x**3 - 0.00026813508993774*x**2 + 0.0131554746779969*x - 0.273020054051992, x, domain='RR')\n"
     ]
    },
    {
     "data": {
      "text/plain": [
       "[79.5291555364771,\n",
       " 123.504171677505,\n",
       " 139.821834537708,\n",
       " 287.451235817243,\n",
       " 209.472872466926 - 34.4469269589835*I,\n",
       " 209.472872466926 + 34.4469269589835*I,\n",
       " 262.139177916871 - 19.6448808864128*I,\n",
       " 262.139177916871 + 19.6448808864128*I]"
      ]
     },
     "execution_count": 14,
     "metadata": {},
     "output_type": "execute_result"
    }
   ],
   "source": [
    "x = sp.symbols('x')\n",
    "polynom = sp.Poly(fit_coeffs[0],x)\n",
    "# print(fit_coeffs[0])\n",
    "# find the second derivative of the polynomial\n",
    "second_derivative = polynom.diff(x,x)\n",
    "print(second_derivative)\n",
    "sp.solve(second_derivative,x, domain= sp.S.Reals)"
   ]
  },
  {
   "cell_type": "code",
   "execution_count": 15,
   "metadata": {},
   "outputs": [
    {
     "name": "stdout",
     "output_type": "stream",
     "text": [
      "-0.000224266702337661\n",
      "3.40080073257809e-5\n",
      "\n",
      "\n",
      "1.97843428458855e-5\n",
      "-5.80942005079521e-6\n",
      "\n",
      "\n",
      "-1.15999729153327e-5\n",
      "1.73786045589708e-5\n",
      "\n",
      "\n",
      "2.48646079961112e-5\n",
      "-4.02928122955615e-5\n"
     ]
    }
   ],
   "source": [
    "print(second_derivative.evalf(subs={x:77}))\n",
    "print(second_derivative.evalf(subs={x:80}))\n",
    "print('\\n')\n",
    "print(second_derivative.evalf(subs={x:120}))\n",
    "print(second_derivative.evalf(subs={x:125}))\n",
    "print('\\n')\n",
    "print(second_derivative.evalf(subs={x:135}))\n",
    "print(second_derivative.evalf(subs={x:145}))\n",
    "print('\\n')\n",
    "print(second_derivative.evalf(subs={x:283}))\n",
    "print(second_derivative.evalf(subs={x:291}))"
   ]
  },
  {
   "cell_type": "code",
   "execution_count": 16,
   "metadata": {},
   "outputs": [
    {
     "name": "stdout",
     "output_type": "stream",
     "text": [
      "Poly(-2.46754354861667e-20*x**9 + 4.3680994084371e-17*x**8 - 3.37908155345951e-14*x**7 + 1.4965835870293e-11*x**6 - 4.17321657956824e-9*x**5 + 7.57893389522456e-7*x**4 - 8.93783633125802e-5*x**3 + 0.00657773733899845*x**2 - 0.273020054051992*x + 4.85219278621867, x, domain='RR')\n"
     ]
    },
    {
     "data": {
      "text/plain": [
       "[75.9199175625991,\n",
       " 83.8674958793105,\n",
       " 314.778606875682,\n",
       " 141.153509360179 - 43.2042440876864*I,\n",
       " 141.153509360179 + 43.2042440876864*I,\n",
       " 219.436756251011 - 70.4230792350175*I,\n",
       " 219.436756251011 + 70.4230792350175*I,\n",
       " 287.237629544313 - 47.6057277244884*I,\n",
       " 287.237629544313 + 47.6057277244884*I]"
      ]
     },
     "execution_count": 16,
     "metadata": {},
     "output_type": "execute_result"
    }
   ],
   "source": [
    "first_deriv = polynom.diff(x)\n",
    "print(first_deriv)\n",
    "sp.solve(first_deriv,x, domain= sp.S.Reals)"
   ]
  },
  {
   "cell_type": "code",
   "execution_count": 17,
   "metadata": {},
   "outputs": [
    {
     "name": "stdout",
     "output_type": "stream",
     "text": [
      "-0.000565456502618744\n",
      "3.17758165184756e-5\n"
     ]
    }
   ],
   "source": [
    "print(first_deriv.evalf(subs={x:80}))\n",
    "print(first_deriv.evalf(subs={x:84}))"
   ]
  },
  {
   "cell_type": "markdown",
   "metadata": {},
   "source": [
    "Well this is not optimal-- there exists a local minimum at 83.86 K in our polynomial fit. We can attempt to fit an exponential curve to this very low temperature data and append this to the polynomial function."
   ]
  },
  {
   "cell_type": "code",
   "execution_count": 18,
   "metadata": {},
   "outputs": [
    {
     "name": "stdout",
     "output_type": "stream",
     "text": [
      "(array([16.41152512,  0.1313597 , 19.07371315, -1.87311107]), array([[1.91104025e+11, 1.71274981e+02, 1.16371755e+10, 1.36039738e+01],\n",
      "       [1.71275015e+02, 1.17634328e-05, 1.04308994e+01, 1.53406689e-06],\n",
      "       [1.16371755e+10, 1.04308973e+01, 7.08639458e+08, 8.28565598e-01],\n",
      "       [1.36039785e+01, 1.53406690e-06, 8.28565885e-01, 2.64521791e-07]]))\n"
     ]
    }
   ],
   "source": [
    "lowT_df = df.query('T<103')\n",
    "# Now lets fit the data to an exponential\n",
    "# print(np.min(lowT_df['TypeC_calib_mV']))\n",
    "def func(x, a, b, c, d):\n",
    "    return a * np.exp(b * x - c) + d\n",
    "\n",
    "fit_coeffs = optimize.curve_fit(func, lowT_df['T'],lowT_df['TypeC_calib_mV'], p0=(1, 1, 90, -3))\n",
    "print(fit_coeffs)\n",
    "a = fit_coeffs[0][0]\n",
    "b = fit_coeffs[0][1]\n",
    "c = fit_coeffs[0][2]\n",
    "d =  fit_coeffs[0][3]\n",
    "expfunc = func(lowT_df['T'],a,b,c,d)"
   ]
  },
  {
   "cell_type": "code",
   "execution_count": 19,
   "metadata": {},
   "outputs": [
    {
     "data": {
      "text/plain": [
       "<IPython.core.display.Javascript object>"
      ]
     },
     "metadata": {},
     "output_type": "display_data"
    },
    {
     "data": {
      "text/html": [
       "<img src=\"data:image/png;base64,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\" width=\"640\">"
      ],
      "text/plain": [
       "<IPython.core.display.HTML object>"
      ]
     },
     "metadata": {},
     "output_type": "execute_result"
    },
    {
     "data": {
      "text/plain": [
       "[<matplotlib.lines.Line2D at 0x199bb4a60f0>]"
      ]
     },
     "execution_count": 19,
     "metadata": {},
     "output_type": "execute_result"
    }
   ],
   "source": [
    "fig3, ax3 = plt.subplots()\n",
    "# ax3.plot(lowT_df['T'], a*np.exp(b*lowT_df['TypeC_calib_mV']), 'o',ms='0.5')\n",
    "ax3.plot(lowT_df['T'], lowT_df['TypeC_calib_mV'], 'o',ms='0.5')\n",
    "ax3.plot(lowT_df['T'], expfunc, 'o',ms='0.5',color='r')"
   ]
  },
  {
   "cell_type": "markdown",
   "metadata": {},
   "source": [
    "This appears to be a better fit than the polynomial in this regime. Now lets concatenate these two functions and interpolate near the points around 100 K to smooth things out if necessary. Recall that the two functions are fit_poly and expfunc"
   ]
  },
  {
   "cell_type": "code",
   "execution_count": 20,
   "metadata": {},
   "outputs": [
    {
     "data": {
      "text/plain": [
       "<IPython.core.display.Javascript object>"
      ]
     },
     "metadata": {},
     "output_type": "display_data"
    },
    {
     "data": {
      "text/html": [
       "<img src=\"data:image/png;base64,iVBORw0KGgoAAAANSUhEUgAAAoAAAAHgCAYAAAA10dzkAAAgAElEQVR4nO3dfZyUdb3/8TfKzYIrpODNSnEwS0FF8KxHpV/mqCiamtkNlid/rb/OQzCtZLdSo3A41jmnx8GkMgUVwdtKuj+dWk1dstTCRs2juCuSJA57TFRudAkEPr8/rpnlmmvn5pr9zt0183o+HtfD3dlrhovrGuHF93td10gAAAAAAAAAAAAAAAAAAAAAAAAAAAAAAAAAAAAAAAAAAAAAAAAAAAAAAAAAAAAAAAAAAAAAAAAAAAAAAAAAAAAAAAAAAAAAAAAAAAAAAAAAAAAAAAAAAAAAAAAAAAAAAAAAAAAAAAAAAAAAAAAAAAAAAAAAAAAAAAAAAAAAAAAAAAAAAAAAAAAAAAAAAAAAAAAAAAAAAAAAAAAAAAAAAAAAAAAAAAAAAAAAAAAAAAAAAAAAAAAAAAAAAAAAAAAAAAAAAAAAAAAAAAAAAAAAAAAAAAAAAKDfEEnjJY1mYWFhYWFhidQyXt7f40DRxksyFhYWFhYWlkgu4wUMwmhJtn79etu8eTMLCwsLCwtLBJb169enA3B0lTsCETVakm3evNkAAEA0bN68mQCEEwIQAICIIQDhigAEACBiCEC4IgABAIgYAhCuCgbg7t27bceOHbZt2zaWGlt27Nhhu3fvruAfOQCAWkAAwlXeANy+fbutW7fOVq9ezVKjy7p162z79u0V/qMHAFBNBCBc5QzAXbt2WXd3t61Zs8Y2bdpkfX19VR/xYtmz9PX12aZNm2zNmjXW3d1tu3btqsIfQQCAaiAA4SpnAG7bts1Wr15tb731VhXe2gjrrbfestWrV9u2bduqvSkAgAohAOGqYAASFrWN4wQAjYcAhCsCMOI4TgDQeAhAuCIAs1i2bJmNGTOmqOf8/ve/t6OPPtqGDh1q5513nnV1dZkke+ONN8q0lZ5GPk4A0KgIQLgiALMYTAAef/zx9qlPfcrWr19vb7zxhm3fvt16e3v7b9MymNcMo5GPEwA0KgIQrgjALAYTa2PHjrXbbrutpK8ZRiMfJwBoVAQgXNVlAJ588sl22WWX2WWXXWZjxoyx/fff3+bNm9c/Gvf666/bRRddZO94xzts5MiRduaZZ9rzzz/f/3x/rL344os2ZMgQe/zxxzN+je985zs2YcIE+8tf/pL+n7B/WbZsWcYUcPpr/3LNNdeU5Pca5eMEABgcAhCu6jYAm5ub7Qtf+IJ1d3fbXXfdZaNGjbKbb77ZzMw+9KEP2eTJk+3hhx+2p556ymbOnGnvec97bMeOHWY2cLTu9NNPt89+9rMZv8axxx5r8+fPt507d1pvb6+NHj3aFi1aZL29vdbX15cRgNu3b7dFixbZ6NGjrbe313p7e23r1q0l+b1G+TgBAAaHAISrigRgckvS4l1xS25JOr9WGCeffLJNnjw542PSrrzySps8ebI9//zzJskeeeSR/p9t3LjRRo4caffee6+ZDQzAH/7wh7bffvvZ3//+dzMze+qpp2zIkCH24osv9q8zZswYW7ZsWf/3wYtAmAIGAJQKAQhXFQnAeFfcWpe0Wrwr7vxaYZx88sl28cUXZzz2s5/9zIYOHdr/3507d2b8fNq0abZgwQIzGxhr27dvtwMOOMC+//3vm5nZ5z//eTv11FMznk8AAgAqhQCEq7odASw2AKdOnWr/+q//ambZY629vd3OOOMM2759u40bN87uuuuujJ8TgACASiEA4apuzwGcPHlyxmNXXXVVwSngFStWmFn2WFu9erXttddedv3119uYMWOsr68v4+eFAvDuu++25ubmUv42zSzaxwkAMDgEIFzVbQA2Nzfb3Llzrbu72+655x7bZ599bPHixWZmdt5559mRRx5pv/vd7+ypp56yM888M+9FIGnve9/7bPjw4TZnzpwBPysUgI888ohJsgceeMBeffXVkn3GcpSPEwBgcAhAuKrbAPzsZz9rc+bMsdGjR9t+++1nV1111YDbwIwZM8ZGjhxpM2fOzHkbGL+lS5eaJFu1atWAnxUKQDOzOXPm2NixY7kNDADACQEIV3UbgF/4whdK/rpf//rX7eijjy7567qI8nECAAwOARgN8yQ9KqlP0qaQzxlw4+DU8qXAemdL+qOkbZI2SvpJkdtGAIawdetWW7VqlR100EH99xKsFVE+TgCAwSEAo2GBpLmSrlP4ADw4sFwsabekd/vW+aik1yXNkXS4pCMkfazIbSMAQ/j0pz9tw4cPt1mzZg24erjaonycAACD091NAEZJm8IHYNDPJD3o+36opJclfcZxm+oyABsJxwkAGs9VVxGAUdKmwQXgQZLelnSh77Hj5R34iyU9KalX0q8lHVXgtUbIe7Okl/EiACON4wQAjYcRwGhp0+AC8MvypnqbfI99Qt6B/6u8qeBWSffIOw9w/zyvFVeWcwsJwOjiOAFA40gmzeJxArCa4sp9oUZ6OS7wnDYNLgC7JX038NiFqV/jEt9jIyS9Kml2ntdiBLDOcJwAoHHE42atrUwBV9M4SZMKLE2B57Sp+AA8Sd4Bnhp4/JTU4+8PPP5HSd8o4vU5BzDiOE4A0DgYAYymNhUfgMsl/SnL46Ml/V2ZF4EMk/SKMkcFCyEAI47jBACNIR1/ySS3gYmKCZKmSZovaWvq62mSmn3rdEs6P/C80ZLeknebl2wWybsS+Ax5t4C5VV4A7lfEthGAEcdxAoDGkJ7+jccJwKhYruznCMZ865i8EUK/S+TdPHpMjtcdJmmhvOjbIuk3KnwVcBABOEjPPfecnXDCCTZixAibOnVq1baD4wQA9S+ZNGtvN+voYAQQpUEADtKsWbPs1FNPtXXr1tnGjRurth0cJwCof/7RPzMCEO4IwEFqbW21+fPnV3szOE4A0AD85/+ZmXW/3E0AwkldBuDu3bvtm9/8ph166KHW1NRkxxxzjK1YscLMzBYsWGAtLS0Zo3bnnnuunXTSSbZr1y4zM5NkN954o5155pnW1NRkEydOtHvvvbd/fQWm86+55hrr6uoySfbGG2/0r/fkk0+aJHvxxRfNzGzZsmU2ZswY6+zstEmTJtk+++xjM2fOtA0bNmRs/9KlS+3II4+04cOH28EHH2yXXXZZzt9rlI8TACC3YPT5XfXLqwhAOKnLAPzKV75ikyZNss7OTlu7dq0tW7bMRowYYStXrrSdO3fa9OnT7cMf/rCZmd100002ZswYW7duXf/zJdnYsWPtlltusZ6eHvvqV79qe++9t61evdrMzHp7e+2oo46yjo4O6+3tta1bt4YOwGHDhtmMGTPs8ccft0QiYZMnT7YLL7yw/zk33nijNTU12aJFi6ynp8dWrVpl119/fc7fa5SPEwAgt+C0rx8jgHBVmQDM98+YEnvzzTetqanJHn300YzHP/OZz9gnP/lJMzNbu3at7bvvvnbllVfaqFGj7K677spYV5LNmTMn47ETTjjBLr300v7vp06datdcc03/92EDUJK98MIL/et873vfs4MOOqj/+0MOOcTmzZsX+vdLAAJAfcr2V2dyS9LiXXECEM4qE4D5/hlTYqtWrTJJts8++2Qsw4YNs+OPP75/vSVLlpgku+CCCwa8hiS7/fbbMx674oorLBaL9X8/2AAcNWpUxuv+5Cc/sSFDhpiZ2SuvvGKS7KGHHgr9+yUAAaB+5BsvSW5JWmxZzKbcOIUpYDiruxHAP/zhDybJVq5caWvWrMlYXnrppf71/vmf/9n23ntvO+GEE+ztt9/OeA3lCMBTTjml//tgAP72t781Sfb666/3P5aO0eA5gH4//elPTZKZmW3ZsoUABIAGlmu8JB1/k747yWLLYowAwlndnQO4ZcsWGzFihN1xxx051/nBD35gI0eOtN/97nd2yCGHDLiaV1LGdK+Z2Yknnph3Cnj16tUmyZ599tn+x26++eaiAtDMbOLEiUwBA0CDyjVeEu+K25Qbp1hsWcySW5LcBgbO6i4AzczmzZtnY8eOteXLl9sLL7xgTzzxhN1www22fPlyW79+ve233372ne98x8zM7r//fhs2bJg99thj/c+XZOPGjbOlS5daT0+PzZ8/3/baa6+MuAsG4I4dO+xd73qXffzjH7eenh775S9/aUcccUTRAbh8+XJramqyb3/72/b8889bIpHo39ZsonycAACeQhNl6XP/klu8FQhAuKrLANy9e7d9+9vftiOOOMKGDRtmBxxwgM2cOdNWrlxpp512ms2cOdN2797dv/7cuXPtsMMOs61bt5qZF4Df+9737PTTT7cRI0bYP/zDP9j3v//9jF8jGIBmZr///e9typQp1tTUZCeddJKtWLGi6AA0M1u8eHH/tre0tNjnPve5nL/XKB8nAICn2FPlCUC4qssAdCXJfvrTn1Z7M0Jp5OMEAPUi3xW/6VE/PwIQrgjALEQAAgAqJN95f61LWi3eNXBYkACEKwIwCxGAAIAKyXflLyOAKBcCMOI4TgAQbYO5UxoBCFcEYMRxnACgfuQb9fMjAOGKAIw4jhMA1I985/35EYBwRQBGHMcJAKIvPfKX2JBgBBAVQQBGHMcJAKIv7MhfGgEIVwRgxHGcACDakluS1t7Zbh33dRQc+UsjAOGKAIw4jhMARFuxo39mBCDcEYARx3ECgGgLe+WvHwEIV3UZgJ/+9KfT/2PY0KFD7cADD7QZM2bY0qVLbdeuXaFfJ9tn99aaKB8nAMDgEIBwVbcBeOaZZ1pvb6+9/PLLlkgk7Bvf+IY1NzfbWWedZW+//Xao1yEAAQC1iACEq7oNwPPOO2/A4w8++KBJsltuucXMzK677jo7+uijbdSoUfbOd77TLr30Utu6dauZmXV1dfWPIqaXa665xszM7rzzTmttbbXm5mY76KCD7JOf/KS98sorFfv9+UX5OAEABocAhKuGCkAzs6lTp9pZZ51lZmbXX3+9PfTQQ/aXv/zFHnzwQTviiCPs0ksvNTOz7du326JFi2z06NHW29trvb29/XG4dOlS+9WvfmVr1661xx57zE488cT+16y0KB8nAMDgEIBwVZEAHMznHLrIF4AXXHCBTZ48OevP7r33Xhs7dmz/92GngFetWmWS+gOxkghAAGg8BCBcVSQA43Gz1lbvv5WQLwBnzZplRx55pJmZPfTQQzZjxgw75JBDrLm52ZqamkySvfnmm2aWOwCfeOIJ+9CHPmQTJkyw5uZmGzVqlEmyZ599tny/qRwIQABoPAQgXDXcCOCUKVPs7LPPtnXr1llTU5NdccUV9thjj1lPT48tXbrUJNkbb7xhZtkD8M0337Rx48bZhRdeaA8//LA999xzdt9995kke/LJJ8v+ewsiAAGg8RCAcNVQ5wCmLwK57bbb7Ec/+pENHTo047Yw1157bUYA3n333dbc3JzxGn/6059Mkr300kv9j915550EIACgYgMeBCBc1W0A5roNzDnnnGM7d+60J5980iTZokWLbO3atXbHHXfY+PHjMwLwkUceMUn2wAMP2KuvvmpvvfWW/e1vf7Phw4fbl770JVu7dq39/Oc/t8MPP5wABABU7JQnAhCu6jYA5bsR9AEHHGAzZsyw2267LWPE71vf+pa1tLTYyJEjbebMmXbHHXdkBKCZ2Zw5c2zs2LEZt4G55557bOLEiTZixAibPn26/eIXvyAAAQCMACIy6jIAGwnHCQCqq9LnuZsRgHBHAEYcxwkAqqvSd7owIwDhjgCMOI4TAFQXI4CIIgIw4jhOAFB5uaIvuSVp8a64JbeUtwYJQLgiACOO4wQAlZdr2jfeFbfWJa0W7yrvfDABCFcEYMRxnACgspJJs/Z2s44ORgARXQUDsK+vr6xvYrjp6+sjAAGggoKjf5WKPj8CEK5yBuDOnTtt9erVtnHjxoq9oVG8jRs32urVq23nzp3V3hQAaAjB8/8qNe3rRwDCVc4ANDPbsGFDfwT29fXZtm3bWGpk6evr64+/DRs2VOwPHQBoRPmu9GUEEFGUNwB3797dH4Estbls2LDBdu/eXbE/dACgEVXjXn/5EIBwlTcA03bu3Fn1ES+WgQvTvgBQGcERwGqM+vkRgHAVKgABAGgkhaZ8Y8tiNuXGKRU978+PAIQrAhAAgIB8U77xrrhNuXGKxZbFGAFEZBGAAAAE1NpFH0EEIFwRgAAApFTjc30HgwCMhnmSHpXUJ2lTyOdYjuVLvnUOl/RzSRslbZH0iKRTitw2AhAAgJRcU7+1MOrnRwBGwwJJcyVdp/ABeHBguVjSbknv9q2zRtJ/SzpG0nslfU/SW6n1wyIAAQBIyTUCWI2bPedDAEZLm8IHYNDPJD3o+36cvAN/ku+xfVOPnVbE6xKAAICGV2jqlxFAuGjT4ALwIElvS7rQ99gQSasl3SJpH0lDJX1R0v9KekcRr00AAgAaXq3d6LkQAjBa2jS4APyypNclNQUeHy/pT/KmhndKSkqaVuC1Rsh7s6SX8SIAAQANrtZu9FwIAVg9ceW+UCO9HBd4TpsGF4Ddkr4beGyIvAtAfiXp/0j6R0k3SnpZUkux200AAgAaUVTO+QsiAKtnnKRJBZbgiF2big/Ak+Qd4KmBx0+TtEsDD/waSVfleT1GAAEASInKVb9BBGC0tKn4AFwub5o36Fx5AdgceLxH0leKeH3OAQQANJz0yF8iEa2p3zQCMBomyDs3b76kramvpykz3rolnR943mh5t3WZk+U1x8m7/9+P5Y0OHi7pPyXt0MDRwnwIQABAw8k18lfrU79pBGA0LFf2cwRjvnVM3gih3yXybh49JsfrHifpPkmvybsR9GOSzipy2whAAEDDyXXRR2JDghFANAQCEADQULJd+BGVkb80AhCuCEAAQEPxT/9GbeQvjQCEKwIQANBQ/COAURv5SyMA4YoABADUvVz3+4vKVb9BBCBcEYAAgLoXvOo3quGXRgDCFQEIAKh7/hHA5JakxZbFbMqNUyI39ZtGAMIVAQgAqFu5rvidcuMUiy2LMQKIhkUAAgDqVrYbPkd9+teMAIQ7AhAAULf6P/Ktpzfy0edHAMIVAQgAqCv1cKPnQghAuCIAAQB1pV6nff0IQLgiAAEAdSV4xW89hV8aAQhXBCAAIPJy3ei53qZ+0whAuCIAAQCRl23a14wRQCAXAhAAEHmNMO3rRwDCFQEIAIikRpv29SMA4YoABABEUqNN+/oRgHBFAAIAIqX/5s6J7COAjYAAhCsCEAAQKY1wn79CCEC4IgABAJHSCJ/0UQgBCFcEIAAgEnJd9GHGCCBQLAIQABAJwanfRos+PwIQrghAAEAkBEcAG23a148AhCsCEABQ03JN/TICSABi8AhAAEBNY+p3IAIQrghAAEBNY+p3IAIQrghAAEBNCoZfeuQvsSHBCCABCEcEIACgJgWnfhn524MAhCsCEABQk3KNADbyyF8aAQhXBCAAoGZku+KX8BuIAIQrAhAAUDOyfc4vU78DEYBwRQACAGqGfwSQiz5yIwDhigAEAFRdtqlfRv5yIwDhigAEAFRdtqlfzv3LjQCEKwIQAFA16ZG/RCL1355eoi8EAhCuCEAAQNVwr7/BIQDhigAEAFQN9/obHAIQrghAAEDFEX5uCEC4IgABABXH1K8bAhCuCEAAQMX1X/yRuuiDe/0VhwCEKwIQAFAxwalfRv4GhwCEKwIQAFAx6anfjqs3M/LngACEKwIQAFAx6RHA9hULGflzQADCFQEIACg7zvkrLQIQrghAAEDZpad+Y21djPyVAAEIVwQgAKDsEj29Fmvrss4nnmbkrwQIQLgiAAEAZeG/4perfUuLAIyGeZIeldQnaVPI5zRLukHSy5K2SXpO0qWBdUZI+q6kjZLekvQLSe8sctsIQABAWfhv9swnfZQWARgNCyTNlXSdwgfgLZJekBSTNFHSJZJ2SjrPt85N8gJxhqRjJT0k6SlJexexbQQgAKAs0tO+iZ7eam9K3SEAo6VN4QPwGUlfCzyWkHRt6usxknZIusD380Mk7ZI0s4htIgABACWXTHoXfEz55kymfcuAAIyWNoUPwMWSHpc0XtIQSadI2irp/amfnyrvwO8XeN6f5Y04hkUAAgBKruPqzXbge16y6Rd1Mu1bBgRgtLQpfAAOl3S7vIP7tqTtki7y/fzC1GNB90takud1R8h7s6SX8SIAAQAlkr7w45IlN1nLOYutfcXCam9SXSIAqycub8fnW44LPKdN4QPwi5J6JJ0r6RhJl8sbAZyR+nmuAPyNvNHDorabAAQAlELH1Zut5fCkze7goo9yIgCrZ5ykSQWWpsBz2hQuAEfKO7/v7MDjt0rqTH092ClgRgABAGXTvmIhI38VQABGS5vCBeBoeQf1rMDjS+RN8Up7LgKZ5ft5i7gIBABQBcGPemPkr7wIwGiYIGmapPnypnGnpZZm3zrdks73fb9S3pXAMUmHyovHbcq8F+BNktZLOk3ebWAeFLeBAQBUQXrqt+Nq/j6pBAIwGpYr+zmCMd86Ji/y0g6WtExSUl74dUtql3dFcFqTvBtBvybvJtP/JeldRW4bAQgAcMbUb2URgHBFAAIABsV/o2c+6aOyCEC4IgABAIMSa+uyUROetVhbV7U3peEQgHBFAAIABoWPeqseAhCuCEAAQGhEX20gAOGKAAQAhMa0b20gAOGKAAQAhMYIYG0gAOGKAAQA5JW+yXOSC3xrBgEIVwQgACAvbvJcewhAuCIAAQB5cZPn2kMAwhUBCADIKn2+X+cTT3OT5xpDAMIVAQgAyIorfmsXAQhXBCAAICuu+K1dBCBcEYAAADPjat8oIQDhigAEAJgZV/tGCQEIVwQgADS49MjfJUtu4mrfiCAA4YoABIAGlx75m92R5GrfiCAA4YoABIAGx33+oocAhCsCEAAaFPf5iy4CEK4IQABoUNznL7oIQLgiAAGgQXGfv+giAOGKAASAeue7wR/RVx8IQLgiAAGg3sXjZq2tZvE40751ggCEKwIQAOodI4B1hwCEKwIQAOoc0Vd/CEC4IgABoF6lRv7OmNXJtG+dIQDhigAEgHqVOvev+/IFjADWGQIQrghAAKhTTz78tLVNu82efPjpam8KSowAhCsCEADqFFf81i8CEK4IQACoJ1zx2xAIQLgiAAGgjnRfvsA6xv6ndV++oNqbgjIiAOGKAASAOnLGrE6bMOYpO2NWZ7U3BWVEAMIVAQgAdSB9wccP7nmEad8GQADCFQEIABHX25Ow2WP/zY4a9idrm3ZbtTcHFUAAwhUBCAAR19UWs98edKjNHvtv3PKlQRCAcEUAAkBEJbckLd4Vtwfu6+J+fw2GAIQrAhAAImrhinZbfE6LnTGr01pbvbu/oDEQgHBFAAJARG2+usOSh7dY9+UL0rf+Q4MgAOGKAASAiEomei0e67Jkgit+Gw0BCFcEIABERPqcv+QWb6gvHjemfhsUAQhXBCAARET6nL+FK9rNLONT39BgCEC4IgABoMalR/4Ss7/Mx7zBzAhAuCMAAaDGxbvi1rqk1bvatyVp8Q7+zG50BCBcEYAAUIP85/v1jwD29DLlCzMjAOGOAASAGpQe9Yt3xbnaFwMQgHBFAAJADfKPAMZjXdY66lmLx7qqvVmoEQQgXBGAAFDjGAFEEAEIVwQgANSIjPP+iD7kQQBGwzxJj0rqk7Qp5HOaJd0g6WVJ2yQ9J+lS38/3l/RdST2p131J0nckjSly2whAAKgR/vP+mPZFPgRgNCyQNFfSdQofgLdIekFSTNJESZdI2inpvNTPj5b0Y0nnSjpM0qmSnpf0oyK3jQAEgCrrv8p3Q4IRQIRCAEZLm8IH4DOSvhZ4LCHp2jzP+bik7ZKGFrFNBCAAVFl65K99xUJu84JQCMBoaVP4AFws6XFJ4yUNkXSKpK2S3p/nOf8i6dUit4kABIAqyHafvy9+LsmNnhEKARgtbQofgMMl3S7v4L4tb2Tvojzrj5X0V0lfL/C6I+S9WdLLeBGAAFBxGff5S32mb+KSmyzestiS7QurvXmocQRg9cTl7fh8y3GB57QpfAB+Ud4FHudKOkbS5fJGAGdkWXe0pD9I+rWkYYPZbgIQACor4z5/HZu9kb/ZqRJkDhgFEIDVM07SpAJLU+A5bQoXgCMl7ZB0duDxWyV1Bh7bV94Vxg9k+fWyYQQQAKrEH30Zj7cvZOQPRSEAo6VN4QJwtLyDelbg8SWS7g+s95iklZJGDXKbOAcQACok27RvMmmW+Q1QGAEYDRMkTZM0X9407rTU0uxbp1vS+b7vV8q7Ejgm6VB58bhNe+4FuK+8ad+n5d0G5mDfsncR20YAAkCFZJ325YIPDAIBGA3Llf0cwZhvHZMXeWkHS1omKSkv/Loltcu7Ilip5+Y693BiEdtGAAJAGTHti3IgAOGKAASAMmLaF+VAAMIVAQgAZZDt0z3icbPWVq/7ABcEIFwRgABQBv6RvzQ+3g2lQgDCFQEIAGXQPwLY07tnppchQJQIAQhXBCAAlEi2Cz4ymo/z/lAiBCBcEYAAUCJM+6JSCEC4IgABwFG2Cz76B/vaFzLti5IjAOGKAAQAR9lG/vqnfjs2M+2LkiMA4YoABABH2c79Y+oX5UQAwhUBCACDkDX6/Nd4cMUvyogAhCsCEAAGIe+0L1f8oswIQLgiAAFgEPwjgOnWS3S+wrQvKoIAhCsCEABCyDblm9Y/8hfrYtoXFUEAwhUBCAAhZJvyTeuf7U30Mu2LiiAA4YoABIA8st3jzyxwih/n+6HCCEC4IgABII9cI38ZF3xwxS8qjACEKwIQAPLIde5fxn3+GAFEhRGAcEUAAkAIAxqPUT9UEQEIVwQgAPjkGvEb0HuM+qGKCEC4IgABwCfXOX/0HmoJAQhXBCCAhpdxU+fACCC3eEEtIgDhigAE0PDy3eOPmzyjFhGAcEUAAmhoyS1Ja+9st477OrJ+ykf/1b6dTzMCiJpBAMIVAQigoQVH/7jaF1FAAMIVAQig4eQ754+rfZktK8cAABZPSURBVBEFBCBcEYAAGk6oz/Wl91DDCEC4IgABNIRQV/ryub6ICAIQrghAAA0h1JW+fK4vIoIAhCsCEEBDyPmZvkmz9nazjg5GABEdBCBcEYAAGlo8btY6Zbt3nz+iDxFBAMIVAQigLuUa8RuwXqLX4hNvs+SkU5n2RWQQgHBFAAKoS6Gv9I3HzaZMMYvFGAFEZBCAcEUAAqhL+UYA4x2brbUlafGOzZzzh0giAOGKAARQF8JO+ZqZJdsXWrxlsSXbF1Zgy4DSIwDhigAEUBfyTfmaca8/1BcCEK4IQACRlh75S2xI5B0BzJj2BSKOAIQrAhBAJKXDr+O+jrwjf/3rM+2LOkIAwhUBCCCS0lO+7Z3tOW/wnDHLy7Qv6ggBCFcEIIBIKnTRB1O+qGcEIFwRgADqElO+qGcEIFwRgAAiodCIH1O+aCQEIFwRgAAiodBtXuJxs9ZWPs0NjYEAhCsCEEDN8o/6FRwBTPRaPNZlyURvhbcSqDwCEK4IQAA1q9Con5kv/GYvYAgQDYMAhCsCEEDNCXtzZzOzeKzLWkc9a/HpnZzzh4ZBAMIVAQig5oQZ+Utf5JHsfJqpXzQcAhCuCEAANaGY8/3MuM0LGhsBGA3zJD0qqU/SppDPaZZ0g6SXJW2T9JykS3OsO0TSr+W9ET5c5LYRgABqQqhRP//63OgZDYwAjIYFkuZKuk7hA/AWSS9IikmaKOkSSTslnZdl3bmSfiUCEECEFXuVL7f5QyMjAKOlTeED8BlJXws8lpB0beCxqZLWSzpYBCCAOtZ/sUesq9qbAlQdARgtbQofgIslPS5pvLwp3lMkbZX0ft86oySt1p5RwTABOELemyW9jBcBCKDCwpzj5624Z5iP+/wBexCA0dKm8AE4XNLt8g7u25K2S7oosM4SSbf6vg8TgPHUehkLAQigksKe78eFHkB2BGD1xJUlpALLcYHntCl8AH5RUo+kcyUdI+lyeSOAM1I//5CkNfIuFkljBBBAzSrqKt/UyF98dpILPYAsCMDqGSdpUoGlKfCcNoULwJGSdkg6O/D4rZI6U18vkrRb3oUh6cUk7ZK0sojfB+cAAqiIoq7yTX2wb7J9IRd6AFkQgNHSpnABOFreQT0r8PgSSfenvj5Y0tGBxSR9XtKhRWwTAQigIsKO+nG+H1AYARgNEyRNkzRf3jTutNTin77tlnS+7/uV8q4EjskLujZ59wPMdS9AiauAAdSY0Bd7mPWP+lk87v8SQBYEYDQsV/ZzBGO+dUxe5KUdLGmZpKS88OuW1C7viuBcCEAANaWoaV//CCD3+APyIgDhigAEUDY5RwCzFB7RB4RHAMIVAQigZEJP+WaZ42XaFwiPAIQrAhBAyeSd8vUP8TECCDghAOGKAATgJPT9/XxDfMQe4IYAhCsCEICT0Bd6+KqP6V7ADQEIVwQgACd5R/1yDPUxAgi4IQDhigAEEFpR9/UzY9oXKBMCEK4IQAChFZzuDVYe075AWRCAcEUAAgit4AhgoPIKXPgLYJAIQLgiAAG4yVN5jPoB5UEAwhUBCCArl5s6978Go35AWRCAcEUAAshqMLd3IfiAyiAA4YoABGBmA0f8so4AFig8pnyByiAA4YoABGBmIUf8ChQeI4BAZRCAcEUAAjCzkOf88Rm+QE0gAOGKAASQXciyY9oXqDwCEK4IQADZhSw7RgCByiMA4YoABBpIUZ/by3QvULMIQLgiAIEGkvdCjxAjfkz3ArWBAIQrAhBoAOmRv8SGRPgRwGyvwwggUBMIQLgiAIEGEPqmzj7EHlC7CEC4IgCBBpAeAeztSYSuOqZ7gdpFAMIVAQg0gvRwXkdH6KpjBBCoXQQgXBGAQA0rNsJyXuWbHs5rb8/5ggQfEB0EIFwRgEANK3YaNue5fiHqjilfIDoIQLgiAIEa4O+zXF8PeE6W0b7enoR1tcW8c/0K/DrF/AxAbSEA4YoABGqAf/Qt7Ehc1tG+Ak9mlA+oDwQgXBGAQA0IO+qX8Zxs5/sVeDKjfEB9IADhigAEqsgpyIr4qDbCD6gvBCBcEYBAFTlNyWZ5cq7XY+oXqC8EIFwRgEAVFRqZy3lblxxPZgQQaAwEIFwRgECFFRN9C1e02+JzWmzhivaiXwdA/SIA4YoABCqs0HSsP/o2X91hycNbbPPVHUW/DoD6RQDCFQEIVFi2kTv//fsyoi/PMB8jgEDjIgDhigAEyixfqKXDr+ujrfbshFHW1Raj7AAURADCFQEIlFm+qdqutpgXfh9pzfsJHgDgRwDCFQEIlFlwQM8/3Vvoo9sAIBsCEK4IQKDEBszgBh7oH/Vri1VvIwFEGgEIVwQgUGLBKd/glbyM+gFwRQDCFQEIlFgy0WvxWJclE71mZnnv5QcAg0EAwhUBCJSCb5o3OOKX99M8AGAQCEC4IgCBEvBHHyN+AMqNAIQrAhAYjMCFHf7oY8QPQLkRgHBFAKIulfpeysHz+oJXeiR6ei3W1mWJnt7S/IIAkAcBCFcEIOpSqT8nNx7rstZRz1o81mVmA6/k5XN5AVQSAQhXBCAiLddIX9gRwNDrBUYA21cstJZzFlv7ioVFvQ4AlAIBCFcEICLNdeQt7POD5/V1XL3ZWg5PWsfV/L8DoPIIwGiYJ+lRSX2SNoV8TrOkGyS9LGmbpOckXZplvemSHpL0Vuq1V0oaWcS2EYCINNeRtwHn9uUQ74pb65JWi3fFS/LrAoALAjAaFkiaK+k6hQ/AWyS9ICkmaaKkSyTtlHSeb53pkjZLukrSUZLeK+ljkkYUsW0EIBpbyCFAruwFUEsIwGhpU/gAfEbS1wKPJSRd6/v+D4HvB4MARGNjKA9ABBGA0dKm8AG4WNLjksZLGiLpFElbJb0/9fMD5R34z8mbXn5F0m99P89lhLw3S3oZLwIQ9Shk2DGyByCKCMBoaVP4ABwu6XZ5B/dtSdslXeT7+Ympn70m6WJJx0q6PrXee/O8bjz1vIyFAERk5Qq9kFO7wXP7ACAKCMDqiStLSAWW4wLPaVP4APyipB5J50o6RtLl8kYAZ6R+/r7Ur/Fvgec9Lenf87wuI4CoL7lCjxFAAHWMAKyecZImFViaAs9pU7gAHClph6SzA4/fKqkz9fWh8g78pwLr/FDS3WF+AymcA4ho4xw+AA2IAIyWNoULwNHyDupZgceXSLo/9fUQSUkNvAjkSQ0cFSz4axGAqDeM7AGoZwRgNEyQNE3SfHnTuNNSS7NvnW5J5/u+XynvSuCYvNG+Nnn3A/TfC/AKebeB+Zik98iLwW2SDiti2whA1CXO7QNQzwjAaFiu7OcIxnzrmLzISztY0jJ5o3zb5AViu7yRP7+rJK2XdyPoR1X4KuAgAhB1iRFAAPWMAIQrAhCRRugBaEQEIFwRgIg0pnoBNCICEK4IQEQaI4AAGhEBCFcEIAAAEUMAwhUBCABAxBCAcEUAYiBurgwANY0AhCsCsFHli7yQn6MLAKgOAhCuCMBGlS/yGAEEgJpGAMIVAdioiDwAiCwCEK4IwCgj4gCgIRGAcEUA1qpk0qy93ayjI3fgca4eADQkAhCuqhKAYdqmnL92cNCs2IG0wb5GUb9OPG7JA6dZvPk/Ldm+sAQvCACoFwQgXFUlAONxs5YWb6n04FW2QbNiB9IG+xrxjs3W2pK0eEeI/Z1MWnx6p7Ue+FK49UuIT9cAgNpGAMIVI4A5Hiv6NRK9Fo91WTLRm/t57Qst3rI494heiF+nVPJFHp+vCwC1jQCEq4oFYCJhFouZdXbmj5pioqfSM6D9kdf5dP8v3P/YJSGGAIvY4JJPKQe0r1hoLecstvYVA2M00dNrsbYuS/TkjlkAQPUQgHBVsQCMxcxGjTKbODF/JxUzHVu2ayBylFU81mWto561+MTb+n/h/semFyjbIoWaUnb4/XdcvdlaDk9ax9UDjz3XlgBAbSMA4arxRgD9T0p/nUhkvlCOAso7Aphn6ncwwvzeXEbq8r0+15YAQG0jAOGq5AGY2JCwyTdMtqZrm+w9X/+Aze5IWmenF3+JRMl+mcHzx13661gsI/jKFXXFSG5JWntnu3Xc15HzYgzO1QOAxkQAwlXJAzC2LGaKy1ti8234O/9sB41/y4YM67Pmwx+3zjWd1t7ZbrP/a3bWuCl4BWq2EbxihqpCjACWawq0mKtr411xa1nYYi0LW3IGHlfrAkBjIgDhqqwjgPvNO8rGffC7duAlnzJNfMh0yT/a8fF32o0fGGW3/NNQu/ED+9jCFe0Zz1+4ot0Wn9My4PH+N/3VHZY8vMU2X92R8XVY/mhKf53YkMgIqVxTq9nWz/Ua2RQzYhdmBBAA0JgIQLgq/TmAiYTZ5MlmTU22/bBDbdU5rbbqtq/bMxNG2jMTRtpfP/FB27T/PtY3cpht2n+fAfFWKOr8gVgoFrPxR1j6Stjp3/poRpjlCrX047Flsf6fZ3ssF0bsAAClQADCVekDMBYzk/Yszc3epb977eUt06d7NwGcPTv7jQALTOtmG8ErJqj8z0lfCTu7I/N1cr2u6wggAAClQADCVemngO9ebbFRf7DOYWdbfP9FlvzUl71Lf1tbvcXxSpBSXqHK1a4AgCgiAOGq9BeBhLzf32BxjzoAQKMjAOGq9COAIe/3N1iM2gEAGh0BCFdluRF0NT/rFwCAekcAwlVZAjAeN2tp8RamagEAKC0CEK4YAQQAIGIIQLgqSwB2dnoXgXR2lvRlAQCAEYBwV5YAnDjRbMgQ778AAKC0CEC4YgQQAICIIQDhqiwBCAAAyocAhCsCEACAiCEA4YoABAAgYghAuCIAAQCIGAIQrghAAAAihgCEKwIQAICIIQDhigAEACBiCEC4IgABAIgYAhCuCEAAACKGAIQrAhAAgIghAOGKAAQAIGIIQLgiAAEAiBgCEK4IQAAAIoYAhCsCEACAiCEA4YoABAAgYghAuCIAAQCIGAIwGuZJelRSn6RNIZ/TLOkGSS9L2ibpOUmXBtY5WNKdkv5X0luSnpD0sSK3jQAEACBiCMBoWCBprqTrFD4Ab5H0gqSYpImSLpG0U9J5vnV+I2mVpOMlvVvSVyXtknRsEdtGAAIAEDEEYLS0KXwAPiPpa4HHEpKu9X3/pqSLAuu8JukzRWwTAQgAQMQQgNHSpvABuFjS45LGSxoi6RRJWyW937dOp6RfStpf0l6SPiEvCg/L87oj5L1Z0st4SbZ+/XrbvHkzCwsLCwsLSwSW9evXE4AR0qbwAThc0u3yDu7bkrZr4GjfGHkRmF5ns6TTC7xuPLU+CwsLCwsLS/SXiUJFxVX4oBwXeE6bwgfgFyX1SDpX0jGSLpc3AjjDt853Jf1R0mmSpkq6JvX6U/K8btYRwNR/R7M4LexL9mOtLexL9mWtLezH0u/L0UJFjZM0qcDSFHhOm8IF4EhJOySdHXj8VnkjfpI3zWuSjgqs84C86eOwRos3UKmwL0uD/Vg67MvSYV+WBvuxdNiXEdKmcAGYPqhnBR5fIun+1NdTUutMDqxzn6Sbi9gm3kClw74sDfZj6bAvS4d9WRrsx9JhX0bABEnTJM2XN407LbU0+9bplnS+7/uV8q4Ejkk6VF48btOeewEOk7RG0sPybgNzmKQOSbslfbCIbeMNVDrsy9JgP5YO+7J02JelwX4sHfZlBCxX9nMEY751TF7kpR0saZmkpLzw65bULu+K4LT3SvqxpFfk3Qj6zxp4oUghI+SdzziiyOdhIPZlabAfS4d9WTrsy9JgP5YO+xIAAAAAAAAAAAAAAAAAAAAAAACoB0MlfV3Si/KuKP6LvFvS7OVbZ4i8q4k2pNZZqYE3mUa4fblcA6/4/kNFtzIa9pW0SNJf5e3LRyX9k+/nvCfDK7Qvl4v3ZDYfkPRf8t5jJunDgZ+HeQ/uJ+lOeR/FuTn19TvKtcE1rBT7cp0Gvk//o0zbW6sK7cePyLvf78bUz6dleY0R8j4pbKO8O4T8QtI7y7S9qHHz5L0Rzpb3mYEfk3c/wi/41rlS0hZ5b66jJf1A3htw30puaASE2ZfLJf1a3q180sv+ldzIiPihpGfl/YH3Hnl/OWyW9/FGEu/JYhTal8vFezKbs+T9g+4jyv6XbZj34K8l/Y+k6anlf+T9Bd5oSrEv10n6mjLfp81qLIX240XyBh3+RbkD8CZJL8v76NhjJT0k6SlJe5dnk1HLfilpaeCxH8v7l6rk/cusV97/oGkj5H1qyeyyb120FNqXkveX7c8qtUERNVLSTg38uMOn5P3hx3syvEL7UuI9GUbwL9sw78HJqeed4FvnxNRjR5RtS2vfYPal5AXgFeXeuAjJFoBpE5U9AMfI+yjZC3yPHSJpl6SZJd4+RMBV8v7HOjz1/VR5N4/+ZOr7d8t7Ix0beN7PJd1ege2LkkL7UvL+st0k6W+Snpd0i6QDK7aF0bCvvPfcaYHHH5M3NcR7MrxC+1LiPRlG8C/bMO/B/6fsH++5SdLFpd7ACBnMvpS8P1t7Jb0m7x8w8yQNL9tW1r7BBOCpqcf3Czz+Z0kLSrlxiIYhkv5d3sfEvZ3679W+n79P3hvmkMDzbpZ3rgH2KLQvJe9fXmfLm+Y4V94fZM+Iu7UHPSovUA6RNzXxKXn7s0e8J4uVb19KvCfDCP5lG+Y9+BV5QR30vAb+udBIBrMvJWmupJMlHSNvivNVSbeWbzNr3mAC8EJJ27Osf7+kJSXbMkTGJyStT/13irxzCF6T9OnUz9P/c7YEnneLpM4KbWNUFNqX2bTIG5L/SNm3LloOk/Rbee+9nZJWSbpL0mrxnixWvn2ZDe/JgXJFS7734Fe0J7L91sibLWhUg9mX2Xw09byxJd266ChlAP5G0uKSbRkiY72kywKPfVXe5wtLTLcVo9C+zGWNMs9/wR77aM9fDD+U9N/iPTlY2fZlLrwnMzEFXDqDnQIOGq+B51g2EqaA4ew1SZcGHrtae6Yu0ifoftn38+HihPtsCu3LbMZK+ruk/1uujaoT+8l7z10i3pOu/PsyG96TA+W6cCHfezB9EcjxvnVOEBeBDGZfZnNO6rUmlHoDI8LlIpBZvsdaxEUgDWu5vEvC07cuOV/euRXf9K1zpbz/Gc+Xd57QPeKWG9ksV/592SxpobzbQUyUFJN3ftbLYl8GzZR0pqRDJZ0u77y0P0oalvo578nw8u1L3pO5Ncv7C3SavL9M56a+TgdHmPfgr+WNrpyYWp5WY94GxnVfTvc951B5AZOUN0rYSArtx/1T338w9fMLUt8f7HuNm+TNVp0mb9T1QXEbmIYVvEnsWnm3h/BfXZW+SWevvJGB38r7nxSZCu3LkfJOav6bvH+F/VVeNL6r0hsaAbPk7b/t8t53N8j712sa78nw8u1L3pO5xTTwxsMmb/9I4d6D+8s733JLarlLjXkj6Jjc9uU/yrs5+SZ5f7Z2p9YfVebtrjUx5d+PbTl+Hve9RpO8G0G/JqlP3j9I+P8dAAAAAAAAAAAAAAAAAAAAAAAAAAAAAAAAAAAAAAAAAAAAAAAAAAAAAAAAAAAAAAAAAAAAAAAAAAAAAAAAAAAAAAAAAAAAAAAAAAAAAAAAAAAAAAAAAAAAAAAAAAAAAAAAAAAAAAAAAAAAAAAAAAAAAAAAAAAAAFA1/x98iQUItwA+YQAAAABJRU5ErkJggg==\" width=\"640\">"
      ],
      "text/plain": [
       "<IPython.core.display.HTML object>"
      ]
     },
     "metadata": {},
     "output_type": "execute_result"
    },
    {
     "data": {
      "text/plain": [
       "<matplotlib.legend.Legend at 0x199bb4eecc0>"
      ]
     },
     "execution_count": 20,
     "metadata": {},
     "output_type": "execute_result"
    }
   ],
   "source": [
    "# select data from 103 to 120 K just so we can see the point of intersection a little better\n",
    "checkT_df = df.query('77<=T<=120') \n",
    "fig4, ax4 = plt.subplots()\n",
    "ax4.plot(checkT_df['T'], fit_poly(checkT_df['T']), 'o', ms=0.5, label='polyfit', color='g')\n",
    "ax4.plot(lowT_df['T'], expfunc, 'o', ms=0.5, label='expfunc', color='r')\n",
    "ax4.plot(df['T'], df['TypeC_calib_mV'],'o',ms='0.5', label='Data', color='b')\n",
    "ax4.set_xlim([80,110])\n",
    "ax4.set_ylim([-1.88,-1.75])\n",
    "ax4.legend()"
   ]
  },
  {
   "cell_type": "markdown",
   "metadata": {},
   "source": [
    "The two fitted plots almost match near 103 K, but there is a little 'cusp'-like shape near the point of intersection. Let's smooth it out. Also, notice that the expfunc fit is a little better than the polyfit."
   ]
  },
  {
   "cell_type": "code",
   "execution_count": 21,
   "metadata": {},
   "outputs": [
    {
     "data": {
      "text/plain": [
       "<IPython.core.display.Javascript object>"
      ]
     },
     "metadata": {},
     "output_type": "display_data"
    },
    {
     "data": {
      "text/html": [
       "<img src=\"data:image/png;base64,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\" width=\"640\">"
      ],
      "text/plain": [
       "<IPython.core.display.HTML object>"
      ]
     },
     "metadata": {},
     "output_type": "execute_result"
    },
    {
     "data": {
      "text/plain": [
       "[<matplotlib.lines.Line2D at 0x199bb4af2b0>]"
      ]
     },
     "execution_count": 21,
     "metadata": {},
     "output_type": "execute_result"
    }
   ],
   "source": [
    "def switch_fcn(x, switchpoint, smooth):\n",
    "    s = 0.5 + 0.5*np.tanh((x - switchpoint)/smooth)\n",
    "    return s\n",
    "sw = switch_fcn(df['T'], 103, 0.2)\n",
    "expfunc2 = func(df['T'],a,b,c,d)\n",
    "len(expfunc2)\n",
    "\n",
    "fig, ax = plt.subplots()\n",
    "ax.plot(df['T'], sw,'o', ms=0.5)\n"
   ]
  },
  {
   "cell_type": "code",
   "execution_count": 22,
   "metadata": {},
   "outputs": [
    {
     "data": {
      "text/plain": [
       "<IPython.core.display.Javascript object>"
      ]
     },
     "metadata": {},
     "output_type": "display_data"
    },
    {
     "data": {
      "text/html": [
       "<img src=\"data:image/png;base64,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\" width=\"640\">"
      ],
      "text/plain": [
       "<IPython.core.display.HTML object>"
      ]
     },
     "metadata": {},
     "output_type": "execute_result"
    },
    {
     "data": {
      "text/plain": [
       "[<matplotlib.lines.Line2D at 0x199bb4a6e10>]"
      ]
     },
     "execution_count": 22,
     "metadata": {},
     "output_type": "execute_result"
    }
   ],
   "source": [
    "def combined(switch, low_f1, high_f2):\n",
    "    comb = (1-switch)*low_f1 + switch*high_f2\n",
    "    return comb\n",
    "comb_fcn = combined(sw, expfunc2,fit_poly(df['T']))\n",
    "fig, ax = plt.subplots()\n",
    "ax.plot(df['T'], comb_fcn, 'o', ms=0.5)"
   ]
  },
  {
   "cell_type": "code",
   "execution_count": 23,
   "metadata": {},
   "outputs": [
    {
     "data": {
      "text/plain": [
       "<IPython.core.display.Javascript object>"
      ]
     },
     "metadata": {},
     "output_type": "display_data"
    },
    {
     "data": {
      "text/html": [
       "<img src=\"data:image/png;base64,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\" width=\"640\">"
      ],
      "text/plain": [
       "<IPython.core.display.HTML object>"
      ]
     },
     "metadata": {},
     "output_type": "execute_result"
    },
    {
     "data": {
      "text/plain": [
       "<matplotlib.legend.Legend at 0x199bb5f3d68>"
      ]
     },
     "execution_count": 23,
     "metadata": {},
     "output_type": "execute_result"
    }
   ],
   "source": [
    "fig5, ax5 = plt.subplots()\n",
    "ax5.plot(df['T'],comb_fcn, 'o', ms=2, label='combined')\n",
    "ax5.plot(checkT_df['T'], fit_poly(checkT_df['T']), 'o', ms=0.5, label='polyfit', color='g')\n",
    "ax5.plot(lowT_df['T'], expfunc, 'o', ms=0.5, label='expfunc2', color='r')\n",
    "ax5.set_xlim([80,110])\n",
    "ax5.set_ylim([-1.88,-1.75])\n",
    "ax5.legend()"
   ]
  },
  {
   "cell_type": "markdown",
   "metadata": {},
   "source": [
    "Now I will take the polynomial and take the values from 77 K to 273 K for calibration and append them to the NIST values"
   ]
  },
  {
   "cell_type": "code",
   "execution_count": 24,
   "metadata": {},
   "outputs": [
    {
     "name": "stdout",
     "output_type": "stream",
     "text": [
      "                      Type C (mV)\n",
      "Temperature (Kelvin)             \n",
      "77.15                   -1.870959\n",
      "77.25                   -1.870931\n",
      "77.35                   -1.870902\n",
      "77.45                   -1.870872\n",
      "77.55                   -1.870843\n",
      "                      Type C (mV)\n",
      "Temperature (Kelvin)             \n",
      "2587.65                 37.056717\n",
      "2587.75                 37.057632\n",
      "2587.85                 37.058548\n",
      "2587.95                 37.059464\n",
      "2588.05                 37.060379\n"
     ]
    }
   ],
   "source": [
    "# low temperature array\n",
    "low_temp = np.arange(77.15,273.15, 0.1)\n",
    "# low_temp_calib = fit_poly(low_temp)\n",
    "low_temp_calib = combined(switch_fcn(low_temp, 103, 3), func(low_temp,a,b,c,d), fit_poly(low_temp))\n",
    "\n",
    "# high temperature array\n",
    "high_temp = np.arange(273.15,2588.15, 0.1)\n",
    "high_temp_nist = typeC.emf_mVK(high_temp)\n",
    "\n",
    "# concatentate and put into a dataframe and output to excel\n",
    "Temperature = np.concatenate([low_temp, high_temp])\n",
    "TypeC_mV = np.concatenate([low_temp_calib, high_temp_nist])\n",
    "\n",
    "typeC_calibration = pd.DataFrame(data=TypeC_mV, index=Temperature, dtype='float32', columns = ['Type C (mV)'])\n",
    "typeC_calibration.index.name = 'Temperature (Kelvin)'\n",
    "\n",
    "print(typeC_calibration.head())\n",
    "print(typeC_calibration.tail())"
   ]
  },
  {
   "cell_type": "code",
   "execution_count": 25,
   "metadata": {
    "collapsed": true
   },
   "outputs": [],
   "source": [
    "# Uncomment these lines and run the cell to output a calibration table\n",
    "# write to excel\n",
    "\n",
    "# xlwrite = pd.ExcelWriter('Type C calibration_low_res.xlsx')\n",
    "# typeC_calibration.to_excel(xlwrite)\n",
    "# xlwrite.save()"
   ]
  },
  {
   "cell_type": "markdown",
   "metadata": {
    "collapsed": true
   },
   "source": [
    "But wait! Suppose we also want to fix that discontinuity at 273.15 K? We can apply the same procudure as before.\n",
    "1. Apply a tanh(x) function:  $switch = 0.5 + 0.5*np.tanh((x - switchpoint)/smooth)$\n",
    "2. Combine both functions:  $comb = (1-switch)*f1 + (switch)*f2 $"
   ]
  },
  {
   "cell_type": "code",
   "execution_count": 26,
   "metadata": {},
   "outputs": [
    {
     "name": "stdout",
     "output_type": "stream",
     "text": [
      "              mV\n",
      "272.95  0.000000\n",
      "273.05  0.000000\n",
      "273.15  0.000000\n",
      "273.25  0.001339\n",
      "273.35  0.002678\n",
      "273.45  0.004017\n"
     ]
    }
   ],
   "source": [
    "\n",
    "low_calib = combined(switch_fcn(Temperature, 103, 3), func(Temperature,a,b,c,d), fit_poly(Temperature))\n",
    "\n",
    "high_calib = pd.DataFrame(index=high_temp, data=high_temp_nist,columns=['mV'])\n",
    "dummy_df = pd.DataFrame(index=low_temp, data=np.zeros(len(low_temp)),columns=['mV'])\n",
    "concat_high_calib = dummy_df.append(high_calib)\n",
    "print(concat_high_calib.loc[272.9:273.5])\n",
    "\n",
    "freezept_calib = combined(switch_fcn(Temperature, 273.15, 0.45), low_calib, concat_high_calib['mV'] )\n",
    "freezept_calib.index.name = 'T'"
   ]
  },
  {
   "cell_type": "code",
   "execution_count": 27,
   "metadata": {},
   "outputs": [
    {
     "data": {
      "text/plain": [
       "T\n",
       "272.95   -0.008172\n",
       "273.05   -0.006156\n",
       "273.15   -0.004336\n",
       "273.25   -0.002013\n",
       "273.35    0.000205\n",
       "273.45    0.002266\n",
       "Name: mV, dtype: float64"
      ]
     },
     "execution_count": 27,
     "metadata": {},
     "output_type": "execute_result"
    }
   ],
   "source": [
    "freezept_calib.loc[272.9:273.5]"
   ]
  },
  {
   "cell_type": "markdown",
   "metadata": {},
   "source": [
    "The prior value at 273.15 K was -0.00867, when the actual value is 0. After the smoothing, the new value is -0.004336, about half of the prior value. Some of the values a little after 273.15 do not match exactly with the NIST table, but it is much better than the jump that we had before."
   ]
  },
  {
   "cell_type": "code",
   "execution_count": 28,
   "metadata": {},
   "outputs": [
    {
     "data": {
      "text/plain": [
       "<IPython.core.display.Javascript object>"
      ]
     },
     "metadata": {},
     "output_type": "display_data"
    },
    {
     "data": {
      "text/html": [
       "<img src=\"data:image/png;base64,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\" width=\"640\">"
      ],
      "text/plain": [
       "<IPython.core.display.HTML object>"
      ]
     },
     "metadata": {},
     "output_type": "execute_result"
    },
    {
     "data": {
      "text/plain": [
       "<matplotlib.legend.Legend at 0x199bba899b0>"
      ]
     },
     "execution_count": 28,
     "metadata": {},
     "output_type": "execute_result"
    }
   ],
   "source": [
    "fig, ax = plt.subplots()\n",
    "freezept_calib.plot(ax=ax, label ='combined')\n",
    "ax.plot(Temperature,low_calib, label = 'low calib')\n",
    "ax.plot(Temperature,concat_high_calib, label= 'high_calib')\n",
    "ax.set_ylim([-.04,0.04])\n",
    "ax.set_xlim([268,277])\n",
    "ax.legend()"
   ]
  },
  {
   "cell_type": "code",
   "execution_count": 29,
   "metadata": {},
   "outputs": [
    {
     "name": "stdout",
     "output_type": "stream",
     "text": [
      "(array([], dtype=int64),)\n"
     ]
    }
   ],
   "source": [
    "print(signal.argrelmin(freezept_calib.values))\n",
    "# print(signal.argrelextrema(freezept_calib.values,np.less))\n",
    "# print(signal.argrelextrema(freezept_calib.values,np.greater))\n",
    "# No local maxima or minima!"
   ]
  },
  {
   "cell_type": "code",
   "execution_count": null,
   "metadata": {},
   "outputs": [
    {
     "data": {
      "text/plain": [
       "<IPython.core.display.Javascript object>"
      ]
     },
     "metadata": {},
     "output_type": "display_data"
    },
    {
     "data": {
      "text/html": [
       "<img src=\"data:image/png;base64,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\" width=\"640\">"
      ],
      "text/plain": [
       "<IPython.core.display.HTML object>"
      ]
     },
     "metadata": {},
     "output_type": "execute_result"
    },
    {
     "data": {
      "text/plain": [
       "array([1.88131088e-05, 2.83440425e-05, 3.81253795e-05, 3.86294970e-05,\n",
       "       3.91402800e-05])"
      ]
     },
     "execution_count": 30,
     "metadata": {},
     "output_type": "execute_result"
    }
   ],
   "source": [
    "# How about candidates for inflection points?\n",
    "\n",
    "df = np.gradient(freezept_calib,0.1,)\n",
    "fig, ax = plt.subplots()\n",
    "ax.plot(Temperature, df)\n",
    "\n",
    "d2f = np.gradient(df, 0.1)\n",
    "ax.plot(Temperature, d2f)\n",
    "\n",
    "d2f[:5]"
   ]
  },
  {
   "cell_type": "code",
   "execution_count": 31,
   "metadata": {
    "collapsed": true
   },
   "outputs": [],
   "source": [
    "# Uncomment these lines and run the cell to output a calibration table\n",
    "# write to excel\n",
    "\n",
    "xlwrite = pd.ExcelWriter('Type C calibration_corrected_temp.xlsx')\n",
    "# freezept_calib is a Series, not a Dataframe, so use the line below\n",
    "freezept_calib.to_frame().to_excel(xlwrite)\n",
    "xlwrite.save()"
   ]
  },
  {
   "cell_type": "code",
   "execution_count": 42,
   "metadata": {},
   "outputs": [
    {
     "data": {
      "text/plain": [
       "<IPython.core.display.Javascript object>"
      ]
     },
     "metadata": {},
     "output_type": "display_data"
    },
    {
     "data": {
      "text/html": [
       "<img src=\"data:image/png;base64,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\" width=\"640\">"
      ],
      "text/plain": [
       "<IPython.core.display.HTML object>"
      ]
     },
     "metadata": {},
     "output_type": "execute_result"
    },
    {
     "data": {
      "text/plain": [
       "array([ 4.62013919e+05     +0.        j, -1.20818784e+04+173688.3611543 j,\n",
       "       -2.00578272e+02 +81799.54158636j, ...,\n",
       "        1.47125374e+02 -53298.88110465j, -2.00578272e+02 -81799.54158636j,\n",
       "       -1.20818784e+04-173688.3611543 j])"
      ]
     },
     "execution_count": 42,
     "metadata": {},
     "output_type": "execute_result"
    }
   ],
   "source": [
    "# 4212018\n",
    "fig, ax = plt.subplots()\n",
    "ax.plot(Temperature,TypeC_mV)\n",
    "\n",
    "# np.fft.fft(TypeC_mV)"
   ]
  },
  {
   "cell_type": "code",
   "execution_count": 99,
   "metadata": {},
   "outputs": [
    {
     "name": "stdout",
     "output_type": "stream",
     "text": [
      "max: = 1.0\n",
      "min: = 0.0\n",
      "max: = 1.0\n",
      "min: = 0.0\n",
      "mean: -3.124011072398051e-16\n",
      "std: 1.0\n",
      "max: = 1.5307623001406279\n",
      "min: = -1.6628138862714015\n",
      "mean: 2.1732250938421223e-16\n",
      "std: 0.9999999999999999\n",
      "max: = 1.731981830415568\n",
      "min: = -1.7319818304155097\n"
     ]
    }
   ],
   "source": [
    "def scaled_data(data, low_range=0, high_range=1, standardize=False, print_=False):\n",
    "    \"\"\"\n",
    "    scale data from input range to (low_range,high_range)\n",
    "    assumes data is a np 1d array\n",
    "    also allows capability for standardization (mean=0 and variance = 1)\n",
    "    \"\"\"\n",
    "    _min_ = np.min(data)\n",
    "    _max_ = np.max(data)\n",
    "    \n",
    "    if standardize is True:\n",
    "        data = data - np.mean(data) #remove mean\n",
    "        scaled_data = data/np.std(data)    #unit std\n",
    "        if print_ is True:\n",
    "            print('mean: '+str(np.mean(scaled_data)))\n",
    "            print('std: '+str(np.std(scaled_data)))\n",
    "    else:\n",
    "        scaled_data = (high_range - low_range)*(data - _min_)/(_max_ - _min_) + low_range\n",
    "    if print_ is True:\n",
    "        print('max: = '+str(np.max(scaled_data)))\n",
    "        print('min: = '+str(np.min(scaled_data)))\n",
    "    \n",
    "    return scaled_data\n",
    "\n",
    "def revert_to_unscaled(scaled, original):\n",
    "    \"\"\"\n",
    "    reverts normzlied data back to original scaling\n",
    "    \"\"\"\n",
    "    scaled_min = np.min(scaled)\n",
    "    scaled_max = np.max(scaled)\n",
    "    orig_min = np.min(original)\n",
    "    orig_max = np.max(original)\n",
    "    \n",
    "    data = (scaled - scaled_min)*(orig_max - orig_min)/(scaled_max - scaled_min) + orig_min\n",
    "    \n",
    "    return data\n",
    "\n",
    "normmV = scaled_data(TypeC_mV, standardize=False, print_=True)\n",
    "normT = scaled_data(Temperature, standardize=False, print_=True)\n",
    "stdmV = scaled_data(TypeC_mV, standardize=True, print_=True)\n",
    "stdT = scaled_data(Temperature, standardize=True, print_=True)"
   ]
  },
  {
   "cell_type": "code",
   "execution_count": 100,
   "metadata": {},
   "outputs": [
    {
     "data": {
      "text/plain": [
       "<IPython.core.display.Javascript object>"
      ]
     },
     "metadata": {},
     "output_type": "display_data"
    },
    {
     "data": {
      "text/html": [
       "<img src=\"data:image/png;base64,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\" width=\"640\">"
      ],
      "text/plain": [
       "<IPython.core.display.HTML object>"
      ]
     },
     "metadata": {},
     "output_type": "execute_result"
    },
    {
     "data": {
      "text/plain": [
       "Text(0,0.5,'stdT')"
      ]
     },
     "execution_count": 100,
     "metadata": {},
     "output_type": "execute_result"
    }
   ],
   "source": [
    "fig,ax = plt.subplots()\n",
    "ax.plot(stdmV, stdT, label ='std')\n",
    "plt.xlabel('stdmV')\n",
    "plt.ylabel('stdT')"
   ]
  },
  {
   "cell_type": "code",
   "execution_count": 94,
   "metadata": {},
   "outputs": [
    {
     "data": {
      "text/plain": [
       "<IPython.core.display.Javascript object>"
      ]
     },
     "metadata": {},
     "output_type": "display_data"
    },
    {
     "data": {
      "text/html": [
       "<img src=\"data:image/png;base64,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\" width=\"640\">"
      ],
      "text/plain": [
       "<IPython.core.display.HTML object>"
      ]
     },
     "metadata": {},
     "output_type": "execute_result"
    },
    {
     "data": {
      "text/plain": [
       "Text(0,0.5,'normT')"
      ]
     },
     "execution_count": 94,
     "metadata": {},
     "output_type": "execute_result"
    }
   ],
   "source": [
    "fig,ax = plt.subplots()\n",
    "ax.plot(normmV, normT, label ='norm')\n",
    "plt.xlabel('normmV')\n",
    "plt.ylabel('normT')"
   ]
  },
  {
   "cell_type": "code",
   "execution_count": null,
   "metadata": {},
   "outputs": [
    {
     "data": {
      "text/plain": [
       "<IPython.core.display.Javascript object>"
      ]
     },
     "metadata": {},
     "output_type": "display_data"
    },
    {
     "data": {
      "text/html": [
       "<div id='0e03aba6-7b66-4f50-8d0a-6838709f7d24'></div>"
      ],
      "text/plain": [
       "<IPython.core.display.HTML object>"
      ]
     },
     "metadata": {},
     "output_type": "execute_result"
    }
   ],
   "source": [
    "def fit_fcn(mV, param):\n",
    "    return param[0]*np.tanh(param[1]*mV+param[2]) +param[3]\n",
    "fig, ax = plt.subplots()\n",
    "\n",
    "ax.plot(normmV,normT, label='norm')\n",
    "ax.plot(normmV,fit_fcn(normmV, param=[1,0.1,-1, 1]), label='start')\n",
    "try:\n",
    "#     popt, pcov = optimize.differential_evolution(fit_fcn, normmV, normT, p0=(2,1,-1,2), method='lm')\n",
    "    bounds = [slice(0,100.,1), slice(-10.,100.,1), slice(-10.,100.,1),slice(-10.,100.,1)]\n",
    "#     result = optimize.differential_evolution(lambda param:np.sum(fit_fcn(normmV, param) - normT)**2,bounds)\n",
    "#     result = optimize.basinhopping(lambda param:np.sum(fit_fcn(normmV, param) - normT)**2,bounds)\n",
    "    result = optimize.brute(lambda param:np.sum(fit_fcn(normmV, param) - normT)**2,bounds)\n",
    "#     result = optimize.least_squares(lambda param:np.sum(fit_fcn(normmV, param) - normT)**2,[1,1,-1, 1])\n",
    "\n",
    "    print(result)\n",
    "    ax.plot(normmV,fit_fcn(normmV, result), label='fitted')\n",
    "except RuntimeError:\n",
    "    print(\"curve fit failed\")\n",
    "\n",
    "plt.legend()"
   ]
  },
  {
   "cell_type": "code",
   "execution_count": null,
   "metadata": {
    "collapsed": true
   },
   "outputs": [],
   "source": []
  }
 ],
 "metadata": {
  "kernelspec": {
   "display_name": "Python 3",
   "language": "python",
   "name": "python3"
  },
  "language_info": {
   "codemirror_mode": {
    "name": "ipython",
    "version": 3
   },
   "file_extension": ".py",
   "mimetype": "text/x-python",
   "name": "python",
   "nbconvert_exporter": "python",
   "pygments_lexer": "ipython3",
   "version": "3.6.3"
  }
 },
 "nbformat": 4,
 "nbformat_minor": 1
}
