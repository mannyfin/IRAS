{
 "cells": [
  {
   "cell_type": "markdown",
   "metadata": {
    "collapsed": true
   },
   "source": [
    "# The situation\n",
    "\n",
    "Type C thermocouples are not NIST calibrated to below 273.15 K. For my research specific scenario, I need to cool my sample (Molybdenum) to cryogenic temperatures and also anneal to very high ~2000 K. There is no thermocouple with these properties. \n",
    "\n",
    "\n"
   ]
  },
  {
   "cell_type": "markdown",
   "metadata": {},
   "source": [
    "### The solution\n",
    "\n",
    "We know that Type K thermocouples are accurate down to cryogenic temperatures. So what I've done here is to read the Type K temperature and record the corresponding Type C mV to create a calibration table. Both thermocouples were spot welded to a large mass very close to one another to ensure the temperature readings will be accurate.\n",
    "\n",
    "Then I will use a polynomial fit to get the low T calibration for the Type C thermocouple."
   ]
  },
  {
   "cell_type": "code",
   "execution_count": 1,
   "metadata": {
    "collapsed": true
   },
   "outputs": [],
   "source": [
    "# import a few packages\n",
    "%matplotlib notebook\n",
    "from thermocouples_reference import thermocouples\n",
    "import numpy as np\n",
    "import pandas as pd\n",
    "import matplotlib.pyplot as plt\n",
    "import sympy as sp\n",
    "from scipy import optimize, interpolate, signal\n",
    "\n",
    "\n",
    "typeC=thermocouples['C']"
   ]
  },
  {
   "cell_type": "code",
   "execution_count": 2,
   "metadata": {
    "collapsed": false
   },
   "outputs": [
    {
     "data": {
      "text/html": [
       "<div>\n",
       "<table border=\"1\" class=\"dataframe\">\n",
       "  <thead>\n",
       "    <tr style=\"text-align: right;\">\n",
       "      <th></th>\n",
       "      <th>T</th>\n",
       "      <th>TypeKmV</th>\n",
       "      <th>CJC</th>\n",
       "      <th>TypeCmV</th>\n",
       "    </tr>\n",
       "  </thead>\n",
       "  <tbody>\n",
       "    <tr>\n",
       "      <th>0</th>\n",
       "      <td>295.68</td>\n",
       "      <td>0.90</td>\n",
       "      <td>25.27</td>\n",
       "      <td>0.021</td>\n",
       "    </tr>\n",
       "    <tr>\n",
       "      <th>1</th>\n",
       "      <td>292.79</td>\n",
       "      <td>0.78</td>\n",
       "      <td>25.27</td>\n",
       "      <td>-0.017</td>\n",
       "    </tr>\n",
       "    <tr>\n",
       "      <th>2</th>\n",
       "      <td>292.04</td>\n",
       "      <td>0.74</td>\n",
       "      <td>25.26</td>\n",
       "      <td>-0.028</td>\n",
       "    </tr>\n",
       "    <tr>\n",
       "      <th>3</th>\n",
       "      <td>291.22</td>\n",
       "      <td>0.72</td>\n",
       "      <td>25.26</td>\n",
       "      <td>-0.037</td>\n",
       "    </tr>\n",
       "    <tr>\n",
       "      <th>4</th>\n",
       "      <td>290.56</td>\n",
       "      <td>0.69</td>\n",
       "      <td>25.26</td>\n",
       "      <td>-0.045</td>\n",
       "    </tr>\n",
       "  </tbody>\n",
       "</table>\n",
       "</div>"
      ],
      "text/plain": [
       "        T  TypeKmV    CJC  TypeCmV\n",
       "0  295.68     0.90  25.27    0.021\n",
       "1  292.79     0.78  25.27   -0.017\n",
       "2  292.04     0.74  25.26   -0.028\n",
       "3  291.22     0.72  25.26   -0.037\n",
       "4  290.56     0.69  25.26   -0.045"
      ]
     },
     "execution_count": 2,
     "metadata": {},
     "output_type": "execute_result"
    }
   ],
   "source": [
    "# make sure you are in the same dir as the file\n",
    "# read in the file and drop Na cols\n",
    "df = pd.read_excel('Type C Table 4-2-18.xlsx')\n",
    "df.dropna(axis=1, inplace=True)\n",
    "df.head()"
   ]
  },
  {
   "cell_type": "code",
   "execution_count": 3,
   "metadata": {
    "collapsed": false
   },
   "outputs": [
    {
     "data": {
      "text/html": [
       "<div>\n",
       "<table border=\"1\" class=\"dataframe\">\n",
       "  <thead>\n",
       "    <tr style=\"text-align: right;\">\n",
       "      <th></th>\n",
       "      <th>T</th>\n",
       "      <th>TypeKmV</th>\n",
       "      <th>CJC</th>\n",
       "      <th>TypeCmV</th>\n",
       "    </tr>\n",
       "  </thead>\n",
       "  <tbody>\n",
       "    <tr>\n",
       "      <th>0</th>\n",
       "      <td>295.68</td>\n",
       "      <td>0.90</td>\n",
       "      <td>25.27</td>\n",
       "      <td>0.021</td>\n",
       "    </tr>\n",
       "    <tr>\n",
       "      <th>1</th>\n",
       "      <td>292.79</td>\n",
       "      <td>0.78</td>\n",
       "      <td>25.27</td>\n",
       "      <td>-0.017</td>\n",
       "    </tr>\n",
       "    <tr>\n",
       "      <th>2</th>\n",
       "      <td>292.04</td>\n",
       "      <td>0.74</td>\n",
       "      <td>25.26</td>\n",
       "      <td>-0.028</td>\n",
       "    </tr>\n",
       "    <tr>\n",
       "      <th>3</th>\n",
       "      <td>291.22</td>\n",
       "      <td>0.72</td>\n",
       "      <td>25.26</td>\n",
       "      <td>-0.037</td>\n",
       "    </tr>\n",
       "    <tr>\n",
       "      <th>4</th>\n",
       "      <td>290.56</td>\n",
       "      <td>0.69</td>\n",
       "      <td>25.26</td>\n",
       "      <td>-0.045</td>\n",
       "    </tr>\n",
       "  </tbody>\n",
       "</table>\n",
       "</div>"
      ],
      "text/plain": [
       "        T  TypeKmV    CJC  TypeCmV\n",
       "0  295.68     0.90  25.27    0.021\n",
       "1  292.79     0.78  25.27   -0.017\n",
       "2  292.04     0.74  25.26   -0.028\n",
       "3  291.22     0.72  25.26   -0.037\n",
       "4  290.56     0.69  25.26   -0.045"
      ]
     },
     "execution_count": 3,
     "metadata": {},
     "output_type": "execute_result"
    }
   ],
   "source": [
    "# NIST has values calibrated for T > 273.15 K, lets find the Tref based on these points\n",
    "# I am using Kelvin for all T. The CJC is quoted in deg C.\n",
    "tempdf = df.query('T>273.15')\n",
    "tempdf.head()"
   ]
  },
  {
   "cell_type": "code",
   "execution_count": 4,
   "metadata": {
    "collapsed": true
   },
   "outputs": [],
   "source": [
    "# Let's find the T_ref by using this function to take the TypeC mV and the T to find the Tref\n",
    "def find_Tref(mV, T):\n",
    "    x = np.arange(290, 301, 0.01)\n",
    "    x = x[::-1] # lets reverse x\n",
    "    i = 1\n",
    "    while typeC.inverse_KmV(mV, Tref=x[i]) - T >= 0:\n",
    "        i += 1\n",
    "#     print(x[i])\n",
    "    return x[i]"
   ]
  },
  {
   "cell_type": "code",
   "execution_count": 5,
   "metadata": {
    "collapsed": true
   },
   "outputs": [],
   "source": [
    "# This isn't the fastest way to do things, but since its just a short amount of rows, lets iterate over the mV and T\n",
    "# to find Tref\n",
    "Treflist=[]\n",
    "for idx in tempdf.index:\n",
    "    # print(idx)\n",
    "    Treflist.append(find_Tref(mV=tempdf['TypeCmV'][idx], T=tempdf['T'][idx]))\n"
   ]
  },
  {
   "cell_type": "code",
   "execution_count": 6,
   "metadata": {
    "collapsed": false
   },
   "outputs": [
    {
     "name": "stdout",
     "output_type": "stream",
     "text": [
      "['294.16', '294.01', '294.05', '293.89', '293.81', '293.93', '293.96', '294.15', '294.08', '294.21', '294.18', '294.30', '294.32', '294.24', '294.37', '294.28', '294.38', '294.37', '294.42', '294.42', '294.41', '294.42', '294.54', '294.47', '294.58', '294.48', '294.58', '294.55', '294.65', '294.71', '294.72', '294.60', '294.70', '294.71', '294.68', '294.72', '294.73', '294.81', '294.86', '294.78', '294.83', '294.74', '295.78', '294.98', '295.06', '294.99', '294.99', '294.92', '294.89', '294.95', '295.08', '294.91', '295.03', '295.05', '295.17', '295.11', '295.10', '295.12', '295.16', '295.20', '295.13', '295.19', '295.19', '295.25', '295.26', '295.24']\n"
     ]
    }
   ],
   "source": [
    "print( ['%0.2f'% x for x in Treflist])"
   ]
  },
  {
   "cell_type": "code",
   "execution_count": 7,
   "metadata": {
    "collapsed": false
   },
   "outputs": [
    {
     "name": "stdout",
     "output_type": "stream",
     "text": [
      "294.675\n",
      "0.293743841619\n"
     ]
    }
   ],
   "source": [
    "# now average the Trefs:\n",
    "avg_Tref = np.mean(Treflist)\n",
    "print(avg_Tref)\n",
    "# I will use this Tref for further calcs\n",
    "Tref_emf = typeC.emf_mVK(avg_Tref)\n",
    "print(Tref_emf)\n",
    "# The Tref_emf value is very close to the value in the table at 273.15 K, so we'll use this value to correct the new values\n",
    "# The value taken at 273.15 K was during the cooling process and is likely to be less accurate than the room temperature value\n",
    "# across these multiple observations"
   ]
  },
  {
   "cell_type": "code",
   "execution_count": 8,
   "metadata": {
    "collapsed": false
   },
   "outputs": [
    {
     "data": {
      "text/html": [
       "<div>\n",
       "<table border=\"1\" class=\"dataframe\">\n",
       "  <thead>\n",
       "    <tr style=\"text-align: right;\">\n",
       "      <th></th>\n",
       "      <th>T</th>\n",
       "      <th>TypeKmV</th>\n",
       "      <th>CJC</th>\n",
       "      <th>TypeCmV</th>\n",
       "      <th>TypeC_calib_mV</th>\n",
       "    </tr>\n",
       "  </thead>\n",
       "  <tbody>\n",
       "    <tr>\n",
       "      <th>0</th>\n",
       "      <td>295.68</td>\n",
       "      <td>0.90</td>\n",
       "      <td>25.27</td>\n",
       "      <td>0.021</td>\n",
       "      <td>0.314744</td>\n",
       "    </tr>\n",
       "    <tr>\n",
       "      <th>1</th>\n",
       "      <td>292.79</td>\n",
       "      <td>0.78</td>\n",
       "      <td>25.27</td>\n",
       "      <td>-0.017</td>\n",
       "      <td>0.276744</td>\n",
       "    </tr>\n",
       "    <tr>\n",
       "      <th>2</th>\n",
       "      <td>292.04</td>\n",
       "      <td>0.74</td>\n",
       "      <td>25.26</td>\n",
       "      <td>-0.028</td>\n",
       "      <td>0.265744</td>\n",
       "    </tr>\n",
       "    <tr>\n",
       "      <th>3</th>\n",
       "      <td>291.22</td>\n",
       "      <td>0.72</td>\n",
       "      <td>25.26</td>\n",
       "      <td>-0.037</td>\n",
       "      <td>0.256744</td>\n",
       "    </tr>\n",
       "    <tr>\n",
       "      <th>4</th>\n",
       "      <td>290.56</td>\n",
       "      <td>0.69</td>\n",
       "      <td>25.26</td>\n",
       "      <td>-0.045</td>\n",
       "      <td>0.248744</td>\n",
       "    </tr>\n",
       "  </tbody>\n",
       "</table>\n",
       "</div>"
      ],
      "text/plain": [
       "        T  TypeKmV    CJC  TypeCmV  TypeC_calib_mV\n",
       "0  295.68     0.90  25.27    0.021        0.314744\n",
       "1  292.79     0.78  25.27   -0.017        0.276744\n",
       "2  292.04     0.74  25.26   -0.028        0.265744\n",
       "3  291.22     0.72  25.26   -0.037        0.256744\n",
       "4  290.56     0.69  25.26   -0.045        0.248744"
      ]
     },
     "execution_count": 8,
     "metadata": {},
     "output_type": "execute_result"
    }
   ],
   "source": [
    "# The emf correction for 273.15 K is then: calibrated_emf = raw_emf + Tref_emf\n",
    "\n",
    "# Let's add this to the df we initially imported...\n",
    "\n",
    "df['TypeC_calib_mV'] = df['TypeCmV'] + Tref_emf\n",
    "\n",
    "df.head()\n",
    "# Compared to the NIST table, we appear to be off at most a little less than 1 deg K\n"
   ]
  },
  {
   "cell_type": "code",
   "execution_count": 9,
   "metadata": {
    "collapsed": false
   },
   "outputs": [
    {
     "name": "stdout",
     "output_type": "stream",
     "text": [
      "-0.0999688432236\n",
      "-0.0478884150234\n"
     ]
    }
   ],
   "source": [
    "# Had we used the CJC temperature as a proxy for room temp, we would've been even more off.\n",
    "# compare the TypeCmV using Tref = CJC vs using Tref = 294.67:\n",
    "print(typeC.emf_mVK(291.22, Tref =(25.26+273.15)))\n",
    "print(typeC.emf_mVK(291.22, Tref =avg_Tref))"
   ]
  },
  {
   "cell_type": "code",
   "execution_count": 10,
   "metadata": {
    "collapsed": false
   },
   "outputs": [
    {
     "data": {
      "text/plain": [
       "<IPython.core.display.Javascript object>"
      ]
     },
     "metadata": {},
     "output_type": "display_data"
    },
    {
     "data": {
      "text/html": [
       "<img src=\"data:image/png;base64,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\" width=\"639.6\">"
      ],
      "text/plain": [
       "<IPython.core.display.HTML object>"
      ]
     },
     "metadata": {},
     "output_type": "execute_result"
    },
    {
     "data": {
      "text/plain": [
       "<matplotlib.text.Text at 0x2851dbb77b8>"
      ]
     },
     "execution_count": 10,
     "metadata": {},
     "output_type": "execute_result"
    }
   ],
   "source": [
    "#  Let's visualize these results\n",
    "plt.plot(df['T'], df['TypeC_calib_mV'], 'o', ms=0.5 )\n",
    "plt.xlabel('Temperature (K)')\n",
    "plt.ylabel('Type C calibrated emf (mV)')\n",
    "\n",
    "# Interesting. I cooled first to LN2 temperatures and then allowed the sample to heat up slowly by evaporating LN2\n",
    "# The data agrees fairly well (within ~3 K) between the heating and cooling curves. I didn't heat all the way back up."
   ]
  },
  {
   "cell_type": "code",
   "execution_count": 11,
   "metadata": {
    "collapsed": false
   },
   "outputs": [
    {
     "name": "stdout",
     "output_type": "stream",
     "text": [
      "            10             9             8             7             6\n",
      "-2.468e-21 x  + 4.853e-18 x - 4.224e-15 x + 2.138e-12 x - 6.955e-10 x\n",
      "              5             4            3          2\n",
      " + 1.516e-07 x - 2.234e-05 x + 0.002193 x - 0.1365 x + 4.852 x - 76.48\n"
     ]
    }
   ],
   "source": [
    "# Now lets fit the data to a polynowmial using least squares\n",
    "fit_coeffs = np.polyfit(df['T'],df['TypeC_calib_mV'], deg = 10 , full=True)\n",
    "# print(fit_coeffs)\n",
    "fit_poly = np.poly1d(fit_coeffs[0])\n",
    "print(fit_poly)\n"
   ]
  },
  {
   "cell_type": "code",
   "execution_count": 12,
   "metadata": {
    "collapsed": false
   },
   "outputs": [
    {
     "data": {
      "text/plain": [
       "<IPython.core.display.Javascript object>"
      ]
     },
     "metadata": {},
     "output_type": "display_data"
    },
    {
     "data": {
      "text/html": [
       "<img src=\"data:image/png;base64,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\" width=\"639.6\">"
      ],
      "text/plain": [
       "<IPython.core.display.HTML object>"
      ]
     },
     "metadata": {},
     "output_type": "execute_result"
    },
    {
     "data": {
      "text/plain": [
       "[<matplotlib.lines.Line2D at 0x2851e0bff28>]"
      ]
     },
     "execution_count": 12,
     "metadata": {},
     "output_type": "execute_result"
    }
   ],
   "source": [
    "fig, ax = plt.subplots()\n",
    "ax.plot(df['T'], df['TypeC_calib_mV'],'o',ms='0.5')\n",
    "ax.plot(df['T'], fit_poly(df['T']) , 'o', ms='0.5')\n"
   ]
  },
  {
   "cell_type": "markdown",
   "metadata": {},
   "source": [
    "The 10th degree polynomial appears to give the best fit overall. \n",
    "The lower order polynomials dont fit the curve exceedingly well below 100 K\n",
    "\n",
    "Also, the polynomial tracks the heating curve (the slightly higher mV points from 80-150K) a little more closely than the cooling curve (295 to 80 K). Heating occurred much more slowly than cooling, so I expect it to me more accurate anyways."
   ]
  },
  {
   "cell_type": "code",
   "execution_count": 13,
   "metadata": {
    "collapsed": false
   },
   "outputs": [
    {
     "name": "stdout",
     "output_type": "stream",
     "text": [
      "-0.00867236844799\n",
      "0.0\n"
     ]
    }
   ],
   "source": [
    "# These mV values are also close ~0.5 degrees K of one another\n",
    "print(fit_poly(273.15))  # fit\n",
    "print(typeC.emf_mVK(273.15))  # NIST value  "
   ]
  },
  {
   "cell_type": "markdown",
   "metadata": {},
   "source": [
    "It's also a good idea to check that the polynomial does not have any inflection points, at least in the area we are interested in using the polynomial (77 K - 273.15 K). We can use the second derivative test to see if this will be important for our case."
   ]
  },
  {
   "cell_type": "code",
   "execution_count": 14,
   "metadata": {
    "collapsed": false
   },
   "outputs": [
    {
     "name": "stdout",
     "output_type": "stream",
     "text": [
      "Poly(-2.22078922389522e-19*x**8 + 3.4944795664981e-16*x**7 - 2.36535710959908e-13*x**6 + 8.97950159021703e-11*x**5 - 2.08660830225474e-8*x**4 + 3.03157357193096e-6*x**3 - 0.000268135090831039*x**2 + 0.0131554747076578*x - 0.273020054409564, x, domain='RR')\n"
     ]
    },
    {
     "data": {
      "text/plain": [
       "[79.5291554885569,\n",
       " 123.504171695272,\n",
       " 139.821834498020,\n",
       " 287.451234664749,\n",
       " 209.472872314576 - 34.4469275568025*I,\n",
       " 209.472872314576 + 34.4469275568025*I,\n",
       " 262.139176951693 - 19.6448814401721*I,\n",
       " 262.139176951693 + 19.6448814401721*I]"
      ]
     },
     "execution_count": 14,
     "metadata": {},
     "output_type": "execute_result"
    }
   ],
   "source": [
    "x = sp.symbols('x')\n",
    "polynom = sp.Poly(fit_coeffs[0],x)\n",
    "# print(fit_coeffs[0])\n",
    "# find the second derivative of the polynomial\n",
    "second_derivative = polynom.diff(x,x)\n",
    "print(second_derivative)\n",
    "sp.solve(second_derivative,x, domain= sp.S.Reals)"
   ]
  },
  {
   "cell_type": "code",
   "execution_count": 15,
   "metadata": {
    "collapsed": false
   },
   "outputs": [
    {
     "name": "stdout",
     "output_type": "stream",
     "text": [
      "-0.000224266697690378\n",
      "3.40080107157914e-5\n",
      "\n",
      "\n",
      "1.97843428367817e-5\n",
      "-5.80941996231044e-6\n",
      "\n",
      "\n",
      "-1.15999727755556e-5\n",
      "1.73786045775115e-5\n",
      "\n",
      "\n",
      "2.48646034922140e-5\n",
      "-4.02928294441218e-5\n"
     ]
    }
   ],
   "source": [
    "print(second_derivative.evalf(subs={x:77}))\n",
    "print(second_derivative.evalf(subs={x:80}))\n",
    "print('\\n')\n",
    "print(second_derivative.evalf(subs={x:120}))\n",
    "print(second_derivative.evalf(subs={x:125}))\n",
    "print('\\n')\n",
    "print(second_derivative.evalf(subs={x:135}))\n",
    "print(second_derivative.evalf(subs={x:145}))\n",
    "print('\\n')\n",
    "print(second_derivative.evalf(subs={x:283}))\n",
    "print(second_derivative.evalf(subs={x:291}))"
   ]
  },
  {
   "cell_type": "code",
   "execution_count": 16,
   "metadata": {
    "collapsed": false
   },
   "outputs": [
    {
     "name": "stdout",
     "output_type": "stream",
     "text": [
      "Poly(-2.4675435821058e-20*x**9 + 4.36809945812262e-17*x**8 - 3.37908158514155e-14*x**7 + 1.49658359836951e-11*x**6 - 4.17321660450948e-9*x**5 + 7.5789339298274e-7*x**4 - 8.93783636103464e-5*x**3 + 0.00657773735382888*x**2 - 0.273020054409564*x + 4.85219278847105, x, domain='RR')\n"
     ]
    },
    {
     "data": {
      "text/plain": [
       "[75.9199174628247,\n",
       " 83.8674959067000,\n",
       " 314.778605873331,\n",
       " 141.1535093098 - 43.2042441547467*I,\n",
       " 141.1535093098 + 43.2042441547467*I,\n",
       " 219.436755813611 - 70.4230796115688*I,\n",
       " 219.436755813611 + 70.4230796115688*I,\n",
       " 287.237628624674 - 47.6057279906339*I,\n",
       " 287.237628624674 + 47.6057279906339*I]"
      ]
     },
     "execution_count": 16,
     "metadata": {},
     "output_type": "execute_result"
    }
   ],
   "source": [
    "first_deriv = polynom.diff(x)\n",
    "print(first_deriv)\n",
    "sp.solve(first_deriv,x, domain= sp.S.Reals)"
   ]
  },
  {
   "cell_type": "code",
   "execution_count": 17,
   "metadata": {
    "collapsed": false
   },
   "outputs": [
    {
     "name": "stdout",
     "output_type": "stream",
     "text": [
      "-0.000565456519683316\n",
      "3.17758102026389e-5\n"
     ]
    }
   ],
   "source": [
    "print(first_deriv.evalf(subs={x:80}))\n",
    "print(first_deriv.evalf(subs={x:84}))"
   ]
  },
  {
   "cell_type": "markdown",
   "metadata": {},
   "source": [
    "Well this is not optimal-- there exists a local minimum at 83.86 K in our polynomial fit. We can attempt to fit an exponential curve to this very low temperature data and append this to the polynomial function."
   ]
  },
  {
   "cell_type": "code",
   "execution_count": 18,
   "metadata": {
    "collapsed": false
   },
   "outputs": [
    {
     "name": "stdout",
     "output_type": "stream",
     "text": [
      "(array([ 16.41152512,   0.1313597 ,  19.07371315,  -1.87311107]), array([[  1.91117803e+11,   1.71287317e+02,   1.16380145e+10,\n",
      "          1.36049531e+01],\n",
      "       [  1.71287319e+02,   1.17634438e-05,   1.04316487e+01,\n",
      "          1.53406777e-06],\n",
      "       [  1.16380145e+10,   1.04316486e+01,   7.08690549e+08,\n",
      "          8.28625232e-01],\n",
      "       [  1.36049534e+01,   1.53406777e-06,   8.28625250e-01,\n",
      "          2.64521860e-07]]))\n"
     ]
    }
   ],
   "source": [
    "lowT_df = df.query('T<103')\n",
    "# Now lets fit the data to an exponential\n",
    "# print(np.min(lowT_df['TypeC_calib_mV']))\n",
    "def func(x, a, b, c, d):\n",
    "    return a * np.exp(b * x - c) + d\n",
    "\n",
    "fit_coeffs = optimize.curve_fit(func, lowT_df['T'],lowT_df['TypeC_calib_mV'], p0=(1, 1, 90, -3))\n",
    "print(fit_coeffs)\n",
    "a = fit_coeffs[0][0]\n",
    "b = fit_coeffs[0][1]\n",
    "c = fit_coeffs[0][2]\n",
    "d =  fit_coeffs[0][3]\n",
    "expfunc = func(lowT_df['T'],a,b,c,d)"
   ]
  },
  {
   "cell_type": "code",
   "execution_count": 19,
   "metadata": {
    "collapsed": false
   },
   "outputs": [
    {
     "data": {
      "text/plain": [
       "<IPython.core.display.Javascript object>"
      ]
     },
     "metadata": {},
     "output_type": "display_data"
    },
    {
     "data": {
      "text/html": [
       "<img src=\"data:image/png;base64,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\" width=\"639.6\">"
      ],
      "text/plain": [
       "<IPython.core.display.HTML object>"
      ]
     },
     "metadata": {},
     "output_type": "execute_result"
    },
    {
     "data": {
      "text/plain": [
       "[<matplotlib.lines.Line2D at 0x2851f802048>]"
      ]
     },
     "execution_count": 19,
     "metadata": {},
     "output_type": "execute_result"
    }
   ],
   "source": [
    "fig3, ax3 = plt.subplots()\n",
    "# ax3.plot(lowT_df['T'], a*np.exp(b*lowT_df['TypeC_calib_mV']), 'o',ms='0.5')\n",
    "ax3.plot(lowT_df['T'], lowT_df['TypeC_calib_mV'], 'o',ms='0.5')\n",
    "ax3.plot(lowT_df['T'], expfunc, 'o',ms='0.5',color='r')"
   ]
  },
  {
   "cell_type": "markdown",
   "metadata": {},
   "source": [
    "This appears to be a better fit than the polynomial in this regime. Now lets concatenate these two functions and interpolate near the points around 100 K to smooth things out if necessary. Recall that the two functions are fit_poly and expfunc"
   ]
  },
  {
   "cell_type": "code",
   "execution_count": 20,
   "metadata": {
    "collapsed": false
   },
   "outputs": [
    {
     "data": {
      "text/plain": [
       "<IPython.core.display.Javascript object>"
      ]
     },
     "metadata": {},
     "output_type": "display_data"
    },
    {
     "data": {
      "text/html": [
       "<img src=\"data:image/png;base64,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\" width=\"639.6\">"
      ],
      "text/plain": [
       "<IPython.core.display.HTML object>"
      ]
     },
     "metadata": {},
     "output_type": "execute_result"
    },
    {
     "data": {
      "text/plain": [
       "<matplotlib.legend.Legend at 0x2851f8799b0>"
      ]
     },
     "execution_count": 20,
     "metadata": {},
     "output_type": "execute_result"
    }
   ],
   "source": [
    "# select data from 103 to 120 K just so we can see the point of intersection a little better\n",
    "checkT_df = df.query('77<=T<=120') \n",
    "fig4, ax4 = plt.subplots()\n",
    "ax4.plot(checkT_df['T'], fit_poly(checkT_df['T']), 'o', ms=0.5, label='polyfit', color='g')\n",
    "ax4.plot(lowT_df['T'], expfunc, 'o', ms=0.5, label='expfunc', color='r')\n",
    "ax4.plot(df['T'], df['TypeC_calib_mV'],'o',ms='0.5', label='Data', color='b')\n",
    "ax4.set_xlim([80,110])\n",
    "ax4.set_ylim([-1.88,-1.75])\n",
    "ax4.legend()"
   ]
  },
  {
   "cell_type": "markdown",
   "metadata": {},
   "source": [
    "The two fitted plots almost match near 103 K, but there is a little 'cusp'-like shape near the point of intersection. Let's smooth it out. Also, notice that the expfunc fit is a little better than the polyfit."
   ]
  },
  {
   "cell_type": "code",
   "execution_count": 21,
   "metadata": {
    "collapsed": false
   },
   "outputs": [
    {
     "data": {
      "text/plain": [
       "<IPython.core.display.Javascript object>"
      ]
     },
     "metadata": {},
     "output_type": "display_data"
    },
    {
     "data": {
      "text/html": [
       "<img src=\"data:image/png;base64,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\" width=\"639.6\">"
      ],
      "text/plain": [
       "<IPython.core.display.HTML object>"
      ]
     },
     "metadata": {},
     "output_type": "execute_result"
    },
    {
     "data": {
      "text/plain": [
       "[<matplotlib.lines.Line2D at 0x2851f81c9e8>]"
      ]
     },
     "execution_count": 21,
     "metadata": {},
     "output_type": "execute_result"
    }
   ],
   "source": [
    "def switch_fcn(x, switchpoint, smooth):\n",
    "    s = 0.5 + 0.5*np.tanh((x - switchpoint)/smooth)\n",
    "    return s\n",
    "sw = switch_fcn(df['T'], 103, 0.2)\n",
    "expfunc2 = func(df['T'],a,b,c,d)\n",
    "len(expfunc2)\n",
    "\n",
    "fig, ax = plt.subplots()\n",
    "ax.plot(df['T'], sw,'o', ms=0.5)\n"
   ]
  },
  {
   "cell_type": "code",
   "execution_count": 22,
   "metadata": {
    "collapsed": false
   },
   "outputs": [
    {
     "data": {
      "text/plain": [
       "<IPython.core.display.Javascript object>"
      ]
     },
     "metadata": {},
     "output_type": "display_data"
    },
    {
     "data": {
      "text/html": [
       "<img src=\"data:image/png;base64,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\" width=\"639.6\">"
      ],
      "text/plain": [
       "<IPython.core.display.HTML object>"
      ]
     },
     "metadata": {},
     "output_type": "execute_result"
    },
    {
     "data": {
      "text/plain": [
       "[<matplotlib.lines.Line2D at 0x2851f92b828>]"
      ]
     },
     "execution_count": 22,
     "metadata": {},
     "output_type": "execute_result"
    }
   ],
   "source": [
    "def combined(switch, low_f1, high_f2):\n",
    "    comb = (1-switch)*low_f1 + switch*high_f2\n",
    "    return comb\n",
    "comb_fcn = combined(sw, expfunc2,fit_poly(df['T']))\n",
    "fig, ax = plt.subplots()\n",
    "ax.plot(df['T'], comb_fcn, 'o', ms=0.5)"
   ]
  },
  {
   "cell_type": "code",
   "execution_count": 23,
   "metadata": {
    "collapsed": false
   },
   "outputs": [
    {
     "data": {
      "text/plain": [
       "<IPython.core.display.Javascript object>"
      ]
     },
     "metadata": {},
     "output_type": "display_data"
    },
    {
     "data": {
      "text/html": [
       "<img src=\"data:image/png;base64,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\" width=\"639.6\">"
      ],
      "text/plain": [
       "<IPython.core.display.HTML object>"
      ]
     },
     "metadata": {},
     "output_type": "execute_result"
    },
    {
     "data": {
      "text/plain": [
       "<matplotlib.legend.Legend at 0x285206e3b00>"
      ]
     },
     "execution_count": 23,
     "metadata": {},
     "output_type": "execute_result"
    }
   ],
   "source": [
    "fig5, ax5 = plt.subplots()\n",
    "ax5.plot(df['T'],comb_fcn, 'o', ms=2, label='combined')\n",
    "ax5.plot(checkT_df['T'], fit_poly(checkT_df['T']), 'o', ms=0.5, label='polyfit', color='g')\n",
    "ax5.plot(lowT_df['T'], expfunc, 'o', ms=0.5, label='expfunc2', color='r')\n",
    "ax5.set_xlim([80,110])\n",
    "ax5.set_ylim([-1.88,-1.75])\n",
    "ax5.legend()"
   ]
  },
  {
   "cell_type": "markdown",
   "metadata": {},
   "source": [
    "Now I will take the polynomial and take the values from 77 K to 273 K for calibration and append them to the NIST values"
   ]
  },
  {
   "cell_type": "code",
   "execution_count": 24,
   "metadata": {
    "collapsed": false
   },
   "outputs": [
    {
     "name": "stdout",
     "output_type": "stream",
     "text": [
      "                      Type C (mV)\n",
      "Temperature (Kelvin)             \n",
      "77.15                   -1.870959\n",
      "77.25                   -1.870931\n",
      "77.35                   -1.870902\n",
      "77.45                   -1.870872\n",
      "77.55                   -1.870843\n",
      "                      Type C (mV)\n",
      "Temperature (Kelvin)             \n",
      "2587.65                 37.056717\n",
      "2587.75                 37.057632\n",
      "2587.85                 37.058548\n",
      "2587.95                 37.059464\n",
      "2588.05                 37.060379\n"
     ]
    }
   ],
   "source": [
    "# low temperature array\n",
    "low_temp = np.arange(77.15,273.15, 0.1)\n",
    "# low_temp_calib = fit_poly(low_temp)\n",
    "low_temp_calib = combined(switch_fcn(low_temp, 103, 3), func(low_temp,a,b,c,d), fit_poly(low_temp))\n",
    "\n",
    "# high temperature array\n",
    "high_temp = np.arange(273.15,2588.15, 0.1)\n",
    "high_temp_nist = typeC.emf_mVK(high_temp)\n",
    "\n",
    "# concatentate and put into a dataframe and output to excel\n",
    "Temperature = np.concatenate([low_temp, high_temp])\n",
    "TypeC_mV = np.concatenate([low_temp_calib, high_temp_nist])\n",
    "\n",
    "typeC_calibration = pd.DataFrame(data=TypeC_mV, index=Temperature, dtype='float32', columns = ['Type C (mV)'])\n",
    "typeC_calibration.index.name = 'Temperature (Kelvin)'\n",
    "\n",
    "print(typeC_calibration.head())\n",
    "print(typeC_calibration.tail())"
   ]
  },
  {
   "cell_type": "code",
   "execution_count": 25,
   "metadata": {
    "collapsed": true
   },
   "outputs": [],
   "source": [
    "# Uncomment these lines and run the cell to output a calibration table\n",
    "# write to excel\n",
    "\n",
    "# xlwrite = pd.ExcelWriter('Type C calibration_low_res.xlsx')\n",
    "# typeC_calibration.to_excel(xlwrite)\n",
    "# xlwrite.save()"
   ]
  },
  {
   "cell_type": "markdown",
   "metadata": {
    "collapsed": true
   },
   "source": [
    "But wait! Suppose we also want to fix that discontinuity at 273.15 K? We can apply the same procudure as before.\n",
    "1. Apply a tanh(x) function:  $switch = 0.5 + 0.5*np.tanh((x - switchpoint)/smooth)$\n",
    "2. Combine both functions:  $comb = (1-switch)*f1 + (switch)*f2 $"
   ]
  },
  {
   "cell_type": "code",
   "execution_count": 26,
   "metadata": {
    "collapsed": false
   },
   "outputs": [
    {
     "name": "stdout",
     "output_type": "stream",
     "text": [
      "              mV\n",
      "272.95  0.000000\n",
      "273.05  0.000000\n",
      "273.15  0.000000\n",
      "273.25  0.001339\n",
      "273.35  0.002678\n",
      "273.45  0.004017\n"
     ]
    }
   ],
   "source": [
    "\n",
    "low_calib = combined(switch_fcn(Temperature, 103, 3), func(Temperature,a,b,c,d), fit_poly(Temperature))\n",
    "\n",
    "high_calib = pd.DataFrame(index=high_temp, data=high_temp_nist,columns=['mV'])\n",
    "dummy_df = pd.DataFrame(index=low_temp, data=np.zeros(len(low_temp)),columns=['mV'])\n",
    "concat_high_calib = dummy_df.append(high_calib)\n",
    "print(concat_high_calib.loc[272.9:273.5])\n",
    "\n",
    "freezept_calib = combined(switch_fcn(Temperature, 273.15, 0.45), low_calib, concat_high_calib['mV'] )\n",
    "freezept_calib.index.name = 'T'"
   ]
  },
  {
   "cell_type": "code",
   "execution_count": 27,
   "metadata": {
    "collapsed": false
   },
   "outputs": [
    {
     "data": {
      "text/plain": [
       "T\n",
       "272.95   -0.008172\n",
       "273.05   -0.006156\n",
       "273.15   -0.004336\n",
       "273.25   -0.002013\n",
       "273.35    0.000205\n",
       "273.45    0.002266\n",
       "Name: mV, dtype: float64"
      ]
     },
     "execution_count": 27,
     "metadata": {},
     "output_type": "execute_result"
    }
   ],
   "source": [
    "freezept_calib.loc[272.9:273.5]"
   ]
  },
  {
   "cell_type": "markdown",
   "metadata": {},
   "source": [
    "The prior value at 273.15 K was -0.00867, when the actual value is 0. After the smoothing, the new value is -0.004336, about half of the prior value. Some of the values a little after 273.15 do not match exactly with the NIST table, but it is much better than the jump that we had before."
   ]
  },
  {
   "cell_type": "code",
   "execution_count": 28,
   "metadata": {
    "collapsed": false
   },
   "outputs": [
    {
     "data": {
      "text/plain": [
       "<IPython.core.display.Javascript object>"
      ]
     },
     "metadata": {},
     "output_type": "display_data"
    },
    {
     "data": {
      "text/html": [
       "<img src=\"data:image/png;base64,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\" width=\"639.6\">"
      ],
      "text/plain": [
       "<IPython.core.display.HTML object>"
      ]
     },
     "metadata": {},
     "output_type": "execute_result"
    },
    {
     "data": {
      "text/plain": [
       "<matplotlib.legend.Legend at 0x28520ce56d8>"
      ]
     },
     "execution_count": 28,
     "metadata": {},
     "output_type": "execute_result"
    }
   ],
   "source": [
    "fig, ax = plt.subplots()\n",
    "freezept_calib.plot(ax=ax, label ='combined')\n",
    "ax.plot(Temperature,low_calib, label = 'low calib')\n",
    "ax.plot(Temperature,concat_high_calib, label= 'high_calib')\n",
    "ax.set_ylim([-.04,0.04])\n",
    "ax.set_xlim([268,277])\n",
    "ax.legend()"
   ]
  },
  {
   "cell_type": "code",
   "execution_count": 29,
   "metadata": {
    "collapsed": false
   },
   "outputs": [
    {
     "name": "stdout",
     "output_type": "stream",
     "text": [
      "(array([], dtype=int64),)\n"
     ]
    }
   ],
   "source": [
    "print(signal.argrelmin(freezept_calib.values))\n",
    "# print(signal.argrelextrema(freezept_calib.values,np.less))\n",
    "# print(signal.argrelextrema(freezept_calib.values,np.greater))\n",
    "# No local maxima or minima!"
   ]
  },
  {
   "cell_type": "code",
   "execution_count": 45,
   "metadata": {
    "collapsed": false
   },
   "outputs": [
    {
     "data": {
      "text/plain": [
       "<IPython.core.display.Javascript object>"
      ]
     },
     "metadata": {},
     "output_type": "display_data"
    },
    {
     "data": {
      "text/html": [
       "<img src=\"data:image/png;base64,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\" width=\"639.6\">"
      ],
      "text/plain": [
       "<IPython.core.display.HTML object>"
      ]
     },
     "metadata": {},
     "output_type": "execute_result"
    },
    {
     "data": {
      "text/plain": [
       "array([  1.88131088e-05,   2.83440425e-05,   3.81253795e-05,\n",
       "         3.86294970e-05,   3.91402800e-05])"
      ]
     },
     "execution_count": 45,
     "metadata": {},
     "output_type": "execute_result"
    }
   ],
   "source": [
    "# How about candidates for inflection points?\n",
    "\n",
    "df = np.gradient(freezept_calib,0.1,)\n",
    "fig, ax = plt.subplots()\n",
    "ax.plot(Temperature, df)\n",
    "\n",
    "d2f = np.gradient(df, 0.1)\n",
    "ax.plot(Temperature, d2f)\n",
    "\n",
    "d2f[:5]"
   ]
  },
  {
   "cell_type": "code",
   "execution_count": 30,
   "metadata": {
    "collapsed": true
   },
   "outputs": [],
   "source": [
    "# Uncomment these lines and run the cell to output a calibration table\n",
    "# write to excel\n",
    "\n",
    "xlwrite = pd.ExcelWriter('Type C calibration_corrected.xlsx')\n",
    "# freezept_calib is a Series, not a Dataframe, so use the line below\n",
    "freezept_calib.to_frame().to_excel(xlwrite)\n",
    "xlwrite.save()"
   ]
  },
  {
   "cell_type": "code",
   "execution_count": null,
   "metadata": {
    "collapsed": true
   },
   "outputs": [],
   "source": []
  }
 ],
 "metadata": {
  "kernelspec": {
   "display_name": "Python [default]",
   "language": "python",
   "name": "python3"
  },
  "language_info": {
   "codemirror_mode": {
    "name": "ipython",
    "version": 3
   },
   "file_extension": ".py",
   "mimetype": "text/x-python",
   "name": "python",
   "nbconvert_exporter": "python",
   "pygments_lexer": "ipython3",
   "version": "3.5.2"
  }
 },
 "nbformat": 4,
 "nbformat_minor": 1
}
