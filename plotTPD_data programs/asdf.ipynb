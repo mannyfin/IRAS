{
 "cells": [
  {
   "cell_type": "code",
   "execution_count": null,
   "metadata": {
    "collapsed": true
   },
   "outputs": [],
   "source": [
    "file_path = 'C:\\\\Users\\\\manolis\\\\Desktop\\\\PycharmProjects\\\\IRAS\\\\IRAS\\\\HOAc work\\\\Ni(110)\\\\all\\\\HOAc_3.5E-09_15 s_724.txt'\n",
    "import pandas as pd\n",
    "import holoviews as hv\n",
    "file = pd.read_csv(file_path, sep='\\t', header=3)\n",
    "file.head(n=3)\n",
    "\n",
    "curve = hv.Curve(file, ' temp (K)', ' MS5=61.297', group='title')\n"
   ]
  }
 ],
 "metadata": {
  "kernelspec": {
   "display_name": "Python 2",
   "language": "python",
   "name": "python2"
  },
  "language_info": {
   "codemirror_mode": {
    "name": "ipython",
    "version": 2
   },
   "file_extension": ".py",
   "mimetype": "text/x-python",
   "name": "python",
   "nbconvert_exporter": "python",
   "pygments_lexer": "ipython2",
   "version": "2.7.6"
  }
 },
 "nbformat": 4,
 "nbformat_minor": 0
}
