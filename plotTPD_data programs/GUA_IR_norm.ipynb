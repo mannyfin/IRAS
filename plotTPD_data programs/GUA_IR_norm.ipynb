{
 "cells": [
  {
   "cell_type": "markdown",
   "metadata": {},
   "source": [
    "## We determined that the NIST data for Guaiacol (2-methoxyphenol) had 18 values that were zero in the transmittance data and therefore infinity when we calculated the absorbance data. \n",
    "\n",
    "#### We confirmed this by checking the same regions on the NIST IR spectrum for the Guaiacol solution. The link to the NIST spectra at the time of this writing can be found here:\n",
    "https://webbook.nist.gov/cgi/cbook.cgi?ID=C90051&Units=SI&Type=IR-SPEC&Index=1#IR-SPEC"
   ]
  },
  {
   "cell_type": "code",
   "execution_count": 197,
   "metadata": {
    "collapsed": false
   },
   "outputs": [
    {
     "name": "stdout",
     "output_type": "stream",
     "text": [
      "Warning: Cannot change to a different GUI toolkit: tk. Using notebook instead.\n"
     ]
    }
   ],
   "source": [
    "%matplotlib notebook\n",
    "# %matplotlib inline\n",
    "%matplotlib tk\n",
    "import os\n",
    "import pandas as pd\n",
    "import numpy as np\n",
    "import matplotlib.pyplot as plt"
   ]
  },
  {
   "cell_type": "code",
   "execution_count": 198,
   "metadata": {
    "collapsed": false
   },
   "outputs": [
    {
     "data": {
      "text/plain": [
       "'C:\\\\Users\\\\manolis\\\\Desktop\\\\PycharmProjects\\\\IRAS\\\\IRAS\\\\GUA work\\\\Pt(100)\\\\IR chamber\\\\IR data\\\\GUA IR'"
      ]
     },
     "execution_count": 198,
     "metadata": {},
     "output_type": "execute_result"
    }
   ],
   "source": [
    "os.getcwd()"
   ]
  },
  {
   "cell_type": "code",
   "execution_count": 199,
   "metadata": {
    "collapsed": true
   },
   "outputs": [],
   "source": [
    "os.chdir('C:\\\\Users\\\\manolis\\\\Desktop\\\\PycharmProjects\\\\IRAS\\\\IRAS\\\\ref IR spectra')"
   ]
  },
  {
   "cell_type": "code",
   "execution_count": 200,
   "metadata": {
    "collapsed": false
   },
   "outputs": [
    {
     "data": {
      "text/plain": [
       "['.ipynb_checkpoints',\n",
       " '108-24-7-IR_HOAc_anhydride.jdx',\n",
       " '64-19-7-IR_HOAc.jdx',\n",
       " 'anisole IR_solution.jdx',\n",
       " 'benzene IR_solution.jdx',\n",
       " 'catechol IR_solution.jdx',\n",
       " 'guaiacol IR_solution.jdx',\n",
       " 'phenol IR_solution.jdx']"
      ]
     },
     "execution_count": 200,
     "metadata": {},
     "output_type": "execute_result"
    }
   ],
   "source": [
    "os.listdir()"
   ]
  },
  {
   "cell_type": "code",
   "execution_count": 201,
   "metadata": {
    "collapsed": true
   },
   "outputs": [],
   "source": [
    "nist = pd.read_csv( 'guaiacol IR_solution.jdx', sep=' ', skiprows=36, skipfooter=1, header=None, index_col=0, engine='python' )"
   ]
  },
  {
   "cell_type": "code",
   "execution_count": 202,
   "metadata": {
    "collapsed": false
   },
   "outputs": [
    {
     "data": {
      "text/html": [
       "<div>\n",
       "<table border=\"1\" class=\"dataframe\">\n",
       "  <thead>\n",
       "    <tr style=\"text-align: right;\">\n",
       "      <th></th>\n",
       "      <th>1</th>\n",
       "      <th>2</th>\n",
       "      <th>3</th>\n",
       "      <th>4</th>\n",
       "      <th>5</th>\n",
       "    </tr>\n",
       "    <tr>\n",
       "      <th>0</th>\n",
       "      <th></th>\n",
       "      <th></th>\n",
       "      <th></th>\n",
       "      <th></th>\n",
       "      <th></th>\n",
       "    </tr>\n",
       "  </thead>\n",
       "  <tbody>\n",
       "    <tr>\n",
       "      <th>603.97300</th>\n",
       "      <td>0.793</td>\n",
       "      <td>0.793</td>\n",
       "      <td>0.793</td>\n",
       "      <td>0.793</td>\n",
       "      <td>0.793</td>\n",
       "    </tr>\n",
       "    <tr>\n",
       "      <th>608.00776</th>\n",
       "      <td>0.793</td>\n",
       "      <td>0.793</td>\n",
       "      <td>0.793</td>\n",
       "      <td>0.793</td>\n",
       "      <td>0.793</td>\n",
       "    </tr>\n",
       "    <tr>\n",
       "      <th>612.04252</th>\n",
       "      <td>0.793</td>\n",
       "      <td>0.793</td>\n",
       "      <td>0.793</td>\n",
       "      <td>0.793</td>\n",
       "      <td>0.793</td>\n",
       "    </tr>\n",
       "    <tr>\n",
       "      <th>616.07728</th>\n",
       "      <td>0.792</td>\n",
       "      <td>0.792</td>\n",
       "      <td>0.792</td>\n",
       "      <td>0.792</td>\n",
       "      <td>0.792</td>\n",
       "    </tr>\n",
       "    <tr>\n",
       "      <th>620.11204</th>\n",
       "      <td>0.791</td>\n",
       "      <td>0.791</td>\n",
       "      <td>0.791</td>\n",
       "      <td>0.790</td>\n",
       "      <td>0.790</td>\n",
       "    </tr>\n",
       "  </tbody>\n",
       "</table>\n",
       "</div>"
      ],
      "text/plain": [
       "               1      2      3      4      5\n",
       "0                                           \n",
       "603.97300  0.793  0.793  0.793  0.793  0.793\n",
       "608.00776  0.793  0.793  0.793  0.793  0.793\n",
       "612.04252  0.793  0.793  0.793  0.793  0.793\n",
       "616.07728  0.792  0.792  0.792  0.792  0.792\n",
       "620.11204  0.791  0.791  0.791  0.790  0.790"
      ]
     },
     "execution_count": 202,
     "metadata": {},
     "output_type": "execute_result"
    }
   ],
   "source": [
    "nist.head()"
   ]
  },
  {
   "cell_type": "code",
   "execution_count": 203,
   "metadata": {
    "collapsed": true
   },
   "outputs": [],
   "source": [
    "dx = 0.806952\n",
    "wave = np.concatenate(np.array(list(map(lambda x: np.array(x)+dx*np.array([0,1,2,3,4]), nist.index.values))))\n",
    "wave = wave.reshape((len(wave), 1))"
   ]
  },
  {
   "cell_type": "code",
   "execution_count": 204,
   "metadata": {
    "collapsed": true
   },
   "outputs": [],
   "source": [
    "nist = np.ndarray.flatten(nist.values)\n",
    "nist = nist.reshape((len(nist),1))"
   ]
  },
  {
   "cell_type": "code",
   "execution_count": 205,
   "metadata": {
    "collapsed": true
   },
   "outputs": [],
   "source": [
    "# rm nans\n",
    "nist = nist[~np.isnan(nist)]\n",
    "wave= wave[:len(nist)]"
   ]
  },
  {
   "cell_type": "code",
   "execution_count": 206,
   "metadata": {
    "collapsed": false
   },
   "outputs": [
    {
     "data": {
      "text/plain": [
       "<IPython.core.display.Javascript object>"
      ]
     },
     "metadata": {},
     "output_type": "display_data"
    },
    {
     "data": {
      "text/html": [
       "<img src=\"data:image/png;base64,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\" width=\"431.1333333333333\">"
      ],
      "text/plain": [
       "<IPython.core.display.HTML object>"
      ]
     },
     "metadata": {},
     "output_type": "execute_result"
    },
    {
     "data": {
      "text/plain": [
       "[<matplotlib.lines.Line2D at 0x1eb5333ee48>]"
      ]
     },
     "execution_count": 206,
     "metadata": {},
     "output_type": "execute_result"
    }
   ],
   "source": [
    "plt.plot(wave,nist)\n"
   ]
  },
  {
   "cell_type": "code",
   "execution_count": 207,
   "metadata": {
    "collapsed": false
   },
   "outputs": [
    {
     "name": "stderr",
     "output_type": "stream",
     "text": [
      "C:\\Users\\manolis\\Anaconda3\\lib\\site-packages\\ipykernel\\__main__.py:1: RuntimeWarning: divide by zero encountered in log10\n",
      "  if __name__ == '__main__':\n"
     ]
    }
   ],
   "source": [
    "nist_absorb = 2 - np.log10(nist*100)\n",
    "# rm nan vals\n",
    "# nist_absorb = nist_absorb[~np.isnan(nist_absorb)]\n",
    "# nist_absorb = nist_absorb.reshape((len(nist_absorb),1))\n",
    "\n",
    "# wave = wave[:len(nist_absorb)]"
   ]
  },
  {
   "cell_type": "code",
   "execution_count": 208,
   "metadata": {
    "collapsed": true
   },
   "outputs": [],
   "source": [
    "# rm nan values\n",
    "np.sum(~np.isnan(nist_absorb))\n",
    "nist_absorb = nist_absorb[~np.isnan(nist_absorb)]\n",
    "# replace inf values with an absorbance of 1\n",
    "nist_absorb[np.where(nist_absorb == np.inf)] = 1"
   ]
  },
  {
   "cell_type": "code",
   "execution_count": 209,
   "metadata": {
    "collapsed": true
   },
   "outputs": [],
   "source": [
    "nist_absorb = nist_absorb.reshape((len(nist_absorb),1))\n",
    "wave = wave[:len(nist_absorb)]"
   ]
  },
  {
   "cell_type": "code",
   "execution_count": 210,
   "metadata": {
    "collapsed": false
   },
   "outputs": [],
   "source": [
    "# plt.figure(figsize=(12, 12))\n",
    "plt.plot(wave[::-1], nist_absorb[::-1], label='nist')\n",
    "plt.show()\n",
    "# plt.legend()"
   ]
  },
  {
   "cell_type": "code",
   "execution_count": 211,
   "metadata": {
    "collapsed": true
   },
   "outputs": [],
   "source": [
    "def normalize_wrt(X, x_max_val):\n",
    "    \"\"\"\n",
    "    Leaving this as a function in case i need it in the future... Normalizes with respect to the value you want. Not\n",
    "    necessarily the max value in the column\n",
    "    :param X:\n",
    "    :param x_max_val:\n",
    "    :return:\n",
    "    \"\"\"\n",
    "    # TODO may need to fix normalization\n",
    "    x_norm = (X - X.min(axis=0)) / float((x_max_val.values - X.min(axis=0).values))\n",
    "\n",
    "    return x_norm"
   ]
  },
  {
   "cell_type": "code",
   "execution_count": 212,
   "metadata": {
    "collapsed": false
   },
   "outputs": [
    {
     "data": {
      "text/plain": [
       "(array([], dtype=int64), array([], dtype=int64))"
      ]
     },
     "execution_count": 212,
     "metadata": {},
     "output_type": "execute_result"
    }
   ],
   "source": [
    "np.where(nist_absorb==np.inf)"
   ]
  },
  {
   "cell_type": "code",
   "execution_count": 213,
   "metadata": {
    "collapsed": false
   },
   "outputs": [
    {
     "data": {
      "text/plain": [
       "4.0"
      ]
     },
     "execution_count": 213,
     "metadata": {},
     "output_type": "execute_result"
    }
   ],
   "source": [
    "np.max(nist_absorb)"
   ]
  },
  {
   "cell_type": "markdown",
   "metadata": {},
   "source": [
    "At this point, we are going to consider our data for a very large exposure of GUA on Pt(100). The exposure was 1e-8 Torr for 140s. This is a lot greater than the doses used in our IR experiments and is a good approximation of liquid GUA."
   ]
  },
  {
   "cell_type": "code",
   "execution_count": 214,
   "metadata": {
    "collapsed": false
   },
   "outputs": [],
   "source": [
    "os.chdir('C:\\\\Users\\\\manolis\\\\Desktop\\\\PycharmProjects\\\\IRAS\\\\IRAS\\\\GUA work\\\\\\Pt(100)\\\\IR chamber\\\\IR data\\\\GUA IR')"
   ]
  },
  {
   "cell_type": "code",
   "execution_count": 215,
   "metadata": {
    "collapsed": false
   },
   "outputs": [
    {
     "data": {
      "text/plain": [
       "['GUA_1E-08_120 sec_big dose.0.dpt',\n",
       " 'GUA_1E-08_140 sec_big dose.0.dpt',\n",
       " 'GUA_8e-09_90 sec _seq anneal_anneal to 100 K.0.dpt',\n",
       " 'GUA_8e-09_90 sec _seq anneal_anneal to 191 K.0.dpt',\n",
       " 'GUA_8e-09_90 sec _seq anneal_anneal to 249 K.0.dpt',\n",
       " 'GUA_8e-09_90 sec _seq anneal_anneal to 337 K.0.dpt',\n",
       " 'GUA_8e-09_90 sec _seq anneal_anneal to 391 K.0.dpt',\n",
       " 'GUA_8e-09_90 sec _seq anneal_anneal to 575 K.0.dpt',\n",
       " 'GUA_8e-09_90 sec _seq anneal_anneal to 800 K.0.dpt',\n",
       " 'IR.xlsx']"
      ]
     },
     "execution_count": 215,
     "metadata": {},
     "output_type": "execute_result"
    }
   ],
   "source": [
    "os.listdir()"
   ]
  },
  {
   "cell_type": "code",
   "execution_count": 216,
   "metadata": {
    "collapsed": false
   },
   "outputs": [
    {
     "data": {
      "text/plain": [
       "<IPython.core.display.Javascript object>"
      ]
     },
     "metadata": {},
     "output_type": "display_data"
    },
    {
     "data": {
      "text/html": [
       "<img src=\"data:image/png;base64,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\" width=\"431.1333333333333\">"
      ],
      "text/plain": [
       "<IPython.core.display.HTML object>"
      ]
     },
     "metadata": {},
     "output_type": "execute_result"
    },
    {
     "data": {
      "text/plain": [
       "<matplotlib.legend.Legend at 0x1eb521198d0>"
      ]
     },
     "execution_count": 216,
     "metadata": {},
     "output_type": "execute_result"
    }
   ],
   "source": [
    "fig, ax = plt.subplots()\n",
    "colnames = ['Wavenumber', 'Intensity']\n",
    "file = 'GUA_1E-08_140 sec_big dose.0.dpt'\n",
    "IR_spectra = pd.read_csv(file, '\\t', header=None, names=colnames, dtype=float)\n",
    "IR_spectra.set_index(colnames[0], inplace=True)\n",
    "ax.plot(IR_spectra, label='big dose')\n",
    "plt.legend()"
   ]
  },
  {
   "cell_type": "code",
   "execution_count": 217,
   "metadata": {
    "collapsed": false
   },
   "outputs": [
    {
     "data": {
      "text/plain": [
       "Intensity    1508.1\n",
       "dtype: float64"
      ]
     },
     "execution_count": 217,
     "metadata": {},
     "output_type": "execute_result"
    }
   ],
   "source": [
    "IR_spectra.idxmax()"
   ]
  },
  {
   "cell_type": "code",
   "execution_count": 218,
   "metadata": {
    "collapsed": false
   },
   "outputs": [
    {
     "data": {
      "text/plain": [
       "<IPython.core.display.Javascript object>"
      ]
     },
     "metadata": {},
     "output_type": "display_data"
    },
    {
     "data": {
      "text/html": [
       "<img src=\"data:image/png;base64,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\" width=\"431.1333333333333\">"
      ],
      "text/plain": [
       "<IPython.core.display.HTML object>"
      ]
     },
     "metadata": {},
     "output_type": "execute_result"
    },
    {
     "data": {
      "text/plain": [
       "[<matplotlib.lines.Line2D at 0x1eb4f9662e8>]"
      ]
     },
     "execution_count": 218,
     "metadata": {},
     "output_type": "execute_result"
    }
   ],
   "source": [
    "big = normalize_wrt(X=IR_spectra,x_max_val=np.max(IR_spectra))\n",
    "fig2, ax2 = plt.subplots()\n",
    "ax2.plot(big, label='normalized')"
   ]
  },
  {
   "cell_type": "code",
   "execution_count": 219,
   "metadata": {
    "collapsed": false
   },
   "outputs": [
    {
     "data": {
      "text/plain": [
       "['GUA_1E-08_120 sec_big dose.0.dpt',\n",
       " 'GUA_1E-08_140 sec_big dose.0.dpt',\n",
       " 'GUA_8e-09_90 sec _seq anneal_anneal to 100 K.0.dpt',\n",
       " 'GUA_8e-09_90 sec _seq anneal_anneal to 191 K.0.dpt',\n",
       " 'GUA_8e-09_90 sec _seq anneal_anneal to 249 K.0.dpt',\n",
       " 'GUA_8e-09_90 sec _seq anneal_anneal to 337 K.0.dpt',\n",
       " 'GUA_8e-09_90 sec _seq anneal_anneal to 391 K.0.dpt',\n",
       " 'GUA_8e-09_90 sec _seq anneal_anneal to 575 K.0.dpt',\n",
       " 'GUA_8e-09_90 sec _seq anneal_anneal to 800 K.0.dpt',\n",
       " 'IR.xlsx']"
      ]
     },
     "execution_count": 219,
     "metadata": {},
     "output_type": "execute_result"
    }
   ],
   "source": [
    "os.listdir()"
   ]
  },
  {
   "cell_type": "markdown",
   "metadata": {},
   "source": [
    "100 K IR spectra of GUA adsorbed on Pt(100)"
   ]
  },
  {
   "cell_type": "code",
   "execution_count": 220,
   "metadata": {
    "collapsed": false
   },
   "outputs": [
    {
     "data": {
      "text/plain": [
       "<IPython.core.display.Javascript object>"
      ]
     },
     "metadata": {},
     "output_type": "display_data"
    },
    {
     "data": {
      "text/html": [
       "<img src=\"data:image/png;base64,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\" width=\"431.1333333333333\">"
      ],
      "text/plain": [
       "<IPython.core.display.HTML object>"
      ]
     },
     "metadata": {},
     "output_type": "execute_result"
    },
    {
     "data": {
      "text/plain": [
       "<matplotlib.legend.Legend at 0x1eb53469c88>"
      ]
     },
     "execution_count": 220,
     "metadata": {},
     "output_type": "execute_result"
    }
   ],
   "source": [
    "file1 = 'GUA_8e-09_90 sec _seq anneal_anneal to 100 K.0.dpt'\n",
    "# fig3, ax3 = plt.subplots()\n",
    "colnames = ['Wavenumber', 'Intensity']\n",
    "IR_spectra100 = pd.read_csv(file1, '\\t', header=None, names=colnames, dtype=float)\n",
    "IR_spectra100.set_index(colnames[0], inplace=True)\n",
    "# ax3.plot(IR_spectra, label='100 K')\n",
    "\n",
    "\n",
    "K100 = normalize_wrt(X=IR_spectra100,x_max_val=np.max(IR_spectra100))\n",
    "fig3, ax3 = plt.subplots()\n",
    "ax3.plot(K100, label='100K')\n",
    "plt.legend()"
   ]
  },
  {
   "cell_type": "code",
   "execution_count": 221,
   "metadata": {
    "collapsed": false
   },
   "outputs": [
    {
     "data": {
      "text/plain": [
       "<IPython.core.display.Javascript object>"
      ]
     },
     "metadata": {},
     "output_type": "display_data"
    },
    {
     "data": {
      "text/html": [
       "<img src=\"data:image/png;base64,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\" width=\"431.1333333333333\">"
      ],
      "text/plain": [
       "<IPython.core.display.HTML object>"
      ]
     },
     "metadata": {},
     "output_type": "execute_result"
    },
    {
     "data": {
      "text/plain": [
       "[<matplotlib.lines.Line2D at 0x1eb53519cf8>]"
      ]
     },
     "execution_count": 221,
     "metadata": {},
     "output_type": "execute_result"
    }
   ],
   "source": [
    "fig4, ax4 = plt.subplots()\n",
    "# plot the ratio of the 100 K spectrum and the big spectrum\n",
    "ax4.plot(K100/big)\n",
    "# print((K100/big))"
   ]
  },
  {
   "cell_type": "markdown",
   "metadata": {},
   "source": [
    "Let's try this again with the 191 K spectrum"
   ]
  },
  {
   "cell_type": "code",
   "execution_count": 222,
   "metadata": {
    "collapsed": false
   },
   "outputs": [
    {
     "data": {
      "text/plain": [
       "<IPython.core.display.Javascript object>"
      ]
     },
     "metadata": {},
     "output_type": "display_data"
    },
    {
     "data": {
      "text/html": [
       "<img src=\"data:image/png;base64,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\" width=\"431.1333333333333\">"
      ],
      "text/plain": [
       "<IPython.core.display.HTML object>"
      ]
     },
     "metadata": {},
     "output_type": "execute_result"
    },
    {
     "data": {
      "text/plain": [
       "<matplotlib.legend.Legend at 0x1eb5358b208>"
      ]
     },
     "execution_count": 222,
     "metadata": {},
     "output_type": "execute_result"
    }
   ],
   "source": [
    "file3 =  'GUA_8e-09_90 sec _seq anneal_anneal to 191 K.0.dpt'\n",
    "# fig3, ax3 = plt.subplots()\n",
    "colnames = ['Wavenumber', 'Intensity']\n",
    "IR_spectra191 = pd.read_csv(file3, '\\t', header=None, names=colnames, dtype=float)\n",
    "IR_spectra191.set_index(colnames[0], inplace=True)\n",
    "# ax3.plot(IR_spectra, label='100 K')\n",
    "\n",
    "K191 = normalize_wrt(X=IR_spectra191,x_max_val=np.max(IR_spectra191))\n",
    "fig5, ax5 = plt.subplots()\n",
    "ax5.plot(K191, label='191K')\n",
    "plt.legend()"
   ]
  },
  {
   "cell_type": "code",
   "execution_count": 223,
   "metadata": {
    "collapsed": false
   },
   "outputs": [
    {
     "data": {
      "text/plain": [
       "<IPython.core.display.Javascript object>"
      ]
     },
     "metadata": {},
     "output_type": "display_data"
    },
    {
     "data": {
      "text/html": [
       "<img src=\"data:image/png;base64,iVBORw0KGgoAAAANSUhEUgAAAb4AAAEpCAYAAADs7kcSAAAgAElEQVR4nO3deXxU5b0/8E8Xe+/v3tb+fvfa3tLFoyKColaLtlZtC1Zrq61a195WrdWqlbrUpR6WALIIooCKIFB2ZEdxm2xkg5CEhCUkIex72PcQAllnvr8/znlOzqyZmcxJzsTP+/WaFySZ7WQm8znnOc/z/QJEREREREREREREREREREREREREREREREREREREREREREREREREREREREREREREREREREREREREREREREREREREREREREREREREREREREREREREREREREREREREREREREREREREREREREREREREREREREREREREREREBADnn3++9OzZkxdeYr78n29fJOddcKH827e0Dn8uvPDi5guA6o7+rCebnj17ClE8rhuRJZrukSsHZ3T0UyFyNQCVHf1ZTzYMPopXr+EMPqJogMGXEO8C2A+gOeD7bwDYAWAbgPuiuSMGH8Wr1/Blouke6cngI4oIDL6EuBnAd+AffLcCyAfwFQDfA1AF4Out3RGDj+L1o2EMPqJogMGXUPbgmwTgcdvXCwDc29odMPgoXtcy+IiiAgZfQtmD73MAt9m+Hg3ghdbugMFH8WLwEUUHDL6EsgefB9EFX18YL0IlgMouXbp09HuCktQ1QzNF0z1yxaD0jn4qRK4GBl9CtTbU2eoEFx7xUbx+yOAjigoYfAllD77b4D+5ZR+Ab7R2Bww+itfVrzH4iKIBBl9CTIGxnEHMfyea338TwE4A2wE8EM0dMfgoXlcNyWDwEUUBDD53YfBRvK40g+9yBh9RRGDwuQuDj+J15WAGH1E0wOBzFwYfxYvBRxQdMPjchcFH8erJ4COKChh87sLgo3hdMShdNN0jPVIYfESRgMHnLgw+itflDD6iqIDB5y4MPopXjxQGH1E0wOBzFwYfxat7Sppouke6p6R19FMhcjUw+NyFwUfx6jbQCL7LBjL4iCIBg89dGHwUr0sHpIqme6Qbg48oIjD43IXBR/Hq2t8MvgEMPqJIwOBzFwYfxevifh7RdI9cOiC1o58KkauBwecuDD6Kl6Ybwde1P4OPKBIw+NyFwUfx8Pl8VvBdwuAjiggMPndh8FE8vN6W4Lu4n6ejnw6Rq4HB5y4MPopHU7PXCr6LGHxEEYHB5y4MPopHQ1NL8Gk6g48oEjD43IXBR/Goa2xm8BFFCQw+d2HwUTwCg8/n83X0UyJyLTD4HPcwgAoAZQBWAuge6coMPorH2YYmv+Dzehl8ROGAweeo/wBwAsAF5td/A7Ak0g0YfBSPM/X+wdfU7O3op0TkWmDwOerrAE4CuMj8WgcwPtINGHwUj9N1jX7B18jgIwoLDD7H/RFALYADADYB+GakK/fs2ZPDVBSz6nP+wdfQxOAjCgcMPkedB6AAwOXm18MATA64Tl8YL0IlgMpvfee7oukeyag81NHvDUoip842+AVffVNzRz8lItcCg89R1wMotH19BYyJLmF99+JuoukeeXZ+aUe/NyiJnKj1D766RgYfUThg8DmqC4DjAL5nfv0CgIWRbsDgo3gcO1NvlStj8BFFBgaf4/4K49xeOYBsABdGurIKvucYfBSDozX1VksiTffIuQYGH1E4YPC5y3cvYvBR7I6crhNN98hlA9NE0z1ytqGpo58SkWuBwecuKvieX8Dgo+gdqjaC7/JB6aLpHqmtZ/ARhQMGn7t0YfBRHA6cOiea7pGegzNE0z1yhsFHFBYYfO6igu8FBh/FYL8ZfFcNMYKvpq6xo58SkWuBwecuDD6KR9WJs6LpHrl22DLRdI9Un2uf4MvdckQGLK1ol8ciShQw+NxFBd8/Fq7v6PcGJZG9x43g6zU8ywi+s84Hn8/X0vWdtUEpmYDB5y4MPorH7mO1ouke+fHrRvCdOtvg+GPuOHrGCr7THFqlJAIGn7uo4HuRwUcx2GUG3w0js0XTPXKy1vngq9hXbQXfwepzjj8eUaKAwecuDD6Khzr6unFUjmi6R060Q/CV7DphBd/2I2ccfzyiRAGDz12s4FvE4KPobT1cI5rukV+8mSua7pHjZ+odf8zlW49awVdWdcrxxyNKFDD43IXBR/HYdPC0aLpHbhmTJ5rukWPtEHzpGw5ZwVe445jjj0eUKGDwuQuDj+KxYb9xvu32t1eIpnvkaI3zwfdx6X4r+JZtPOz44xElChh87qKC76VFZR393qAksr7qlGi6R+4cny+a7pEjNXWOP+b8kr1W8H2yfr/jj0eUKGDwuQuDj+Kxdo8x0eTuCQVG8J12Pvimr9xlBd/c4j2OPx5RooDB5y4q+F5ezOCj6BXvPC6a7pH7JxWKpnvkcDsE34Tc7Vbw/WvFTscfjyhRwOBzFwYfxaNwxzHRdI/8Ycoq0XSPHKp2PvjGZG6xgu/trK2OPx5RooDB5y4q+F5h8FEM8rcZSwsenlYsmu6RA6ecW1CevemwHD9TL8M/32gF37DPNzr2eESJBgafu3yHwUdxyN1yRDTdI3+ZuVo03SP7HQq+PceNCjF/mlosA5ZWSPeUNLllTJ7cOCrHkccjcgIYfO6igu+fSxh8FL2sjYdF0z3y5Ow1ouke2XfyrCOPs8JctN5nTJ68uGi9XDM0U4Z+Zhz5NXt9jjwmUaKBwee4/wQwG8BWAFsAPB3pygw+iodaTN537jrRdI9UnXAm+NI3HBRN98hdEwrkmblr5acjs+WdrG3t2gqJqK3A4HPcZACvmv//EoBvR7qyCr5Xl5R39HuDkkhqhRFIz80vdTT41KL1+ycVymMzSqTPmDxrWYNTR5lEiQYGn6O+AeAggK9GewMGH8Xjk/X7rYo/mu6RvccTH0LNXp98sGqPNXv0oSlFcse7+bJoTZVoukc2HTyd8MckcgIYfI76IYD1MI76SgF8DECLdAMVfPqHDD6KngqfAUsrRNM9sud4bULvXwXeCI9xPu+R6SVy14QCue/9Qmv4s2TXiYQ+JpFTwOBzVC8AAuBW8+vHAeQEXKcvjBehEkDlN7/9fQYfxWxO0W7RdI+1xGD3scQGX6/hy0TTPfK791aKpnvkiVmr5VfjVsjD04qlYLuxhjBnM+t1UnIAg89R/wPguO3r/wBQHekG39GMI75+HzH4KHr/WrFTNN1jLSrflaDga/b6ZOHqvVafP3V5es5a+dnoXHli1hop33fK+v7J2gbx+Ti7k9wNDD7HrQDwI/P/dwMojHRlBh/FY3y2MbNSlRHbeTQxjWE/Lz/gF3jq8sSs1XLdiCx5dn6p1f1dXRatrkrIYxM5BQw+x10BYBWACgD5AC6PdGUGH8XjzYzNoukemVGwK6Ed0e1lyeyXh6cVy5WDM+SfS8rk2Jl6v5/94s3chDw2kVPA4HOXluCr6Oj3BiWRYea5vYWrjVZBWw/XxHR7n88nN47KkWkrd/l9/5XFZVagXTUkQxabk2gemlIkXfunyuBPNkh9U3NQMJ6pb0rk5hElFBh87sLgo3gMWFohlw1MkyVr94mme2TjgdiWFtiP2uwem1Fifb/3W3kiInL3hAJrksvItE0iIjIybZP/cOcaDneSe4HB5y4q+PovZfBR9F5aVCZXv5YpS0uN4Nuwvzqm29snqNj9dvxK6/sPTC4SEZEHJhXJL97M9evKcKi6zrreFYPS2U+SXA0MPnf5HwYfxaHvvHXy49ezrIXsZVWnYrq9KnkWGHw/HZktT8xaLS8uWi8rth4VEZE/TS2Wa4ZmiqZ7ZPLyHSIiUtfYMtx569jl8vC04sRs2Bfc+qpTrIHqADD43EUF3wAGH8XgiVmr5edv5lqzMNftPRn1bU/WNsi1w5ZZwdXY7BUR47xftwFpMvBj//fiX2aulkv6p4qme2R20W7r+5rukZveyJEHJhfJzaNzpK6xOSHb9kW1ds8J0XSPvJWxpaOfSqcDBp+7MPgoHn+aWiy3jVtuVVFZvTv6KiqTlu/wOz/3efkBERGpPtcYssnsU3PWhDyXd7K2Qc7UN1k/f2hKUWI27gtqbrFRLee+9ws7+ql0OmDwuYsKvsC9bKJIHphcJHeOz5fMSmPIctXO41HfVtX3nJq/U64ckiEPTDICa8fRM6LpHpmzao/f9Z81C2Frukc+KzsQdH9PzFodctiUYjNu2VbRdI9cMzQzYctTyAAGn7v8j3Ypg6+TO9fQnPBGsXdPKJDfTyyQ7E1GX77C7ceivu1DU4rk9rdXiIhIj5R00XSPZG86LMU7j4umeyR9w0G/66ug1HSPZG0MLlP2p6nFDL4E6PNWnvV7vLgff5fRmlGwS3733ko5dbYh7HXA4HMXFXwpH29ox7cKtYdzDc2y6eBpKxiazHNpiXDHu/ny4OQiqxO7mogSjZtH58jjM1eLiMgcsxj1mMwtVqujNQHDpv0+Krc+kAtCBOyCkr3Wz2u5ni8uhWb9U/vF7Xw+nytaU/Wdu06uGZoZsXQeGHzuwuDrvO6fVOj3QZbInnm3jTNmUqoO6blbjkR1O6/XJ5cOSLXeb16vT3qkpMurS8pltln4OrDg9aBPNljbsHZP6Ek0qiu7U30BW+P1+uS5+aWSvy36HQA3UT0O7ZeGpsTtKDlBVflJVLm8eKlh/0jA4HMXFXyDPmHwdTaBH2SxLjmI5Bdv5srjM1dbRwrZm6LrlLDKHM58P2+H9b3bxi2X//3XKhlrnmMKrMKiOkBEWiivllWsN7fxaE29vLqkXI6fqY9zC2NztCb0gvxk8dpnlXJxP4/8fmKBtR0HqxM7PJ5o14/IskYIOrJQ+Z3j8601p+GAwecuDL7OKzD4inZEPwGlNTeOypGn56y1giyz8lDI69U1NsuYzC1Sfa7ROjrUdI98sn6/dZ2HpxVLnzF5kvLxBuk2IC3oQ2x0+mbrduG6QKzcZgTw/ZMKZfGaKvnVuBXtUtHF5/PJ1PydVqf4ZAw+n88nfd7KkxtH5ciRmjq5dezyuIoStLcfmUti1CzhlduiP8+cSH3G5MljM0oiXgcMPndh8HU+dY3NVqUT+yWR/et6Dc+S5+aXyurdxtqvtIqDQdfx+XzWYz89Z63fc7F/qL6yuEyuGJQuf5+3Tq4fkRV0P2q2oaZ75FB1Xcjns/HA6aDtDTVDNNHW7T0pmu6x1hkmY/C9l2N02rhsYJqIiLWDYl8z6UY/eT3bKmCg6R4Z8mllhz2PvnPXRbwOGHzuooJvMIOv01BhFHhR6+US4erXMuWlRWWyds/JsPe901yeEHhJDQhJda7mrgkF8qtxK4LuR7U+0nSPVJ9tDPl8zjY0hXyseyYWiKc8OJQT5fkFpUGPKWKUZOs1fJkcSPBsWic8Mt2oj/qPhetFxL8cnJvdPNro2XjVkAzRdI+8mbG5Q57HlUMy5JXFkUvmgcHnLgy+zifURIVED/tdPihd+n1UIWVVRs3Nj0v3B13nwclFQc9hQu72oKFMNbOzR0p6yHMlqumtpnukvil8dRY1KzTUxQnnGpr9jvTUpbHZK4/PNNYWTs3fKV6XlwB7dHqJdO2f6ve7/Yv5/E/Uhp+i39F625ZfqPdWe/P5fNK1f2qrR5tg8LmLCr6OGiagxHshxFGIpntkVuHuhD2GahG05VCNaLrRnsiuqdlrPe6V5h75s/NLQ96XvW7nU3PWBP18VuFu6+etTWKwF7m2X95I3xxTdZloqBJf9nWG6jykCj5N98hfzKUbbvWrcSvkf/+1yu97nnJjJ6I4hsIE7e2WMf7BZ58w1V72nTxrvb8iAYPPXb7N4Ot0Qp3fi/aDoaausdUjFK/XOHc3/PONsud4bchQPW62HbKH8PySvSHvT50n03SP6B8GN0Seb1un15qqE2flxYXrZfuRmqDtDzWM2haLVldZ5yufmLVG+n1UYZ3vtLdX0nSPnK4LPUTrBj8cmikvmsOcytbDNe1yjrQtfmme21OXKSvaP/h+/U6+sfMT8PsLBAafuzD4OpcN+6vDDveNzYxcfPhg9bmoPkBUZ4TR6Zvl8GnjfJDqmqCoGp6q/qOme8Ke76o6cda6zqi04D1n1fMv1iFLT/nBoHNwiTQ+e5vfcKDa+5+av1N+Y34gqkvgony3aPb65KJ+Hhn2+Ua/7zc2e+XKwRny/ILQR+lucNs4/+Dr/VaeHD4devKTU9Ts4QVhduoUMPjchcHXuUwzz++pNU72y/CAD7dAai1cH7MBbDg1dUYx6XHLtkr1WeP/72Rt87uOeszUioOSVnFQRqZuCnt/9mHRUKH7admBNgXXlkM18tORxgzAmgQeeQ1YWuG3/KKp2SsX9/PIy4vLpNuANL/ffb+PKoIm9bjBydoG0XSPjM/eFvSzeyYWyF0TCjrgWUXn9rdXBL3Hfzl2ebs+h0eml8jVr2W2OkoCBl+7mQigubUrMfg6F7XmbdnGw9JtYJrcMiZPRqdvlh4p6SGHEe3UEUxrH3YnzA/LCbnb/Y7+7NQHUbRrq9T10zcErwdUR49tOWJTob52T+KOvJ6YtVpueiPH73s/HZktvYYbOx0vLSqTfh+V+4VgR1cZCbQzTGFwEaPnYq/hwctL3OLXAUfVThzVR6KO8KN5TDD42sXPAMxGFMHHdXydy6tLyuWKQekiIn4TQW4YmS1/+2BtxNv2X2qco/r1O5HLL6np7v9asVN8Pv8SZCL+TWLDrbsLNLtot1zSP1VOhphFmLv5SJs/1LYfMT7gW1tvFYvfjl8Z1MLnxlE51nMt32dUkXnANrt1aem+hD1+Ivx93jrR9NDLUUambhJN97i2z2GoI772DL7PzJGIaI6KweBz3L8BKATwLcQQfOzO0Dk8MWuN3Dw6J+j7t7+9Qv4wxZi55/P5ZNLyHfKBuZfv8/mk6sRZawr7D4dmRnyMwAkt14/IksdmlMjbWVtl9e4T1gdC4Hm/1oTr/K2qw7T1Q+3nb+bKL97MbdN9KPVNzXLFoPSgILVP5lHDqv9Y2DLrM9bfiZPsOyilIRoJq9qp4arldLTAyS3tHXxT841lNtHUhwWDz3GvA3jc/H/UwdefjWg7hXsmFsjdIfZA/zBllXUkl7+tpXSYz+eTiXnbQ36AzFm1J+S6uU0HjSopS9YaRy93vBt6yEn9vK0q9lUn5EOt30fl0j0luCRaNOoam2Vp6T55fkGp1DU2y19nG81vA5dxNDR5xVN+0K88nH1dZUctsg5l9zFjB+axGSUhfydZGw/HNFzd3n4eZvZye3krwyi8cK6h9SNiMPgcdTWAbABfMr8OFXx9YbwIlQAqz//290XTQ08jp+Rz8+gceWJW8Lqxv32wVn46MltEROYUtayLU1VT1EV9oNsvmw/5F4ZW69dUmbI/B0zdV5dElUjbYasA0xZvZxmlz8JVf4mk79x11nNQrZg03SNHa1ovgt3s9cmH5szUoZ9FnmDUntTrGK6yjdrBWbTa2Xqn8VITlgIv7VWwetAnG+TSAalRPR4YfI56BsBBAHvMi5j/nh/uBmpyyz+XRC65Q+7n8/nksoFp0u+j4KP3fh+Vy+Xmub83bEWf7Zf+Syv8hr/U5V8rdvrdl6rluNzswafOBc0v2Su7zKMITU9ckeNj5prAu95b2ab7UX37Nh0M3eEhEvvv4+rXMkXTPTLCE1uIGdVu3LODmVFpFA5YFWaRevW5RmubA1tFucF1IWYua7pHMsIUTE+0FxaUyo+GLYvqumDwtavWZ3VeaATfy63UmnODsw1NcraBjUbDUR9U45ZtDfrZqDQj7OqbmuX5BaVyzdBMa/ahpvs3eP3t+JV+3bgDq1J8Xm6cw1MzJI/U1Mmswt3SaDa6zd18RGYU7EronnfhjmNtbjKrWigFdnhvzbkGY2fgyiEZcsWgdOv3EmsJuF7Dl8kLLloXpwoDbD9SE/Y6als7oipKa344NDNk8IV6/zvh8ZmrpXcrS38UMPjaVdTB11rlgUhytxyRU2edremnSmN1T0lz9HGSWeUB41zY3OLgqemqdYs6r3P72yvkoSktsw2rz/kP/9XUNUqPFOND/qVF/jtFMwqMc1Z7j3d89+tYVJ9rlK79U2NuuqyqwHywao/fgvxYj2hveiNHnpwdXJKto6iuDKFm0ir3vW80M3bjcif7Toj9EuuReLzun1QY9SgEGHzuooIv3goNiRqGao39ja2OLMifatgaaihv4Wpj7/7Z+aXWjs6L5mzDrI2hz8XVNzXLL8candbt1FrBaE7qu80fp66SG0Zmx3Q0utzWZd7n80nB9mNSuCP2CR+qa71bDPm0Ui7pnxpx8XVTs1f6vJUnD02J3Gi1vZ2ua5SL+oWuUNQew8mqGwiDL0l9ywy+v8+Lb33Tbts5HScFvrmdPsJMRo9ML5GfjQ49Xb/AHOZTlzP1TVJT1ygLSvaGXUYgIvKnqcVy2zj/ahgvLy6TKwdnJPS5t5eZ5tFqLEdr84qNnYZth8MPCUbjrvdWyv2TClu/Yjt5Zu7akP0PAz07v1R+ODSzQ7uc252ua7SW3gRerhqSIT8cmun4aIR6H93+dnT1X8HgcxcVfK0tbg4nUVPNWxP4Bl+7J3jd0RdZXWOz9Bq+TB4M0dZHpOXIXNONpqnRenHRerlqiH/I/XlGSatlzdxKVduIZXblmxnGEW5bzzE+OLlI7ng3cnGA9nTLmLygrgyhqCHRaSt3tcOzat3gTzaEDD1N9/idm7YvKUk0NRt6f5T9FsHgcxcVfH+N89xD4Y5j7RJ8PQdn+L3BY52g0NmpZqKhljIoaoJLLOdJx5rdz+3nge6eUCD3THRvDcfW3D+pMKbgfmFBaauL+qPx2IwS6TMm+sd1Ul1js1zczyOvfdb6ubvyfaesvzs3HPU9NadlyU1gTVR7GTMn5wPoH7ZUSIoGGHzuooIv3p5h2ZsOOx58qohxH1v/rU/WBzc+/SJTvxdVnSUUr9cnLy5cL/nbjkZ9vzmbjdf3s7KWklZ93sqTP88oadPz7UhqB2B6wBHMur0n5YNVe+TJ2Wv8qvzfP6kwIUdqz8xdKzeYayk7muriEe0avXeyjKO+HS6oNfro9JZ1o7uP1UrfeS1rLAPLmDnl8ZmrY6oCBAafu3zrB11F0z3yyPT4PshUw0on32Sqt9sTs1r29AIrZnyR+Xw+6/cSqmpLW6i2Q/auCb2GL5PnwjSVTQaqYLWme+TVJeWy53it3+9Q0z0y1jYl/qcjsxMyG/OlRWUJOXJMhEVrjF6CZVWnorq+KhuX5oIOEw/aap+qYgTjs7fJk7PXWG2CNN0jvYZHt8YuHr+L8XwtGHzucoEZfNGM9YfyYZy90mKhCgyr2nia7pHZRbsdezwnnaxtSPhwkb0H35wE/14amoyjbdVWKFRR6mRT39Qs1w5bZv3O/rFwvbz2WaVf8KmgazRbDUUzJNiagR9XyGUD3bEc5+/z1smVQzJClqQL5WiNsfM5IXe7w8+sdb8dv9J6nRqa/Gd432rW7+yekuboBKxoir7bgcHnLir44p1tpma8ORl8a/ectIbb9p8ymqUGVhNJBqrh6ns5wb3P2mKceR5u7Z6TjpyDufq1TGstn5rG/VZG5Ka2bldb3yQj0zYFTY6o2FctD08rtgp9q9dsan7b328jPMZyk0izaNvLbeOWx7REwefzyVVDMtq03jdR7DU6A91ing5RBaybHFj65PUaO3+xdLQBg89dVPDF23DSXoDXKaotzYqtR63GmYkOj/aguhYk+jzPK4vLpKeDe7d9xrSc01PLV2YUuGOGX1vZzxeplkHqfNbB6nMJHeJTE4XU7ND0DYfkjnfzrQ7u7aWp2SuXDkiNuSPLPRMLHF+vGw370XogNSr04iJjjerq3Ynrv6hEat4bDhh87qKCr7UebIE2HTwtzV6fTMjd7njwqXMyZVWnrPJR9iOO1rofu4G9I8KVQxIbUo/PXC0/T1C7nVAemFQkvx1vfOBlmvUdY5kg42aq/FreliPW9/LMItTjs7dZU/njqe8Z6P08o3qOKmx9jVlyq71nKB8wR01CdbuPRHWWX771aIcdtaqh9ucXlIZdy1t9rlE+WNVSYef4mdYLicdiygrjdVxQEv08AzD43EUF3y/HLm/91TMV7TD2gt/P2yHDzGohF/VzLvhUX7Ddx2ql2WtMQlBliY6dqZceKelWbzi3UmvBEvW7qjpx1qpgc9eEAvm9g8sL7J0d1I6OfdZjsgtcn3ekps5v+POeiQUJGUKeVWi8j1X/NlVrMrB7vdPUqYNPy4Kbz0aytLTlfH64jg5OUzu+rbV3sk+6+zBB7bFE/HsYxrLzBwafu/y3GXyxHDGouo99566zSmA5NZ4uYszY0vSWtWT28XU13d7JI85EUN3Nw52Uj8WZeuM8mxp+vOmNHHlilnM1IFM+NtqveL0+eX5BqVw1JMMV67mcZH+tEnU+edFqYybl1sM1Umu+hpruafcyZuood02Mw4DNXp+8vLhMNN0jwz/vmPZKR8xZxpNaaegbWKlowNIKqa1vknV7T4btRhGNfh+VW/cZS8k+MPjc5b+/3zXm805qyOb5BaXS21Yp4UwbK1uEo2pQqmC9cnCG1UZpjm1Iw80C+9x9tC7+vdD1Vaf8trlHSrqj/RTV632ouk5+/U6+3Pe+e8puOWXD/mr5hTmJItop/6351DzHu77qlJTuPWm9htdG2domUdR5sH0n4yvrddu45fJAmApBTlMFw+cVRx5mVEXt7ZfJ5g57vJ8V9qO9WEsmgsHnLv9lBl8sa17sbyB7RZVjCR5LV/65xH/yRq/hy6yi2mpGY6KOOFduOybPzF2b8HMYd00o8PsjfCcr/sk5yzYe9vudRzP00xaqOo+alRiq319nVFvfJCW7Ejc5QnU0L9pxXBab6+hUE1+ndhpDee2zSrmoX/zF3l9ZXCbdU9I6pEj5ur0tM7wj8fl80n9phby6pFyemrNGrhziX/mprjH25666n8Sz5hkMPnf5f9+7RDTdE1SPMRLVyVpduqektWkPsjVPzVkjN47Ksb6+cVSOPD3HWHLkVnsAABrjSURBVEMzwDaEGNhaJx7qvhJ9DuvGUTly69jlsmh1lXQbmCb9l8YfHmrITNM9Vt3CmQ7OsvR6ffKT11u6XasGtBQbNfyWs/mwNXN0Yt52a/izPTQ2e+XGUTkxndMPlFphnD97Zm589X3bYnlAE+Ro/cPsRKIu2ZtCdySJRE2yi3WIWITB5zr/1wy+WBbWqo7b6qLWzGw/4kw5o4emFPnNOu3zVp48Zp7fstftO1gdXcHYSNR9VR6Ir3v4mt0nZOU2/5Y1Pp/PL+zaek7OfsStLomYdRiJes3dUnkkGamjFU/5QXl1SblcPii9peXR5iOt30ECqIlpc1YF92yMVlOz1+qFF+0C+ERRBTMq9sX297n1cI1cPyLL2lGMZSnCrmO1cuOoHGvUJp7OMGDwucs3v3uJ9eH5wKQi+evsNVYZoHBeXVLu96Gr1kLF2pgzWre/vcKvssyv38m3alLeazbKNIK37XvN6r7ina4f6hxCTZ3RGV2Vwbr3/UL5XRvWQwUuvHZymFPZeOC0aHr86z3JWAKk6R5ZsnafPDytWG4Zk2ctLWiPdalNzV7rvaNmlsZLrUl9ZXFZ61dOEK/XWESv6ZGb50bi8/mke0qa/HRktswPsxwhd8sROWDruvCvFS0Vo7oNiK/yDhh87nJ+l4uDjh5a2xt8eFqx3/XVjMV4hgBEjCGg9A2Hwv78hpHZfsMqd9um79urOLR1EoL95HU8RbC9Xl/I4FOLvlWZtb99sFZ+8nr8i9j/ucTohzenaLfoH5a32zrGD9fuc2w4+4tAvQ/mFO32a/D705HZcReJj4X+obHDGmsj3lB8Pp+1A5xZGf5vN5HUMgxNb1uXCLWMRJ2vnpC7XbxenxTvPC5r95wQTfdYBagLA2aHxjsxBgw+d/lGiOBL33BQpq/cFXZtXJ8xeXLdiCzr+uo8ReAQXzTChYVd95Q0vwkV9r5mVwxKl17DjUoOhdtjf3y7Q9Ut67fi6T1Wfa4x5LaoPya19imazteRPDFrTdiGs+ReR2wFv3sOzrCOlh6eVtymc27RUu/NeAvSBzrX0Cw3jMxut1m+qvNCW3tBBn7ehbvYP5vaegoEDD5H/QBADoDNADYCGNXaDb7+neDgi7Q2Tg0V/Glqy1GfWhcUz56ffaHpoergCSXqKOwN2yLfR6eXyC/HLrcWs6rhzmUbYz9hbbf1cMsU6HiGD1VdR033nzGXYVY7UeuH1CJwVcEjVve+X8ghxyR02hzyVstz1NC3/mG5dE9Jc3xt5NWvGUc6e47XJuw+1bnfA1E2ZI3XCbNMmKbHNyPTLnBynv1ycT+jYL/9e68uKZeqE2fj/nsVYfA5rQuA68z/fw3ASgB3R7rBv39bC3rxVVmqUMGnFk8PsnVBVmuS4hkefHrOWr/HDlxGoNriTLYtWH1y9hq56Y0ca+jopUXGotqPS9vWo2/N7hN+b/ZYbT502rq9vf6iKuStJv+oqezx7j32GZMnjyZor53aT6PZV/IvM1eLpnusc0yqLFqiS2vZNSWwy4SdWi/3u/dWyum6ts+qDkftIGe1cedWxBhlOtvQJC8sKJXfTyyQWYW75fcTC2T17hNS39Tst8bS+Ltt+9wBMPja1XgAz0W6wnkXXCjdBvp3Mf64tKVf2Yb91X5DcnuO11pDgfY3hv0PORa938rzW+O265j/3ui2w8H3/dz8Uuk1fJnVBFeVgvqgDTPVRPyrwMQTLPZzEPa9ajV1Xc0GW9HGmXy9hmcldT+8L7JLB6RaRR9yzfqg6u8tUQvlQ4m3Pmc0VCWnO97Nd2yWZ/+lFdJtQPutHVRFrh9P0LlXMPjazX8BqALQI9KVzrvgQnkrY4v87r2WHlf2Aq+a7l8lwX6+Sv1ctQqamr9TvF6fLCjZG9WaunMNzdZeqDqJHFiwV+192esKvrqkXHoOzpCFq40jKRUkbf2jVut0rn4tM65zLvZC1PYZrvqH5dIjJd0aylJHhvE2071sYJoMaMM6QOo49oXUWw4ZRxJqh6mtIxaR2Ft7OeGtjC3WDrETbhu3vF0rBtU1NsvMgl1ytiExhQXA4GsXXwOQC+DlED/rC+NFqARQed4FF8qE3O1WBQk1rGgPPlUQWsT/fJX6ub1Nh32YIFx1kqZmr/h8PvnbB2utIx/VZX2crfO1iFFJRZ13VIZ8Wild+6dae5o7jp7xO2cSrzlmMeyHphTFdc4lfUPLELF9os0j00ukz5g862v1+3o3hrVESqhznpQ8fvx6y6QwtXN4tqFJug1Is8rwOUGVnVvv0FGlz+eTPmPypM+YvKCi3211uq5RLurnkdfNZsjJCAw+x30FwIcAxkVz5fMuuFCm5u+UJ2a1LAQfm7nFL/jsgaJqY+44eka2Ha6RvcfP+n0Y248EQ50jXLJ2n1w6IFUuHZAqmm6UPFMBc92ILKsii6LCpNhWWHZUmtHp4HXzxLpqjjqsjYVz1aQT1Y071nMu9ur19v5tvxy7XP40taUQsc/nk24D0mLuhybS0gn7/bzED1mR81Sxh8sHpfvtWNmb3yZaY7NXrhmaKfe+X+joBBpVPvCqIRkJLWahSuZ1VEeIRACDz3HTAcwE8KVornzeBRfKB6v2SN+566wP7aGfbfQLL3vvO9Vexz4E4PP55OJ+RpX5a2xrZDQ9uLLD7yf616zccbTlD+ThacXSO2CqsqrUYB86VOfMXly0Xi7pnyo+n0+ufi1TXlzUtu7QanGvKglWvi+2vWP7ELEaxvT5fHLFoPSgvfkbR+XIX2fHXr1FHd3OLW7b+UzqGPeZM5DtIwAiLU1q2zJzMJQ9x2utHbpEtucJpdnrk0/W75fLB6XL3RMKElbvVu3o7nd45qiTwOBz1E0ABMAGAGXm5flINzjvggtlydp9VrsRTffIP5eU+YXTYLMFkIjRlqNHSnrQC2svVm2/BBb57TW8Zahnd8BElhGejXJRP/92H6oXn32yiBqKfXR6idXUtc9bRpfwtizm7vdRhfRISZeSXSeCjtrqGpvl9dRNEWsqqgaV9vONam1f4BDuPRML4lqSUBplkV5yJzWyYh8BEGk5P7xodVVCH0+VFlOnJNqDGhW6f1JhQh7zvvcL5fa3VyTgmXUcMPjc5bwLLpTczUf8Sn/Zj/403SP/WNhyJPX0nJampHY3jMz2u41a33P9iCxreEWtY3phQakU7QjuibXEPLqzH2mpvVV75wcVhneOz7cqoDw0pUg03SNXDs6QnUfjG2bpO2+d/Pj1LGuyjr0P24KSvdb5v3DsnSLUUbIqUxX4gfbUnDUhf4+tWRFnkV5yB7WGL3AEoKnZKz8bnSu3jVuesEo89kpE8SzPiZfX65NXzB3pPm/lxTxyovh8PnncXPrx0qL2K43mBDD43OW8Cy6UDfurrRp46khKhYime+SJWS1Teh+cXCS/sRWMVu4cn2/dXlWGsC9TeDtrq5SZfeTCDbmon9t71Y1ON4Y57ItWF5nr4G4YmW0NGaV83LKuMN5hQFVBo6nZK5f0T5Uhn1b6/UzTje7pc1btkaGfbZTVASXaVNuei/t5JOVj/0a5gbU/B32yQbrGUb1FFQtYt/dkXNtIHWvb4Rr549RVsvlQcFHxucV7rBGWtp6Ly9p42DrtMH3lrg5pHDxn1R65pH+q1TA5VqrSjaYbM8aTGRh87nLBD7rKydoGv+UM6jzEmt0n5HfvrZT7J7VMI/7VuBXyx6mrgl5YVe1gyKeV1h/ZLnOBuaYbxV0/Wmcc0ZWG+dBWi+PtMxYHf7LBOo+nqAK53QakyW/HG8Wes2w96uIt2myvAXrjqJYOClUnzspF/Vp+L/aL/TxG/6UV0j0lza9foDo6DTzZH27RckOTV0anbw57rkd9ODrVCYM6TlOzV/qMyQu5oxSL03WN0m1AmjWJJlRFpPai6nnG2njZ6/VZxS1uHp3j6OL+9gAGn7v07NlTRIw6laqUz6/GrbAmlDw8rVhuta1pu35ElvSdty7ohVXVKAKPtoZ8WmkVhX1+Qalc0j814toYe+CIiLy0qCyoV6A95B40O0H7fD7J33ZUuvZPlafmrJEHJhfJHLModLT6jMmz9k4fnFxknVd4N9sIqW2Ha6Rr/1S/4LMvuP/HwvXyo2HLrPONIiKPzSiRa4ZmBjX9VBNoNh44bT3/lxaVyZNmp/Zwvc7U0G+yfxBQaLX1TXLN0Ey5672VISdz7D5WK0dqQgdZXWOz7Dx6Rn422ijcPr9kb5vLe7XVsTP18ut38qXn4Iyg4hSRDPnUmFndtX9q2O1NJmDwuYsKPhGx1tKpCShVJ87K3+etk+tHZIlI5Gn4mw+dlj/PKAnZhf1T8whN0z1+ffVCeWR6iVUZXcQ4p2hvQivS0lNM0z1WXz7lLtuRq6bHVkndXhHlxUXrrYkzd47Pl1+NM0JQDTWqi33B/ZOz18jNo3OsI8fqc43StX9qyKazeVuOiKYb1TuavT6/voKa7rEq9wca9rkxASjRHeLJPdQogdoJLdxhrAkt3nlcLumfKjeMzJYaszzY5kOn5b73C2Xssq1yva1w/DVDMzs89JQdR89I95Q0eXhacVRDrqfONlinWDrLDh4YfO5iDz57dwFN98iZ+iYZ+HGFdBtoLOauNYcix2RuifASB9uwv9q6z34fRT7JPtz8YC/ZdUL6zl0nvxy7PGhGl5rSr+meoKPPFxaU+m1DLH843WwVUdRRXvm+U36TVRS1k2Bf43jv+4Xy2/Er5ZHpJXLLmDxrTaMqTWWnCmK/9lml3GIOb9kv4UolvbhwvVzDZrCdms/n8+u5ePvbK8Tn88mDk4v8zqMX7jgmv3mn5dz6Jf1T5Y5382XR6irXTf1Xo0mtFZI/crrOOjcZqVVZsgGDz13swaeCTdM9cukA47yaKkV0rqHZ6j4Qa1mi+qaW2WULWqnnqdbt2fvsBYbAGdvzDJwdp9b4qUtqRXSLXgMroqgKNWroMVQdxetHZMmTs9fI5kOnpfpco/QavkyenL1Gnp1fKr2GZ8kri8vksoFpIfe87TPu1IQG+3KIcG2HHg2oAkOd24wCoyauOgf/bvY2q2KRuoxO3yzTVu5qt+UK8TjX0Cw3jsqR60dkhR3ytNe6HZm2qVONaoDB5y724LN/GF8xyFirp/7wdhw9IwVmPc2MONoPTczbLt1T0lptiVJ5oNrvj1rTW2ZI2l1urk+yz7wUMSbU3D+pUNI3HJQeKelRF3PeaR5FziwwQt3eYugnr2eHnH35yPSSoOc6r3ivDFhaIZcOSJXrRmRFLHatbqNKMZ1raJb5JXutNZXPzi+VE7UNfo99x7v5fpONqHOrrW+y3ut3TyiwzhVXnTgrA5ZWyKPTS1wzpNmaNbtPSM/BGdJreFbQjuTS0n3WuckJuds76Bk6Bww+d7EHX5PZNsV+fkwtMZhbvMeqZRlvm46mgAkeodQ3NVsz0tRl0vLg8lw3vZEjmh55BqdaS/To9BLZfaxWTp1tkOkrd8nxM/Xy93nr/Do+LDMnzKhmuj6fz2q2G6602HxzbZ+63Dk+X+oam60JKJrukRkF4Y+O1dFk4M7A4dN1co+two2q6amqwLy8OLnXNFFsKvZVy6dlB5Im4CJZt/ekXDtsmXTtnyovLlwv7+VssyayaHp8rc2SARh87mIPPp/PFxR8zV6fXDUkQ56Zu1ZeWmQM3TU0tR5gbaEWo2u6R64bkeVX1kxR5zsi7R2erG2wFsBeO2yZ1YgzcBs3Hzotd7xrnCs5crplBtn8kr1y8+gca+ZlKI3NXtl44LQM/3yj9XvJ3XzEuv+qE2fD3vZcQ3PYSjD21+IGc6G7GgZmnU5KZgdOnZMHJhX5/R3+bHRuwotbuwkYfO5iDz6RluE3+zoiVcnlkv6pCetPFYmaWDLok+AhTkXtJX4aRemu8n2nrMX4908q9Jv9lr7hYNhh03j5fD75vPxA3BUrFHWe8a73jLWKt7+9wjzi5ho+Sm5er0+O1NTJlkM1klZx0PEO7h0NDD53CRd8qleYSEspsSsGpcumg+GPfhLlRG2DpHy8QfYej3y0NL9kb9D6uHAOn66T3M1HrOnUaghX0z3yo2HL4i5z5rS/zjZKm6lC3GxAS5R8wOBzl3DBZ595Vd/ULGOXbZVtEQo0Jxufzyf/XFIm975fGHIo1S1UGbS+89b5ne8jouQBBp+7hAu+zj70kCzSKvz7G0a7PIOI3AMMPncJF3yhKrBQ+/N6fVZt0tYmyxCRO4HB5y7hgk+VRCJ3yKw8xKM9oiQFBp+7hAs+p5csEBF9UYDB5y7hgq8j+ncREXVGYPC5S7jgIyKixACDz3G9AWwEsAPANABfiXRlBh8RkbPA4HPUl2EE3hXm14sB/DnSDRh8RETOAoPPUT8BkG/7+nYAn0W6AYOPiMhZYPA56j4A82xfXw5gfaQbMPiIiJwFBp+j7kfrwdcXxotQCaCyS5cufi/QhNztCSvWTEREDD6nhRrq/DzSDQKP+IiIKLHA4HPUVwDsgv/klr9EugGDj4jIWWDwOe4WAJsA7AQwA8BXI12ZwUdE5Cww+NyFwUdE5Cww+NyFwUdE5Cww+NyFwUdE5Cww+NyFwUdE5Cww+NyFwUdE5Cww+NyFwUdE5Cww+NyFwUdE5Cww+NyFwUdE5Cww+NyFwUdE5Cww+NyFwUdE5Cww+NyFwUdE5Cww+NyFwUdE5Cww+NyFwUdE5Cww+NyFwUdE5Cww+NyFwUdE5Cww+NyFwUdE5Cww+NyFwUdE5Cww+NyFwUdE5Cww+NyFwUdE5Cww+BxxG4C1MH655QAeivaGDD4iImeBweeIawF83/z/dwEcAfCtaG7I4CMichYYfO2iAsBV0VyRwUdE5Cww+Bx3E4CdAL4azZUZfEREzgKDL26ZMH55gZcRtutcCGAXjPALp6/99l26dOno9wQRUacGBp9jvg1gE4B7Y7kRj/iIiJwFBp8jzgdQCuAvsd6QwUdE5Cww+BwxEEAdgDLb5cZobsjgIyJyFhh87sLgIyJyFhh87sLgIyJyFhh87sLgIyJyFhh87sLgIyJyFhh87sLgIyJyFhh87sLgIyJyFhh87sLgIyJyFhh87sLgIyJyFhh87sLgIyJyFhh87sLgIyJyFhh87sLgIyJyFhh87sLgIyJyFhh87sLgIyJyFhh87sLgIyJyFhh87sLgIyJyFhh87sLgIyJyFhh87sLgIyJyFhh87sLgIyJyFhh87sLgIyJyFhh8jjoPQBmA7GhvwOAjInIWGHyOGgjgAzD4iIhcAww+x3QHkAmgDxh8RESuAQafI74EIAdADwC9weAjInINMPjilgnjlxd4GQHgGQDDzOv1RuTg62u/fZcuXTr6PUFE1KmBweeIeQCqAOwBcBhAHYC0aG7IIz4iImeBwee43uBQJxGRa4DB57jeYPAREbkGGHzuwuAjInIWGHzuwuAjInIWGHzuwuAjInIWGHzuwuAjInIWGHzuwuAjInIWGHzuwuAjInIWGHzuwuAjInIWGHzuwuAjInIWGHzuwuAjInIWGHzuwuAjInIWGHzuwuAjInIWGHzuwuAjInIWGHzuwuAjInIWGHzuwuAjInIWGHzuwuAjInIWGHzuwuAjInIWGHzuwuAjInIWGHzuwuAjInIWGHzuwuAjInIWGHyOuQxALoBNALYA6BXNjRh8RETOAoPPEV8GUAbgJvPrfwfwzWhuyOAjInIWGHyOuB3Ax/HckMFHROQsMPgc8QKA+QA8ANYDeA/GUV+rGHxERM4Cgy9umTB+eYGXEQBeBnAYwPcAfAXATACDwtxPX/vtu3Tp0tHvCSKiTg0MPkc8COAj29d3APgkmhvyiI+IyFlg8DnifAAb0TKh5W0Ar0d522qEPpLsqMtBFzwHbkfn3JbOsh2daVu+KNtRDXLEfQA2mJeFAL7RsU8nbpUd/QQSpLNsB9B5tqWzbAfQebaF20GEzvMG6izbAXSebeks2wF0nm3hdhCh87yBOst2AJ1nWzrLdgCdZ1u4HUQwZp12Bp1lO4DOsy2dZTuAzrMt3A4iIiIiIiIiSiLvAtgPoDng+28A2AFgG4wZqcr3AOSb318OoIvtZw+a39+J6JdrJEqo7egN4AyMOqll8C8b59bt+AGAHACbYSyBGWX7WbK9JuG2pTeS73VZBuO5bgDwIYwlSkDyvSZA6G3pjeR7TZSJ8P+7T8bXhNrZzQC+A/83zq0w3iBfgfFmqQLwdfNncwE8Zf6/L4wqNICxRrEKxpvpqwCKAPzCySceINR29AaQHeb6bt2OLgCuM///NQArAdyN5HxNwm1LbyTf62IvKv8OgNeQnK+Jeg6K2pbeSL7XBAB+BmA2Wv7uk/U1oQ5iD4xJAB63fb0AwL3m/6vRUmf0PwGcNP//EIA5tts8DWB84p9mq6INPrdvhzIewHNI7tdEUdvSG8n7unwZwGQAQ5D8r4l9W3oj+V6TfwNQCOBbaPm7T/bXhNqZPTA+B3Cb7evRMApt/zeAAwG3OwJjj+ll+A8R/AZxdqRoo8DgqwZQDmMv8Hbz+8mwHQDwXzD2RHsguV8TwH9beiM5X5ePARwHkAfjKCKZX5PAbemN5HtNXkdLyKm/+2R+TagD2APDg9BvngsQ/s3zCtzx5rFvx/loORfTE8A+ABcjObbjazAaF79sfp3Mr0ngtiT76/IBgMeQ3K8J4L8tyfaaXA3jCPVL5tfq7z7ZXxNqZ60Ndd4H400WOFxwyvx/qOGC9xx5ppEFTtKxW4jk2I6vwJh0MM72vWR9TUJtS6BkeV2UOwF8iuR9TezUtgRy+2vyDIz6m3vMi5j/zkTyvybUjuyBcRv8TxDvQ0tt0XnwP0E82/z/N83r2U8Q93H2KYdk344uaNkj/B6AvTCG2gB3b8d0GH/AX7J9L1lfk1DbkmyvyzfQMgPwywCmABiJ5HxNwm1Lsr0mgdTffTK+JtQBpsBYBiDmvxPN778JY2rvdgAP2K7/Axiz87bDeIN9z/azP5jf3wn/afjtIdR2PAtjGr2aov2I7fpu3Y6bYGzDBrQ87+fNnyXbaxJuW5LtdfkugDUAKmCUvpoO4D/MnyXbaxJuW5LtNQlk3+FNtteEiIiIiIiIiIiIiIiIiIiIiIiIiIiIiIiIiIiIiIiIiIiIiIiIiIiIiIiIiIiIiIiIiIiIiIiIiIiIiIiIiIiIiIiIiIiIiIiIiIiIqJ38f1hPZyh+Qz5eAAAAAElFTkSuQmCC\" width=\"431.1333333333333\">"
      ],
      "text/plain": [
       "<IPython.core.display.HTML object>"
      ]
     },
     "metadata": {},
     "output_type": "execute_result"
    },
    {
     "data": {
      "text/plain": [
       "[<matplotlib.lines.Line2D at 0x1eb535fab00>]"
      ]
     },
     "execution_count": 223,
     "metadata": {},
     "output_type": "execute_result"
    }
   ],
   "source": [
    "fig6, ax6 = plt.subplots()\n",
    "# plot the ratio of the 191 K spectrum and the big spectrum\n",
    "ax6.plot(K191/big)"
   ]
  },
  {
   "cell_type": "code",
   "execution_count": 224,
   "metadata": {
    "collapsed": false
   },
   "outputs": [
    {
     "data": {
      "text/plain": [
       "<IPython.core.display.Javascript object>"
      ]
     },
     "metadata": {},
     "output_type": "display_data"
    },
    {
     "data": {
      "text/html": [
       "<img src=\"data:image/png;base64,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\" width=\"431.1333333333333\">"
      ],
      "text/plain": [
       "<IPython.core.display.HTML object>"
      ]
     },
     "metadata": {},
     "output_type": "execute_result"
    },
    {
     "data": {
      "text/plain": [
       "<matplotlib.legend.Legend at 0x1eb535cc5f8>"
      ]
     },
     "execution_count": 224,
     "metadata": {},
     "output_type": "execute_result"
    }
   ],
   "source": [
    "file4 = 'GUA_8e-09_90 sec _seq anneal_anneal to 249 K.0.dpt'\n",
    "\n",
    "colnames = ['Wavenumber', 'Intensity']\n",
    "IR_spectra249 = pd.read_csv(file4, '\\t', header=None, names=colnames, dtype=float)\n",
    "IR_spectra249.set_index(colnames[0], inplace=True)\n",
    "\n",
    "K249 = normalize_wrt(X=IR_spectra249,x_max_val=np.max(IR_spectra249))\n",
    "fig7, ax7 = plt.subplots()\n",
    "ax7.plot(K249, label='249K')\n",
    "plt.legend()"
   ]
  },
  {
   "cell_type": "code",
   "execution_count": 232,
   "metadata": {
    "collapsed": false
   },
   "outputs": [
    {
     "data": {
      "text/html": [
       "<div>\n",
       "<table border=\"1\" class=\"dataframe\">\n",
       "  <thead>\n",
       "    <tr style=\"text-align: right;\">\n",
       "      <th></th>\n",
       "      <th>Intensity</th>\n",
       "    </tr>\n",
       "    <tr>\n",
       "      <th>Wavenumber</th>\n",
       "      <th></th>\n",
       "    </tr>\n",
       "  </thead>\n",
       "  <tbody>\n",
       "    <tr>\n",
       "      <th>757.9</th>\n",
       "      <td>0.391769</td>\n",
       "    </tr>\n",
       "    <tr>\n",
       "      <th>756.0</th>\n",
       "      <td>0.343718</td>\n",
       "    </tr>\n",
       "    <tr>\n",
       "      <th>754.1</th>\n",
       "      <td>0.305002</td>\n",
       "    </tr>\n",
       "    <tr>\n",
       "      <th>752.1</th>\n",
       "      <td>0.284121</td>\n",
       "    </tr>\n",
       "    <tr>\n",
       "      <th>750.2</th>\n",
       "      <td>0.277000</td>\n",
       "    </tr>\n",
       "    <tr>\n",
       "      <th>748.3</th>\n",
       "      <td>0.274610</td>\n",
       "    </tr>\n",
       "    <tr>\n",
       "      <th>746.4</th>\n",
       "      <td>0.265100</td>\n",
       "    </tr>\n",
       "    <tr>\n",
       "      <th>744.4</th>\n",
       "      <td>0.243524</td>\n",
       "    </tr>\n",
       "    <tr>\n",
       "      <th>742.5</th>\n",
       "      <td>0.210439</td>\n",
       "    </tr>\n",
       "    <tr>\n",
       "      <th>740.6</th>\n",
       "      <td>0.167883</td>\n",
       "    </tr>\n",
       "    <tr>\n",
       "      <th>738.6</th>\n",
       "      <td>0.127570</td>\n",
       "    </tr>\n",
       "    <tr>\n",
       "      <th>736.7</th>\n",
       "      <td>0.101870</td>\n",
       "    </tr>\n",
       "    <tr>\n",
       "      <th>734.8</th>\n",
       "      <td>0.087570</td>\n",
       "    </tr>\n",
       "    <tr>\n",
       "      <th>732.9</th>\n",
       "      <td>0.081272</td>\n",
       "    </tr>\n",
       "    <tr>\n",
       "      <th>730.9</th>\n",
       "      <td>0.085817</td>\n",
       "    </tr>\n",
       "  </tbody>\n",
       "</table>\n",
       "</div>"
      ],
      "text/plain": [
       "            Intensity\n",
       "Wavenumber           \n",
       "757.9        0.391769\n",
       "756.0        0.343718\n",
       "754.1        0.305002\n",
       "752.1        0.284121\n",
       "750.2        0.277000\n",
       "748.3        0.274610\n",
       "746.4        0.265100\n",
       "744.4        0.243524\n",
       "742.5        0.210439\n",
       "740.6        0.167883\n",
       "738.6        0.127570\n",
       "736.7        0.101870\n",
       "734.8        0.087570\n",
       "732.9        0.081272\n",
       "730.9        0.085817"
      ]
     },
     "execution_count": 232,
     "metadata": {},
     "output_type": "execute_result"
    }
   ],
   "source": [
    "\n",
    "bCCO_191 = K191.loc[744.4]\n",
    "K191.iloc[1680:1695]\n",
    "# nCC_191 = K191.loc[1508.1]\n",
    "# K191.loc[1508.1]\n",
    "# df.loc[df['favcount'].argmax(), 'sn']\n",
    "# K191.max(axis=1).idxmax()\n",
    "# K191.max(axis=0)"
   ]
  },
  {
   "cell_type": "code",
   "execution_count": 196,
   "metadata": {
    "collapsed": false
   },
   "outputs": [
    {
     "data": {
      "text/plain": [
       "Wavenumber\n",
       "3997.9    0.228644\n",
       "3996.0    0.237673\n",
       "3994.1    0.244772\n",
       "3992.1    0.245081\n",
       "3990.2    0.247781\n",
       "3988.3    0.254881\n",
       "3986.3    0.255961\n",
       "3984.4    0.243074\n",
       "3982.5    0.229570\n",
       "3980.6    0.233969\n",
       "3978.6    0.247396\n",
       "3976.7    0.250328\n",
       "3974.8    0.242457\n",
       "3972.8    0.235821\n",
       "3970.9    0.239293\n",
       "3969.0    0.246470\n",
       "3967.1    0.242534\n",
       "3965.1    0.231731\n",
       "3963.2    0.228567\n",
       "3961.3    0.231885\n",
       "3959.3    0.233737\n",
       "3957.4    0.230573\n",
       "3955.5    0.229107\n",
       "3953.6    0.235435\n",
       "3951.6    0.243537\n",
       "3949.7    0.243923\n",
       "3947.8    0.234586\n",
       "3945.8    0.227718\n",
       "3943.9    0.232271\n",
       "3942.0    0.236129\n",
       "            ...   \n",
       "705.9     0.341539\n",
       "703.9     0.263060\n",
       "702.0     0.343391\n",
       "700.1     0.453739\n",
       "698.1     0.444016\n",
       "696.2     0.366463\n",
       "694.3     0.397870\n",
       "692.4     0.535612\n",
       "690.4     0.608612\n",
       "688.5     0.556679\n",
       "686.6     0.548113\n",
       "684.6     0.632765\n",
       "682.7     0.603364\n",
       "680.8     0.437302\n",
       "678.9     0.297091\n",
       "676.9     0.131877\n",
       "675.0     0.030789\n",
       "673.1     0.221545\n",
       "671.1     0.414384\n",
       "669.2     0.362219\n",
       "667.3     0.326183\n",
       "665.4     0.373871\n",
       "663.4     0.478046\n",
       "661.5     0.760553\n",
       "659.6     1.000000\n",
       "657.6     0.935412\n",
       "655.7     0.627903\n",
       "653.8     0.231422\n",
       "651.9     0.000000\n",
       "649.9     0.046917\n",
       "dtype: float64"
      ]
     },
     "execution_count": 196,
     "metadata": {},
     "output_type": "execute_result"
    }
   ],
   "source": [
    "K191.loc[lambda x: ]"
   ]
  },
  {
   "cell_type": "code",
   "execution_count": null,
   "metadata": {
    "collapsed": true
   },
   "outputs": [],
   "source": []
  }
 ],
 "metadata": {
  "kernelspec": {
   "display_name": "Python [conda root]",
   "language": "python",
   "name": "conda-root-py"
  },
  "language_info": {
   "codemirror_mode": {
    "name": "ipython",
    "version": 3
   },
   "file_extension": ".py",
   "mimetype": "text/x-python",
   "name": "python",
   "nbconvert_exporter": "python",
   "pygments_lexer": "ipython3",
   "version": "3.5.2"
  }
 },
 "nbformat": 4,
 "nbformat_minor": 2
}
